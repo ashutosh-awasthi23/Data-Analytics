{
 "cells": [
  {
   "cell_type": "markdown",
   "metadata": {},
   "source": [
    "<!-- 1. Write a Pandas program to create\n",
    "a) Datetime object for Jan 15 2012.\n",
    "b) Specific date and time of 9:20 pm.\n",
    "c) Local date and time.\n",
    "d) A date without time.\n",
    "e) Current date.\n",
    "f) Time from a datetime.\n",
    "g) Current local time.\n",
    " -->"
   ]
  },
  {
   "cell_type": "markdown",
   "metadata": {},
   "source": [
    "### 1. Write a Pandas program to create\n",
    "\n",
    "a) Datetime object for Jan 15 2012.\n",
    "\n",
    "b) Specific date and time of 9:20 pm.\n",
    "\n",
    "c) Local date and time.\n",
    "\n",
    "d) A date without time.\n",
    "\n",
    "e) Current date.\n",
    "\n",
    "f) Time from a datetime.\n",
    "\n",
    "g) Current local time.\n"
   ]
  },
  {
   "cell_type": "code",
   "execution_count": 18,
   "metadata": {},
   "outputs": [],
   "source": [
    "import pandas as pd\n",
    "from datetime import datetime\n",
    "from datetime import date\n",
    "from datetime import time"
   ]
  },
  {
   "cell_type": "code",
   "execution_count": 40,
   "metadata": {},
   "outputs": [
    {
     "name": "stdout",
     "output_type": "stream",
     "text": [
      "2012-01-15 00:00:00\n"
     ]
    }
   ],
   "source": [
    "# Datetime object for Jan 15, 2012\n",
    "d = datetime(2012, 1, 15)\n",
    "print(d)"
   ]
  },
  {
   "cell_type": "code",
   "execution_count": 39,
   "metadata": {},
   "outputs": [
    {
     "name": "stdout",
     "output_type": "stream",
     "text": [
      "2012-01-15 09:20:00\n"
     ]
    }
   ],
   "source": [
    "# Specific date and time of 9:20 pm.\n",
    "sd = datetime(2012, 1, 15, 9, 20, 0)\n",
    "print(sd)"
   ]
  },
  {
   "cell_type": "code",
   "execution_count": 21,
   "metadata": {},
   "outputs": [
    {
     "name": "stdout",
     "output_type": "stream",
     "text": [
      "Current Local date and time now:  2024-10-21 14:50:37.633393\n"
     ]
    }
   ],
   "source": [
    "# Local date and time.\n",
    "dt = datetime.now()\n",
    "print(\"Current Local date and time now: \", dt)"
   ]
  },
  {
   "cell_type": "code",
   "execution_count": 38,
   "metadata": {},
   "outputs": [
    {
     "name": "stdout",
     "output_type": "stream",
     "text": [
      "A date without time:  2024-10-21\n"
     ]
    }
   ],
   "source": [
    "# A date without time.\n",
    "dwt = date(2024, 10, 21)\n",
    "print(\"A date without time: \", dwt)"
   ]
  },
  {
   "cell_type": "code",
   "execution_count": 41,
   "metadata": {},
   "outputs": [
    {
     "name": "stdout",
     "output_type": "stream",
     "text": [
      "Current date:  2024-10-21\n"
     ]
    }
   ],
   "source": [
    "# Current date\n",
    "dt = datetime.now()\n",
    "\n",
    "# Extract date from datetime object\n",
    "current_date = dt.date()\n",
    "\n",
    "print(\"Current date: \", current_date)"
   ]
  },
  {
   "cell_type": "code",
   "execution_count": 44,
   "metadata": {},
   "outputs": [
    {
     "name": "stdout",
     "output_type": "stream",
     "text": [
      "Extracted time:  09:20:00\n"
     ]
    }
   ],
   "source": [
    "# Time from a datetime.\n",
    "extracted_time = sd.time()\n",
    "print(\"Extracted time: \", extracted_time)"
   ]
  },
  {
   "cell_type": "code",
   "execution_count": 45,
   "metadata": {},
   "outputs": [
    {
     "name": "stdout",
     "output_type": "stream",
     "text": [
      "Current local time: 15:00:10.549634\n"
     ]
    }
   ],
   "source": [
    "# Current local time.\n",
    "dt = datetime.now()\n",
    "current_local_time = dt.time()\n",
    "print(\"Current local time:\", current_local_time)"
   ]
  },
  {
   "cell_type": "code",
   "execution_count": 55,
   "metadata": {},
   "outputs": [
    {
     "name": "stdout",
     "output_type": "stream",
     "text": [
      "Extracted from datetime--> Day: 21, Month: 10, Year: 2024\n"
     ]
    }
   ],
   "source": [
    "print(f\"Extracted from datetime--> Day: {dt.day}, Month: {dt.month}, Year: {dt.year}\")"
   ]
  },
  {
   "cell_type": "code",
   "execution_count": 60,
   "metadata": {},
   "outputs": [
    {
     "name": "stdout",
     "output_type": "stream",
     "text": [
      "Extracted from datetime--> Hour: 15, Minute: 0, Second: 10, Microsecond: 549634\n"
     ]
    }
   ],
   "source": [
    "print(f\"Extracted from datetime--> Hour: {dt.hour}, Minute: {dt.minute}, Second: {dt.second}, Microsecond: {dt.microsecond}\")"
   ]
  },
  {
   "cell_type": "markdown",
   "metadata": {},
   "source": [
    "### 2. Write a Pandas program to create\n",
    "`a) a specific date using timestamp.`\n",
    "\n",
    "`b) date and time using timestamp.`\n",
    "\n",
    "`c) a time adds in the current local date using timestamp.`\n",
    "\n",
    "`d) current date and time using timestamp.`"
   ]
  },
  {
   "cell_type": "code",
   "execution_count": 64,
   "metadata": {},
   "outputs": [],
   "source": [
    "from datetime import datetime"
   ]
  },
  {
   "cell_type": "code",
   "execution_count": 81,
   "metadata": {},
   "outputs": [
    {
     "name": "stdout",
     "output_type": "stream",
     "text": [
      "Date converted from timestamp: 1970-01-01\n",
      "Time in IST converted from timestamp: 05:30:08\n",
      "Date and Time converted from timestamp: 1970-01-01 05:30:08\n"
     ]
    }
   ],
   "source": [
    "# a) a specific date using timestamp.\n",
    "# b) date and time using timestamp.\n",
    "\n",
    "\n",
    "# Seconds elapsed since unix epoch\n",
    "timestamp = 8\n",
    "\n",
    "dt = datetime.fromtimestamp(timestamp)\n",
    "\n",
    "# a\n",
    "print(\"Date converted from timestamp:\", dt.date())\n",
    "print(\"Time in IST converted from timestamp:\", dt.time())\n",
    "\n",
    "# b\n",
    "print(\"Date and Time converted from timestamp:\", dt)"
   ]
  },
  {
   "cell_type": "code",
   "execution_count": 89,
   "metadata": {},
   "outputs": [
    {
     "name": "stdout",
     "output_type": "stream",
     "text": [
      "Current local date-time: 2024-10-21 15:20:39.449664\n",
      "\n",
      "Current local time + 300 seconds: 15:25:39.449664\n"
     ]
    }
   ],
   "source": [
    "# c) a time adds in the current local date using timestamp.\n",
    "\n",
    "timestamp = 300\n",
    "current_timestamp = datetime.now().timestamp()\n",
    "\n",
    "print(\"Current local date-time:\", datetime.fromtimestamp(current_timestamp))\n",
    "print(f\"\\nCurrent local time + {timestamp} seconds:\", datetime.fromtimestamp(current_timestamp + timestamp).time())"
   ]
  },
  {
   "cell_type": "code",
   "execution_count": 91,
   "metadata": {},
   "outputs": [
    {
     "name": "stdout",
     "output_type": "stream",
     "text": [
      "Current local date-time: 2024-10-21 15:23:28.485579\n"
     ]
    }
   ],
   "source": [
    "# d) current date and time using timestamp.\n",
    "\n",
    "current_timestamp = datetime.now().timestamp()\n",
    "print(\"Current local date-time:\", datetime.fromtimestamp(current_timestamp))"
   ]
  },
  {
   "cell_type": "markdown",
   "metadata": {},
   "source": [
    "### 3. Write a Pandas program to create a date from a given year, month, day and another date from a given string formats.\n"
   ]
  },
  {
   "cell_type": "code",
   "execution_count": 124,
   "metadata": {},
   "outputs": [
    {
     "name": "stdout",
     "output_type": "stream",
     "text": [
      "Date from given data:  2024-10-21 00:00:00\n",
      "2024-10-21\n",
      "Time from string: 2024-10-24 12:45:00\n"
     ]
    }
   ],
   "source": [
    "y = 2024\n",
    "m = 10\n",
    "d = 21\n",
    "date_time_string = \"24 October 2024 12:45:00\"\n",
    "\n",
    "dt = pd.Timestamp(day=d, month=m, year=y)\n",
    "print(\"Date from given data: \", dt)\n",
    "print(dt.date())\n",
    "\n",
    "date = pd.to_datetime(date_time_string)\n",
    "print(\"Time from string:\", date)"
   ]
  },
  {
   "cell_type": "markdown",
   "metadata": {},
   "source": [
    "4.Write a Pandas program to print the day after and before a specified date. Also\n",
    "print the days between two given dates.\n"
   ]
  },
  {
   "cell_type": "code",
   "execution_count": 137,
   "metadata": {},
   "outputs": [
    {
     "name": "stdout",
     "output_type": "stream",
     "text": [
      "5 days, 0:00:00\n",
      "2024-10-25\n"
     ]
    }
   ],
   "source": [
    "date1=pd.to_datetime(\"2024-10-24\").date()\n",
    "date2=pd.to_datetime(\"2024-10-29\").date()\n",
    "print(date2-date1)\n",
    "\n",
    "a=date1+pd.Timedelta(days=1)\n",
    "print(a)"
   ]
  },
  {
   "cell_type": "markdown",
   "metadata": {},
   "source": [
    "### 5.Write a Pandas program to create a time-series with two index labels and random values. Also print the type of the index."
   ]
  },
  {
   "cell_type": "code",
   "execution_count": 157,
   "metadata": {},
   "outputs": [
    {
     "data": {
      "text/plain": [
       "DatetimeIndex(['2024-01-31', '2024-02-29', '2024-03-31', '2024-04-30',\n",
       "               '2024-05-31'],\n",
       "              dtype='datetime64[ns]', freq='M')"
      ]
     },
     "execution_count": 157,
     "metadata": {},
     "output_type": "execute_result"
    }
   ],
   "source": [
    "# 'M': Month-end frequency.\n",
    "# 'W': Week frequency (default is Sunday).\n",
    "# 'H': Hourly frequency.\n",
    "# 'T' or 'min': Minute frequency.\n",
    "# 'S': Second frequency.\n",
    "import numpy as np\n",
    "\n",
    "\n",
    "d1=pd.date_range(start=\"2024-01-01\",periods=5,freq=\"M\")\n",
    "d2=np.random.randint(1,10,5)\n",
    "time_series=pd.Series(d2,index=d1)\n",
    "time_series.index"
   ]
  },
  {
   "cell_type": "markdown",
   "metadata": {},
   "source": [
    "### 6. Write a Pandas program to create a time-series from a given list of dates as strings."
   ]
  },
  {
   "cell_type": "code",
   "execution_count": 158,
   "metadata": {},
   "outputs": [
    {
     "data": {
      "text/html": [
       "<div>\n",
       "<style scoped>\n",
       "    .dataframe tbody tr th:only-of-type {\n",
       "        vertical-align: middle;\n",
       "    }\n",
       "\n",
       "    .dataframe tbody tr th {\n",
       "        vertical-align: top;\n",
       "    }\n",
       "\n",
       "    .dataframe thead th {\n",
       "        text-align: right;\n",
       "    }\n",
       "</style>\n",
       "<table border=\"1\" class=\"dataframe\">\n",
       "  <thead>\n",
       "    <tr style=\"text-align: right;\">\n",
       "      <th></th>\n",
       "      <th>value</th>\n",
       "    </tr>\n",
       "    <tr>\n",
       "      <th>li</th>\n",
       "      <th></th>\n",
       "    </tr>\n",
       "  </thead>\n",
       "  <tbody>\n",
       "    <tr>\n",
       "      <th>2024-05-2022</th>\n",
       "      <td>1</td>\n",
       "    </tr>\n",
       "    <tr>\n",
       "      <th>2024-06-2023</th>\n",
       "      <td>2</td>\n",
       "    </tr>\n",
       "    <tr>\n",
       "      <th>2024-07-2024</th>\n",
       "      <td>3</td>\n",
       "    </tr>\n",
       "  </tbody>\n",
       "</table>\n",
       "</div>"
      ],
      "text/plain": [
       "              value\n",
       "li                 \n",
       "2024-05-2022      1\n",
       "2024-06-2023      2\n",
       "2024-07-2024      3"
      ]
     },
     "execution_count": 158,
     "metadata": {},
     "output_type": "execute_result"
    }
   ],
   "source": [
    "p={\"li\":[\"2024-05-2022\",\"2024-06-2023\",\"2024-07-2024\"],\n",
    "\"value\":[1,2,3]}\n",
    "df=pd.DataFrame(p)\n",
    "df.set_index(\"li\")"
   ]
  },
  {
   "cell_type": "markdown",
   "metadata": {},
   "source": [
    "### 7. Write a Pandas program to create a time series object that has time indexed data. Also select the dates of same year and select the dates between certain dates."
   ]
  },
  {
   "cell_type": "code",
   "execution_count": 159,
   "metadata": {},
   "outputs": [
    {
     "data": {
      "text/plain": [
       "DatetimeIndex(['2024-01-31', '2024-02-29', '2024-03-31', '2024-04-30',\n",
       "               '2024-05-31'],\n",
       "              dtype='datetime64[ns]', freq='M')"
      ]
     },
     "execution_count": 159,
     "metadata": {},
     "output_type": "execute_result"
    }
   ],
   "source": [
    "d1=pd.date_range(start=\"2024-01-01\",periods=5,freq=\"M\")\n",
    "d2=np.random.randint(1,10,5)\n",
    "time_series=pd.Series(d2,index=d1)\n",
    "time_series.index"
   ]
  },
  {
   "cell_type": "code",
   "execution_count": 162,
   "metadata": {},
   "outputs": [
    {
     "data": {
      "text/plain": [
       "DatetimeIndex(['2024-10-01', '2024-10-02', '2024-10-03', '2024-10-04',\n",
       "               '2024-10-05', '2024-10-06', '2024-10-07', '2024-10-08',\n",
       "               '2024-10-09', '2024-10-10', '2024-10-11', '2024-10-12',\n",
       "               '2024-10-13', '2024-10-14', '2024-10-15', '2024-10-16',\n",
       "               '2024-10-17', '2024-10-18', '2024-10-19', '2024-10-20',\n",
       "               '2024-10-21', '2024-10-22', '2024-10-23', '2024-10-24',\n",
       "               '2024-10-25', '2024-10-26', '2024-10-27', '2024-10-28',\n",
       "               '2024-10-29', '2024-10-30', '2024-10-31', '2024-11-01',\n",
       "               '2024-11-02', '2024-11-03', '2024-11-04', '2024-11-05',\n",
       "               '2024-11-06', '2024-11-07', '2024-11-08', '2024-11-09',\n",
       "               '2024-11-10', '2024-11-11', '2024-11-12', '2024-11-13',\n",
       "               '2024-11-14', '2024-11-15', '2024-11-16', '2024-11-17',\n",
       "               '2024-11-18', '2024-11-19', '2024-11-20', '2024-11-21',\n",
       "               '2024-11-22', '2024-11-23', '2024-11-24', '2024-11-25',\n",
       "               '2024-11-26', '2024-11-27', '2024-11-28', '2024-11-29',\n",
       "               '2024-11-30', '2024-12-01', '2024-12-02', '2024-12-03',\n",
       "               '2024-12-04', '2024-12-05', '2024-12-06', '2024-12-07',\n",
       "               '2024-12-08', '2024-12-09', '2024-12-10', '2024-12-11',\n",
       "               '2024-12-12', '2024-12-13', '2024-12-14', '2024-12-15',\n",
       "               '2024-12-16', '2024-12-17', '2024-12-18', '2024-12-19',\n",
       "               '2024-12-20', '2024-12-21', '2024-12-22', '2024-12-23',\n",
       "               '2024-12-24', '2024-12-25', '2024-12-26', '2024-12-27',\n",
       "               '2024-12-28', '2024-12-29'],\n",
       "              dtype='datetime64[ns]', freq='D')"
      ]
     },
     "execution_count": 162,
     "metadata": {},
     "output_type": "execute_result"
    }
   ],
   "source": [
    "#8. Write a Pandas program to create a date range using a startpoint date and a\n",
    "# number of periods.\n",
    "\n",
    "d1=pd.date_range(start=\"2024-10-01\",periods=90)\n",
    "d1\n"
   ]
  },
  {
   "cell_type": "code",
   "execution_count": 178,
   "metadata": {},
   "outputs": [
    {
     "name": "stdout",
     "output_type": "stream",
     "text": [
      "2025-01-18 00:00:00\n",
      "2024-10-21 00:00:00\n",
      "89\n",
      "0\n"
     ]
    }
   ],
   "source": [
    "#9. Write a Pandas program to create a whole month of dates in daily frequencies.\n",
    "# Also find the maximum, minimum timestamp and indexs.\n",
    "d1=pd.date_range(datetime.now().date(),periods=90)\n",
    "d1=pd.Series(d1)\n",
    "print(d1.max())\n",
    "print(d1.min())\n",
    "print(d1.idxmax())\n",
    "print(d1.idxmin())\n",
    "\n",
    "\n"
   ]
  },
  {
   "cell_type": "code",
   "execution_count": 179,
   "metadata": {},
   "outputs": [
    {
     "data": {
      "text/plain": [
       "DatetimeIndex(['2024-10-21 00:00:00', '2024-10-21 01:00:00',\n",
       "               '2024-10-21 02:00:00', '2024-10-21 03:00:00',\n",
       "               '2024-10-21 04:00:00', '2024-10-21 05:00:00',\n",
       "               '2024-10-21 06:00:00', '2024-10-21 07:00:00',\n",
       "               '2024-10-21 08:00:00', '2024-10-21 09:00:00',\n",
       "               '2024-10-21 10:00:00', '2024-10-21 11:00:00',\n",
       "               '2024-10-21 12:00:00', '2024-10-21 13:00:00',\n",
       "               '2024-10-21 14:00:00', '2024-10-21 15:00:00',\n",
       "               '2024-10-21 16:00:00', '2024-10-21 17:00:00',\n",
       "               '2024-10-21 18:00:00', '2024-10-21 19:00:00',\n",
       "               '2024-10-21 20:00:00', '2024-10-21 21:00:00',\n",
       "               '2024-10-21 22:00:00', '2024-10-21 23:00:00',\n",
       "               '2024-10-22 00:00:00', '2024-10-22 01:00:00',\n",
       "               '2024-10-22 02:00:00', '2024-10-22 03:00:00',\n",
       "               '2024-10-22 04:00:00', '2024-10-22 05:00:00',\n",
       "               '2024-10-22 06:00:00', '2024-10-22 07:00:00',\n",
       "               '2024-10-22 08:00:00', '2024-10-22 09:00:00',\n",
       "               '2024-10-22 10:00:00', '2024-10-22 11:00:00',\n",
       "               '2024-10-22 12:00:00', '2024-10-22 13:00:00',\n",
       "               '2024-10-22 14:00:00', '2024-10-22 15:00:00',\n",
       "               '2024-10-22 16:00:00', '2024-10-22 17:00:00',\n",
       "               '2024-10-22 18:00:00', '2024-10-22 19:00:00',\n",
       "               '2024-10-22 20:00:00', '2024-10-22 21:00:00',\n",
       "               '2024-10-22 22:00:00', '2024-10-22 23:00:00',\n",
       "               '2024-10-23 00:00:00', '2024-10-23 01:00:00',\n",
       "               '2024-10-23 02:00:00', '2024-10-23 03:00:00',\n",
       "               '2024-10-23 04:00:00', '2024-10-23 05:00:00',\n",
       "               '2024-10-23 06:00:00', '2024-10-23 07:00:00',\n",
       "               '2024-10-23 08:00:00', '2024-10-23 09:00:00',\n",
       "               '2024-10-23 10:00:00', '2024-10-23 11:00:00',\n",
       "               '2024-10-23 12:00:00', '2024-10-23 13:00:00',\n",
       "               '2024-10-23 14:00:00', '2024-10-23 15:00:00',\n",
       "               '2024-10-23 16:00:00', '2024-10-23 17:00:00',\n",
       "               '2024-10-23 18:00:00', '2024-10-23 19:00:00',\n",
       "               '2024-10-23 20:00:00', '2024-10-23 21:00:00',\n",
       "               '2024-10-23 22:00:00', '2024-10-23 23:00:00',\n",
       "               '2024-10-24 00:00:00', '2024-10-24 01:00:00',\n",
       "               '2024-10-24 02:00:00', '2024-10-24 03:00:00',\n",
       "               '2024-10-24 04:00:00', '2024-10-24 05:00:00',\n",
       "               '2024-10-24 06:00:00', '2024-10-24 07:00:00',\n",
       "               '2024-10-24 08:00:00', '2024-10-24 09:00:00',\n",
       "               '2024-10-24 10:00:00', '2024-10-24 11:00:00',\n",
       "               '2024-10-24 12:00:00', '2024-10-24 13:00:00',\n",
       "               '2024-10-24 14:00:00', '2024-10-24 15:00:00',\n",
       "               '2024-10-24 16:00:00', '2024-10-24 17:00:00',\n",
       "               '2024-10-24 18:00:00', '2024-10-24 19:00:00',\n",
       "               '2024-10-24 20:00:00', '2024-10-24 21:00:00',\n",
       "               '2024-10-24 22:00:00', '2024-10-24 23:00:00',\n",
       "               '2024-10-25 00:00:00', '2024-10-25 01:00:00',\n",
       "               '2024-10-25 02:00:00', '2024-10-25 03:00:00'],\n",
       "              dtype='datetime64[ns]', freq='H')"
      ]
     },
     "execution_count": 179,
     "metadata": {},
     "output_type": "execute_result"
    }
   ],
   "source": [
    "#11\n",
    "# Write a Pandas program to create a sequence of durations increasing by an\n",
    "# hour\n",
    "\n",
    "d1=pd.date_range(datetime.now().date(),periods=100,freq=\"H\")\n",
    "d1"
   ]
  },
  {
   "cell_type": "code",
   "execution_count": 182,
   "metadata": {},
   "outputs": [
    {
     "data": {
      "text/html": [
       "<div>\n",
       "<style scoped>\n",
       "    .dataframe tbody tr th:only-of-type {\n",
       "        vertical-align: middle;\n",
       "    }\n",
       "\n",
       "    .dataframe tbody tr th {\n",
       "        vertical-align: top;\n",
       "    }\n",
       "\n",
       "    .dataframe thead th {\n",
       "        text-align: right;\n",
       "    }\n",
       "</style>\n",
       "<table border=\"1\" class=\"dataframe\">\n",
       "  <thead>\n",
       "    <tr style=\"text-align: right;\">\n",
       "      <th></th>\n",
       "      <th>year</th>\n",
       "      <th>Month</th>\n",
       "      <th>Day</th>\n",
       "    </tr>\n",
       "  </thead>\n",
       "  <tbody>\n",
       "    <tr>\n",
       "      <th>0</th>\n",
       "      <td>2024</td>\n",
       "      <td>October</td>\n",
       "      <td>12</td>\n",
       "    </tr>\n",
       "    <tr>\n",
       "      <th>1</th>\n",
       "      <td>2025</td>\n",
       "      <td>November</td>\n",
       "      <td>14</td>\n",
       "    </tr>\n",
       "    <tr>\n",
       "      <th>2</th>\n",
       "      <td>2041</td>\n",
       "      <td>December</td>\n",
       "      <td>15</td>\n",
       "    </tr>\n",
       "  </tbody>\n",
       "</table>\n",
       "</div>"
      ],
      "text/plain": [
       "   year     Month  Day\n",
       "0  2024   October   12\n",
       "1  2025  November   14\n",
       "2  2041  December   15"
      ]
     },
     "execution_count": 182,
     "metadata": {},
     "output_type": "execute_result"
    }
   ],
   "source": [
    "#12. Write a Pandas program to convert year and day of year into a single datetime column of a dataframe.\n",
    "\n",
    "a={\n",
    "    \"year\":[2024,2025,2041],\n",
    "    \"Month\":[\"October\",\"November\",\"December\"],\n",
    "    \"Day\":[12,14,15]\n",
    "}\n",
    "\n",
    "df=pd.DataFrame(a)\n",
    "df"
   ]
  },
  {
   "cell_type": "code",
   "execution_count": 186,
   "metadata": {},
   "outputs": [],
   "source": [
    "df[\"Date\"]=df[\"year\"].astype(\"str\")+\"-\"+df[\"Month\"]+\"-\"+df[\"Day\"].astype(\"str\")"
   ]
  },
  {
   "cell_type": "code",
   "execution_count": 187,
   "metadata": {},
   "outputs": [],
   "source": [
    "df[\"Date\"]=pd.to_datetime(df[\"Date\"])"
   ]
  },
  {
   "cell_type": "code",
   "execution_count": 190,
   "metadata": {},
   "outputs": [
    {
     "data": {
      "text/html": [
       "<div>\n",
       "<style scoped>\n",
       "    .dataframe tbody tr th:only-of-type {\n",
       "        vertical-align: middle;\n",
       "    }\n",
       "\n",
       "    .dataframe tbody tr th {\n",
       "        vertical-align: top;\n",
       "    }\n",
       "\n",
       "    .dataframe thead th {\n",
       "        text-align: right;\n",
       "    }\n",
       "</style>\n",
       "<table border=\"1\" class=\"dataframe\">\n",
       "  <thead>\n",
       "    <tr style=\"text-align: right;\">\n",
       "      <th></th>\n",
       "      <th>year</th>\n",
       "      <th>Month</th>\n",
       "      <th>Day</th>\n",
       "      <th>Date</th>\n",
       "    </tr>\n",
       "  </thead>\n",
       "  <tbody>\n",
       "    <tr>\n",
       "      <th>0</th>\n",
       "      <td>2024</td>\n",
       "      <td>October</td>\n",
       "      <td>12</td>\n",
       "      <td>2024-10-12</td>\n",
       "    </tr>\n",
       "    <tr>\n",
       "      <th>1</th>\n",
       "      <td>2025</td>\n",
       "      <td>November</td>\n",
       "      <td>14</td>\n",
       "      <td>2025-11-14</td>\n",
       "    </tr>\n",
       "    <tr>\n",
       "      <th>2</th>\n",
       "      <td>2041</td>\n",
       "      <td>December</td>\n",
       "      <td>15</td>\n",
       "      <td>2041-12-15</td>\n",
       "    </tr>\n",
       "  </tbody>\n",
       "</table>\n",
       "</div>"
      ],
      "text/plain": [
       "   year     Month  Day       Date\n",
       "0  2024   October   12 2024-10-12\n",
       "1  2025  November   14 2025-11-14\n",
       "2  2041  December   15 2041-12-15"
      ]
     },
     "execution_count": 190,
     "metadata": {},
     "output_type": "execute_result"
    }
   ],
   "source": [
    "df"
   ]
  },
  {
   "cell_type": "code",
   "execution_count": null,
   "metadata": {},
   "outputs": [],
   "source": [
    "#Write a Pandas program to create a series of Timestamps from a DataFrame\n",
    "#of integer or string columns. Also create a series of Timestamps using specified"
   ]
  }
 ],
 "metadata": {
  "kernelspec": {
   "display_name": "Python 3",
   "language": "python",
   "name": "python3"
  },
  "language_info": {
   "codemirror_mode": {
    "name": "ipython",
    "version": 3
   },
   "file_extension": ".py",
   "mimetype": "text/x-python",
   "name": "python",
   "nbconvert_exporter": "python",
   "pygments_lexer": "ipython3",
   "version": "3.8.5"
  }
 },
 "nbformat": 4,
 "nbformat_minor": 4
}
