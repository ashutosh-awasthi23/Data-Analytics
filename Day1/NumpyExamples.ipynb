{
 "cells": [
  {
   "cell_type": "code",
   "execution_count": 1,
   "metadata": {},
   "outputs": [],
   "source": [
    "import numpy as np"
   ]
  },
  {
   "cell_type": "code",
   "execution_count": 2,
   "metadata": {},
   "outputs": [
    {
     "name": "stdout",
     "output_type": "stream",
     "text": [
      "[1 2 3]\n"
     ]
    }
   ],
   "source": [
    "#Creating numpy array using list\n",
    "my_list=[1,2,3]\n",
    "my_array=np.array(my_list)\n",
    "print(my_array)"
   ]
  },
  {
   "cell_type": "code",
   "execution_count": 5,
   "metadata": {},
   "outputs": [
    {
     "name": "stdout",
     "output_type": "stream",
     "text": [
      "[[1 2 3]\n",
      " [4 5 6]\n",
      " [7 8 9]]\n"
     ]
    }
   ],
   "source": [
    "my_matrix=[[1,2,3],[4,5,6],[7,8,9]]\n",
    "print(np.array(my_matrix))"
   ]
  },
  {
   "cell_type": "code",
   "execution_count": 14,
   "metadata": {},
   "outputs": [
    {
     "name": "stdout",
     "output_type": "stream",
     "text": [
      "[ 1  4  7 10 13 16 19 22 25 28 31 34 37 40 43 46 49 52 55 58 61 64 67 70\n",
      " 73 76 79 82 85 88 91 94 97]\n"
     ]
    }
   ],
   "source": [
    "#Creating numpy array using builtin functions\n",
    "print(np.arange(1,99,3))  #start,stop,step\n",
    "#Stop value is not getting included"
   ]
  },
  {
   "cell_type": "markdown",
   "metadata": {},
   "source": [
    "  ##### Creates an array with equally spaced 50 values on numberline between 1 and 100,not to be confused with arange,the stop value is included in result unlike arange()"
   ]
  },
  {
   "cell_type": "code",
   "execution_count": 13,
   "metadata": {},
   "outputs": [
    {
     "name": "stdout",
     "output_type": "stream",
     "text": [
      "[  1.           3.02040816   5.04081633   7.06122449   9.08163265\n",
      "  11.10204082  13.12244898  15.14285714  17.16326531  19.18367347\n",
      "  21.20408163  23.2244898   25.24489796  27.26530612  29.28571429\n",
      "  31.30612245  33.32653061  35.34693878  37.36734694  39.3877551\n",
      "  41.40816327  43.42857143  45.44897959  47.46938776  49.48979592\n",
      "  51.51020408  53.53061224  55.55102041  57.57142857  59.59183673\n",
      "  61.6122449   63.63265306  65.65306122  67.67346939  69.69387755\n",
      "  71.71428571  73.73469388  75.75510204  77.7755102   79.79591837\n",
      "  81.81632653  83.83673469  85.85714286  87.87755102  89.89795918\n",
      "  91.91836735  93.93877551  95.95918367  97.97959184 100.        ]\n"
     ]
    }
   ],
   "source": [
    "print(np.linspace(1,100,50)) "
   ]
  },
  {
   "cell_type": "code",
   "execution_count": 11,
   "metadata": {},
   "outputs": [
    {
     "name": "stdout",
     "output_type": "stream",
     "text": [
      "[[0. 0. 0. 0. 0.]\n",
      " [0. 0. 0. 0. 0.]]\n"
     ]
    }
   ],
   "source": [
    "print(np.zeros((2,5)))"
   ]
  },
  {
   "cell_type": "code",
   "execution_count": 12,
   "metadata": {},
   "outputs": [
    {
     "name": "stdout",
     "output_type": "stream",
     "text": [
      "[1. 1. 1. 1. 1. 1. 1. 1. 1. 1.]\n"
     ]
    }
   ],
   "source": [
    "print(np.ones((10)))"
   ]
  },
  {
   "cell_type": "code",
   "execution_count": 23,
   "metadata": {},
   "outputs": [
    {
     "name": "stdout",
     "output_type": "stream",
     "text": [
      "2 random numbers:\n",
      "[0.61710317 0.48978751]\n",
      "\n",
      "Random matrix of 5x5: \n",
      "[[0.96882785 0.21242441 0.98417637 0.11092246 0.33832122]\n",
      " [0.38888522 0.00209576 0.07064222 0.68311386 0.66656925]\n",
      " [0.11298221 0.80554792 0.17926446 0.45038314 0.72453827]\n",
      " [0.45623925 0.33719707 0.9003582  0.94712911 0.65082387]\n",
      " [0.58120962 0.05749598 0.71311648 0.18692777 0.34595085]]\n"
     ]
    }
   ],
   "source": [
    "# random number array\n",
    "print(\"2 random numbers:\")\n",
    "print(np.random.rand(2))\n",
    "print(\"\\nRandom matrix of 5x5: \")\n",
    "print(np.random.rand(5, 5))"
   ]
  },
  {
   "cell_type": "code",
   "execution_count": 24,
   "metadata": {},
   "outputs": [
    {
     "name": "stdout",
     "output_type": "stream",
     "text": [
      "2 random numbers from normal distribution:\n",
      "[-0.43333912  0.06562524]\n",
      "\n",
      "Random matrix of 5x5 from normal distribution: \n",
      "[[ 1.28660609 -0.4633896  -0.75477118 -0.33029173  0.20742197]\n",
      " [-0.66110327  1.63976003  0.33858592  2.04099127 -1.19691411]\n",
      " [ 1.54132468 -0.05870354 -1.37522969 -1.22895972 -0.33563471]\n",
      " [-1.87057389  0.1891801   0.28962584 -1.61037892  0.65280941]\n",
      " [ 0.00830372 -0.04870259  0.55203738  0.70415939  0.78615405]]\n"
     ]
    }
   ],
   "source": [
    "# Normal Distribution\n",
    "print(\"2 random numbers from normal distribution:\")\n",
    "print(np.random.randn(2))\n",
    "print(\"\\nRandom matrix of 5x5 from normal distribution: \")\n",
    "print(np.random.randn(5, 5))"
   ]
  },
  {
   "cell_type": "code",
   "execution_count": 25,
   "metadata": {},
   "outputs": [
    {
     "name": "stdout",
     "output_type": "stream",
     "text": [
      "Single random integers between 1 and 100: \n",
      "11\n",
      "\n",
      "10 random integers between 1 and 100: \n",
      "[74 99 98 21 42 54 87 46 36 99]\n"
     ]
    }
   ],
   "source": [
    "# Random integers from low(inclusive) to high(exclusive)\n",
    "\n",
    "print(\"Single random integers between 1 and 100: \")\n",
    "print(np.random.randint(1, 100))\n",
    "\n",
    "print(\"\\n10 random integers between 1 and 100: \")\n",
    "print(np.random.randint(1, 100, 10))"
   ]
  },
  {
   "cell_type": "code",
   "execution_count": 27,
   "metadata": {},
   "outputs": [
    {
     "name": "stdout",
     "output_type": "stream",
     "text": [
      "Seeding number '77' for reproducable results: \n",
      "[0.91910903 0.6421956  0.75371223 0.13931457]\n"
     ]
    }
   ],
   "source": [
    "# Seeding for reproducable results\n",
    "seed = 77\n",
    "print(f\"Seeding number '{seed}' for reproducable results: \")\n",
    "\n",
    "np.random.seed(seed)\n",
    "print(np.random.rand(4)) # 4 random numbers # These for random values will be same on all machines in the world"
   ]
  },
  {
   "cell_type": "code",
   "execution_count": 28,
   "metadata": {},
   "outputs": [
    {
     "name": "stdout",
     "output_type": "stream",
     "text": [
      "[ 0  1  2  3  4  5  6  7  8  9 10 11 12 13 14 15 16 17 18 19 20 21 22 23\n",
      " 24]\n",
      "[32 39 44 19 32 36 36 47 14 15]\n"
     ]
    }
   ],
   "source": [
    "# Storing\n",
    "\n",
    "arr = np.arange(25) # numbers from 0 to 4\n",
    "\n",
    "# 10 random numbers between 0 and 50\n",
    "random_arr = np.random.randint(0, 50, 10)\n",
    "\n",
    "print(arr)\n",
    "print(random_arr)"
   ]
  },
  {
   "cell_type": "code",
   "execution_count": 29,
   "metadata": {},
   "outputs": [
    {
     "name": "stdout",
     "output_type": "stream",
     "text": [
      "[[ 0  1  2  3  4]\n",
      " [ 5  6  7  8  9]\n",
      " [10 11 12 13 14]\n",
      " [15 16 17 18 19]\n",
      " [20 21 22 23 24]]\n"
     ]
    }
   ],
   "source": [
    "# Reshape: Returns an array containing the same data\n",
    "print(arr.reshape(5,5))"
   ]
  },
  {
   "cell_type": "code",
   "execution_count": 35,
   "metadata": {},
   "outputs": [
    {
     "name": "stdout",
     "output_type": "stream",
     "text": [
      "Max element in array:  47\n",
      "Min element in array:  14\n",
      "Index of max element:  7\n",
      "Index of min element:  8\n"
     ]
    }
   ],
   "source": [
    "# Max, Min, and their index positions\n",
    "\n",
    "print(\"Max element in array: \", random_arr.max())\n",
    "print(\"Min element in array: \", random_arr.min())\n",
    "print(\"Index of max element: \", random_arr.argmax())\n",
    "print(\"Index of min element: \", random_arr.argmin())"
   ]
  },
  {
   "cell_type": "code",
   "execution_count": 36,
   "metadata": {},
   "outputs": [
    {
     "name": "stdout",
     "output_type": "stream",
     "text": [
      "8\n"
     ]
    }
   ],
   "source": [
    "# Bracket indexing and selection - similar to python list\n",
    "# Get a value at an index\n",
    "print(arr[8])"
   ]
  },
  {
   "cell_type": "code",
   "execution_count": 37,
   "metadata": {},
   "outputs": [
    {
     "name": "stdout",
     "output_type": "stream",
     "text": [
      "[ 0  1  2  3  4  5  6  7  8  9 10]\n"
     ]
    }
   ],
   "source": [
    "# Reset array, Why??\n",
    "arr = np.arange(0, 11)\n",
    "print(arr)"
   ]
  },
  {
   "cell_type": "code",
   "execution_count": 39,
   "metadata": {},
   "outputs": [
    {
     "name": "stdout",
     "output_type": "stream",
     "text": [
      "[ 1  2  3  4  5  6  7  8  9 10]\n"
     ]
    }
   ],
   "source": [
    "# Conditional selection\n",
    "arr = np.arange(1, 11)\n",
    "print(arr)"
   ]
  },
  {
   "cell_type": "code",
   "execution_count": null,
   "metadata": {},
   "outputs": [],
   "source": [
    "''' Check each element of the array against the condition\n",
    "which returns a boolean array where\n",
    "'''"
   ]
  },
  {
   "cell_type": "code",
   "execution_count": null,
   "metadata": {},
   "outputs": [],
   "source": []
  },
  {
   "cell_type": "code",
   "execution_count": null,
   "metadata": {},
   "outputs": [],
   "source": [
    "print(arr[arr>4])"
   ]
  },
  {
   "cell_type": "markdown",
   "metadata": {},
   "source": [
    "### *Assignment*"
   ]
  },
  {
   "cell_type": "code",
   "execution_count": 40,
   "metadata": {},
   "outputs": [
    {
     "name": "stdout",
     "output_type": "stream",
     "text": [
      "[0. 0. 0. 0. 0. 0. 0. 0. 0. 0.]\n"
     ]
    }
   ],
   "source": [
    "# 1. Create an array of 10 zeros\n",
    "zero_arr = np.zeros(10)\n",
    "print(zero_arr)"
   ]
  },
  {
   "cell_type": "code",
   "execution_count": 41,
   "metadata": {},
   "outputs": [
    {
     "name": "stdout",
     "output_type": "stream",
     "text": [
      "[1. 1. 1. 1. 1. 1. 1. 1. 1. 1.]\n"
     ]
    }
   ],
   "source": [
    "# 2. Create an array of 10 ones\n",
    "print(np.ones(10))"
   ]
  },
  {
   "cell_type": "code",
   "execution_count": 42,
   "metadata": {},
   "outputs": [
    {
     "name": "stdout",
     "output_type": "stream",
     "text": [
      "[5. 5. 5. 5. 5. 5. 5. 5. 5. 5.]\n"
     ]
    }
   ],
   "source": [
    "# 3. Create an array of 10 fives\n",
    "print(np.ones(10)*5)"
   ]
  },
  {
   "cell_type": "code",
   "execution_count": 43,
   "metadata": {},
   "outputs": [
    {
     "name": "stdout",
     "output_type": "stream",
     "text": [
      "[10 11 12 13 14 15 16 17 18 19 20 21 22 23 24 25 26 27 28 29 30 31 32 33\n",
      " 34 35 36 37 38 39 40 41 42 43 44 45 46 47 48 49 50]\n"
     ]
    }
   ],
   "source": [
    "# 4. Create an array of the integers from 10 to 50\n",
    "print(np.arange(10, 51))"
   ]
  },
  {
   "cell_type": "code",
   "execution_count": 44,
   "metadata": {},
   "outputs": [
    {
     "name": "stdout",
     "output_type": "stream",
     "text": [
      "[10 12 14 16 18 20 22 24 26 28 30 32 34 36 38 40 42 44 46 48 50]\n"
     ]
    }
   ],
   "source": [
    "# 5. Create an array of all the even integers from 10 to 50\n",
    "print(np.arange(10, 51, 2))"
   ]
  },
  {
   "cell_type": "code",
   "execution_count": 51,
   "metadata": {},
   "outputs": [
    {
     "name": "stdout",
     "output_type": "stream",
     "text": [
      "[[0 1 2]\n",
      " [3 4 5]\n",
      " [6 7 8]]\n"
     ]
    }
   ],
   "source": [
    "# 6. Create a 3x3 matrix with values ranging from  0 to 8\n",
    "arr = np.arange(0,9).reshape(3,3)\n",
    "print(arr)"
   ]
  },
  {
   "cell_type": "code",
   "execution_count": null,
   "metadata": {},
   "outputs": [],
   "source": []
  }
 ],
 "metadata": {
  "kernelspec": {
   "display_name": "Python 3",
   "language": "python",
   "name": "python3"
  },
  "language_info": {
   "codemirror_mode": {
    "name": "ipython",
    "version": 3
   },
   "file_extension": ".py",
   "mimetype": "text/x-python",
   "name": "python",
   "nbconvert_exporter": "python",
   "pygments_lexer": "ipython3",
   "version": "3.8.5"
  }
 },
 "nbformat": 4,
 "nbformat_minor": 4
}
