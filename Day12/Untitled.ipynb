{
 "cells": [
  {
   "cell_type": "code",
   "execution_count": 77,
   "metadata": {},
   "outputs": [],
   "source": [
    "import numpy as np\n",
    "def roll_dice():\n",
    "    return(np.sum(np.random.randint(1,7,2)))\n",
    "    \n",
    "    \n",
    "    \n",
    "    "
   ]
  },
  {
   "cell_type": "code",
   "execution_count": null,
   "metadata": {},
   "outputs": [],
   "source": []
  },
  {
   "cell_type": "code",
   "execution_count": 93,
   "metadata": {},
   "outputs": [],
   "source": [
    "def monte_carlo_simulation(runs=1000):\n",
    "    results=np.zeros(2)\n",
    "    for _ in range(runs):\n",
    "        if roll_dice()==7:\n",
    "            results[0]+=1\n",
    "        else:\n",
    "            results[1]+=1\n",
    "    return results\n"
   ]
  },
  {
   "cell_type": "code",
   "execution_count": 94,
   "metadata": {},
   "outputs": [
    {
     "name": "stdout",
     "output_type": "stream",
     "text": [
      "[159. 158. 175. 168. 182. 171. 152. 178. 171. 168. 173. 167. 157. 161.\n",
      " 167. 178. 153. 190. 152. 167. 181. 165. 159. 155. 164. 160. 183. 179.\n",
      " 177. 143. 190. 150. 164. 155. 159. 168. 170. 154. 187. 150. 160. 174.\n",
      " 173. 185. 170. 169. 170. 178. 186. 166. 184. 157. 180. 159. 181. 162.\n",
      " 176. 157. 179. 161. 158. 178. 185. 167. 188. 176. 173. 182. 163. 153.\n",
      " 177. 188. 174. 159. 171. 175. 171. 161. 166. 173. 149. 144. 180. 188.\n",
      " 181. 180. 161. 186. 165. 182. 157. 173. 173. 184. 146. 146. 166. 163.\n",
      " 139. 179. 174. 151. 166. 170. 174. 162. 152. 175. 159. 172. 172. 144.\n",
      " 172. 151. 172. 148. 187. 160. 187. 147. 155. 165. 178. 159. 167. 176.\n",
      " 163. 147. 193. 179. 160. 182. 174. 150. 152. 183. 141. 139. 143. 185.\n",
      " 191. 167. 170. 179. 166. 160. 148. 169. 164. 155. 168. 158. 151. 175.\n",
      " 173. 159. 154. 169. 162. 135. 162. 167. 153. 167. 187. 165. 175. 176.\n",
      " 178. 173. 170. 155. 160. 160. 178. 160. 181. 184. 163. 175. 189. 172.\n",
      " 168. 173. 147. 173. 177. 176. 164. 179. 170. 175. 152. 184. 167. 175.\n",
      " 153. 164. 184. 155. 175. 149. 159. 160. 162. 178. 174. 147. 172. 176.\n",
      " 163. 165. 159. 196. 169. 161. 174. 177. 183. 162. 168. 186. 156. 173.\n",
      " 151. 161. 168. 162. 179. 173. 170. 182. 173. 149. 165. 170. 173. 157.\n",
      " 161. 171. 152. 152. 177. 165. 182. 170. 161. 162. 168. 164. 164. 177.\n",
      " 160. 177. 170. 181. 171. 173. 156. 163. 152. 179. 170. 174. 182. 153.\n",
      " 166. 179. 176. 168. 163. 183. 152. 159. 182. 174. 157. 188. 151. 142.\n",
      " 168. 176. 179. 172. 179. 145. 169. 155. 181. 163. 194. 182. 156. 169.\n",
      " 164. 166. 169. 166. 176. 176. 161. 162. 142. 154. 188. 173. 167. 144.\n",
      " 156. 186. 150. 164. 161. 154. 167. 160. 164. 158. 165. 171. 159. 173.\n",
      " 155. 158. 145. 172. 180. 170. 163. 165. 169. 166. 170. 180. 172. 187.\n",
      " 177. 144. 170. 163. 171. 183. 151. 149. 163. 153. 183. 182. 162. 158.\n",
      " 192. 182. 184. 160. 150. 155. 193. 160. 188. 164. 169. 162. 172. 159.\n",
      " 157. 157. 178. 160. 154. 153. 161. 174. 173. 169. 165. 158. 174. 163.\n",
      " 166. 165. 186. 159. 173. 182. 146. 149. 164. 173. 155. 161. 164. 166.\n",
      " 167. 158. 166. 195. 163. 176. 151. 182. 168. 179. 166. 187. 153. 179.\n",
      " 171. 169. 176. 164. 159. 162. 163. 162. 161. 165. 166. 154. 159. 169.\n",
      " 167. 152. 174. 170. 162. 160. 187. 142. 175. 202. 164. 165. 180. 140.\n",
      " 150. 154. 167. 154. 165. 160. 159. 173. 186. 172. 152. 176. 161. 177.\n",
      " 176. 160. 165. 173. 151. 160. 155. 166. 162. 162. 166. 155. 162. 173.\n",
      " 162. 168. 176. 180. 181. 154. 162. 146. 151. 155. 148. 163. 172. 155.\n",
      " 156. 172. 180. 170. 163. 166. 184. 189. 185. 169. 166. 175. 172. 169.\n",
      " 191. 162. 174. 173. 172. 168. 153. 160. 155. 182. 149. 170. 157. 162.\n",
      " 157. 159. 158. 161. 174. 180. 174. 170. 177. 172. 166. 158. 156. 174.\n",
      " 145. 158. 142. 171. 185. 189. 175. 168. 167. 181. 163. 158. 158. 171.\n",
      " 167. 175. 162. 172. 145. 159. 176. 183. 154. 153. 167. 152. 161. 165.\n",
      " 159. 171. 189. 153. 173. 184. 174. 162. 188. 178. 167. 177. 185. 179.\n",
      " 154. 174. 174. 152. 166. 160. 168. 178. 176. 165. 181. 182. 159. 173.\n",
      " 171. 173. 161. 172. 154. 171. 167. 152. 157. 157. 152. 164. 174. 168.\n",
      " 162. 173. 165. 158. 156. 165. 178. 173. 159. 184. 195. 170. 159. 177.\n",
      " 164. 181. 165. 170. 161. 175. 163. 157. 177. 152. 167. 168. 169. 163.\n",
      " 166. 187. 158. 149. 178. 165. 178. 172. 167. 170. 176. 188. 161. 175.\n",
      " 169. 163. 175. 154. 163. 169. 175. 153. 172. 157. 173. 164. 155. 191.\n",
      " 164. 161. 179. 175. 173. 169. 169. 165. 174. 166. 163. 151. 148. 170.\n",
      " 142. 151. 162. 164. 158. 188. 182. 155. 192. 170. 177. 160. 159. 148.\n",
      " 157. 171. 166. 166. 160. 158. 147. 161. 162. 162. 171. 182. 174. 157.\n",
      " 157. 149. 164. 154. 160. 144. 163. 182. 150. 180. 180. 167. 158. 191.\n",
      " 164. 154. 157. 145. 165. 160. 198. 185. 173. 189. 153. 150. 158. 146.\n",
      " 160. 162. 147. 165. 160. 165. 165. 174. 153. 166. 161. 163. 179. 194.\n",
      " 148. 161. 164. 179. 184. 181. 174. 177. 143. 174. 159. 165. 150. 173.\n",
      " 181. 173. 201. 181. 165. 157. 172. 178. 179. 172. 178. 165. 199. 162.\n",
      " 161. 183. 163. 163. 171. 158. 168. 162. 165. 183. 156. 177. 145. 159.\n",
      " 157. 175. 173. 145. 189. 145. 155. 137. 169. 174. 164. 173. 182. 148.\n",
      " 156. 158. 161. 182. 149. 165. 155. 162. 164. 144. 171. 175. 167. 187.\n",
      " 144. 166. 168. 161. 136. 161. 180. 173. 162. 150. 167. 158. 169. 156.\n",
      " 177. 157. 167. 160. 151. 174. 164. 159. 173. 177. 156. 179. 181. 167.\n",
      " 150. 164. 177. 174. 187. 158. 162. 170. 159. 165. 184. 175. 160. 152.\n",
      " 164. 178. 180. 175. 154. 175. 170. 159. 170. 169. 166. 181. 167. 167.\n",
      " 171. 170. 178. 163. 132. 153. 182. 179. 154. 167. 158. 166. 164. 172.\n",
      " 169. 154. 162. 184. 183. 149. 174. 146. 156. 163. 171. 150. 179. 162.\n",
      " 186. 154. 186. 192. 153. 173. 166. 162. 156. 177. 180. 175. 172. 159.\n",
      " 167. 168. 160. 168. 185. 185. 164. 164. 170. 176. 162. 166. 178. 167.\n",
      " 176. 156. 190. 147. 172. 165. 200. 170. 143. 148. 158. 182. 151. 168.\n",
      " 156. 153. 187. 166. 180. 159. 150. 163. 159. 166. 175. 151. 181. 160.\n",
      " 169. 170. 165. 161. 141. 180. 162. 159. 152. 179. 152. 151. 158. 177.\n",
      " 168. 147. 188. 164. 195. 149. 155. 157. 148. 152. 156. 177. 190. 147.\n",
      " 192. 156. 144. 158. 154. 164. 150. 185. 179. 165. 175. 164. 170. 166.\n",
      " 187. 175. 149. 172. 182. 170. 167. 153. 196. 166. 169. 167. 160. 183.\n",
      " 179. 180. 158. 166. 168. 193.]\n"
     ]
    }
   ],
   "source": [
    "result=np.zeros(1000)\n",
    "for i in range(1000):\n",
    "    result[i]=monte_carlo_simulation()[0]\n",
    "#       result[i]=monte_carlo_simulation()[0]-monte_carlo_simulation()[1]\n",
    "print(result)"
   ]
  },
  {
   "cell_type": "code",
   "execution_count": 95,
   "metadata": {},
   "outputs": [
    {
     "data": {
      "text/plain": [
       "(array([  3.,   6.,  25.,  50.,  93., 100., 160., 152., 118., 117.,  91.,\n",
       "         42.,  28.,  10.,   5.]),\n",
       " array([132.        , 136.66666667, 141.33333333, 146.        ,\n",
       "        150.66666667, 155.33333333, 160.        , 164.66666667,\n",
       "        169.33333333, 174.        , 178.66666667, 183.33333333,\n",
       "        188.        , 192.66666667, 197.33333333, 202.        ]),\n",
       " <BarContainer object of 15 artists>)"
      ]
     },
     "execution_count": 95,
     "metadata": {},
     "output_type": "execute_result"
    },
    {
     "data": {
      "image/png": "[encoded data removed]",
      "text/plain": [
       "<Figure size 432x288 with 1 Axes>"
      ]
     },
     "metadata": {
      "needs_background": "light"
     },
     "output_type": "display_data"
    }
   ],
   "source": [
    "import matplotlib.pyplot as plt\n",
    "fig,ax=plt.subplots()\n",
    "ax.hist(result,bins=15,edgecolor=\"black\")\n"
   ]
  },
  {
   "cell_type": "code",
   "execution_count": 98,
   "metadata": {},
   "outputs": [
    {
     "name": "stdout",
     "output_type": "stream",
     "text": [
      "Mean : 166.856\n",
      "Mean : 834.28\n",
      "Mean : 792.566\n",
      "833.144\n",
      "0.166856\n"
     ]
    }
   ],
   "source": [
    "print(\"Mean :\",result.mean())\n",
    "print(\"Mean :\",result.mean()*5)\n",
    "print(\"Mean :\",result.mean()*4.75)\n",
    "print(1000-result.mean())\n",
    "print(result.mean()/1000)"
   ]
  },
  {
   "cell_type": "code",
   "execution_count": null,
   "metadata": {},
   "outputs": [],
   "source": []
  }
 ],
 "metadata": {
  "kernelspec": {
   "display_name": "Python 3",
   "language": "python",
   "name": "python3"
  },
  "language_info": {
   "codemirror_mode": {
    "name": "ipython",
    "version": 3
   },
   "file_extension": ".py",
   "mimetype": "text/x-python",
   "name": "python",
   "nbconvert_exporter": "python",
   "pygments_lexer": "ipython3",
   "version": "3.8.5"
  }
 },
 "nbformat": 4,
 "nbformat_minor": 4
}
