{
 "cells": [
  {
   "cell_type": "code",
   "execution_count": 6,
   "metadata": {},
   "outputs": [],
   "source": [
    "from pandas import read_csv,crosstab\n",
    "from scipy.stats import chi2_contingency\n",
    "\n",
    "df=read_csv(\"airline_passenger_satisfaction.csv\")\n",
    "male_df=df[df[\"Gender\"]==\"Male\"]\n"
   ]
  },
  {
   "cell_type": "code",
   "execution_count": 7,
   "metadata": {},
   "outputs": [],
   "source": [
    "category1=\"Class\"\n",
    "category2=\"On-board Service\"\n",
    "\n",
    "crosstab=crosstab(male_df[category1],male_df[category2])"
   ]
  },
  {
   "cell_type": "code",
   "execution_count": 8,
   "metadata": {},
   "outputs": [
    {
     "data": {
      "text/html": [
       "<div>\n",
       "<style scoped>\n",
       "    .dataframe tbody tr th:only-of-type {\n",
       "        vertical-align: middle;\n",
       "    }\n",
       "\n",
       "    .dataframe tbody tr th {\n",
       "        vertical-align: top;\n",
       "    }\n",
       "\n",
       "    .dataframe thead th {\n",
       "        text-align: right;\n",
       "    }\n",
       "</style>\n",
       "<table border=\"1\" class=\"dataframe\">\n",
       "  <thead>\n",
       "    <tr style=\"text-align: right;\">\n",
       "      <th>On-board Service</th>\n",
       "      <th>0</th>\n",
       "      <th>1</th>\n",
       "      <th>2</th>\n",
       "      <th>3</th>\n",
       "      <th>4</th>\n",
       "      <th>5</th>\n",
       "    </tr>\n",
       "    <tr>\n",
       "      <th>Class</th>\n",
       "      <th></th>\n",
       "      <th></th>\n",
       "      <th></th>\n",
       "      <th></th>\n",
       "      <th></th>\n",
       "      <th></th>\n",
       "    </tr>\n",
       "  </thead>\n",
       "  <tbody>\n",
       "    <tr>\n",
       "      <th>Business</th>\n",
       "      <td>2</td>\n",
       "      <td>2053</td>\n",
       "      <td>3379</td>\n",
       "      <td>5826</td>\n",
       "      <td>10743</td>\n",
       "      <td>8894</td>\n",
       "    </tr>\n",
       "    <tr>\n",
       "      <th>Economy</th>\n",
       "      <td>0</td>\n",
       "      <td>4420</td>\n",
       "      <td>4430</td>\n",
       "      <td>7403</td>\n",
       "      <td>7535</td>\n",
       "      <td>4851</td>\n",
       "    </tr>\n",
       "    <tr>\n",
       "      <th>Economy Plus</th>\n",
       "      <td>0</td>\n",
       "      <td>791</td>\n",
       "      <td>792</td>\n",
       "      <td>1118</td>\n",
       "      <td>1076</td>\n",
       "      <td>668</td>\n",
       "    </tr>\n",
       "  </tbody>\n",
       "</table>\n",
       "</div>"
      ],
      "text/plain": [
       "On-board Service  0     1     2     3      4     5\n",
       "Class                                             \n",
       "Business          2  2053  3379  5826  10743  8894\n",
       "Economy           0  4420  4430  7403   7535  4851\n",
       "Economy Plus      0   791   792  1118   1076   668"
      ]
     },
     "execution_count": 8,
     "metadata": {},
     "output_type": "execute_result"
    }
   ],
   "source": [
    "crosstab"
   ]
  },
  {
   "cell_type": "code",
   "execution_count": 9,
   "metadata": {},
   "outputs": [],
   "source": [
    "#perform chi-square test\n",
    "chi2,pval,degrees_of_freedom,expected_counts=chi2_contingency(crosstab)"
   ]
  },
  {
   "cell_type": "code",
   "execution_count": 10,
   "metadata": {},
   "outputs": [
    {
     "name": "stdout",
     "output_type": "stream",
     "text": [
      "\n",
      "Category 1:Class,Category 2:On-board Service(Male Passengers)\n",
      "On-board Service  0     1     2     3      4     5\n",
      "Class                                             \n",
      "Business          2  2053  3379  5826  10743  8894\n",
      "Economy           0  4420  4430  7403   7535  4851\n",
      "Economy Plus      0   791   792  1118   1076   668\n",
      "Chi-square :3277.66,p-value:0.0000,Degrees of Freedom:10\n",
      "Reject Null Hypothesis: Theres is a signi ficant association between class and on-board service rating (p<0.05).\n"
     ]
    }
   ],
   "source": [
    "print(f\"\\nCategory 1:{category1},Category 2:{category2}(Male Passengers)\")\n",
    "print(crosstab)\n",
    "print(f\"Chi-square :{chi2:.2f},p-value:{pval:.4f},Degrees of Freedom:{degrees_of_freedom}\")\n",
    "\n",
    "#interpretation\n",
    "if pval<0.05:\n",
    "    print(\"Reject Null Hypothesis: Theres is a signi ficant association between class and on-board service rating (p<0.05).\")\n",
    "else:\n",
    "    print(\"Fail to reject null hypothesis: Class and on board service rating might be independent\")"
   ]
  },
  {
   "cell_type": "code",
   "execution_count": null,
   "metadata": {},
   "outputs": [],
   "source": []
  }
 ],
 "metadata": {
  "kernelspec": {
   "display_name": "Python 3",
   "language": "python",
   "name": "python3"
  },
  "language_info": {
   "codemirror_mode": {
    "name": "ipython",
    "version": 3
   },
   "file_extension": ".py",
   "mimetype": "text/x-python",
   "name": "python",
   "nbconvert_exporter": "python",
   "pygments_lexer": "ipython3",
   "version": "3.8.5"
  }
 },
 "nbformat": 4,
 "nbformat_minor": 4
}
