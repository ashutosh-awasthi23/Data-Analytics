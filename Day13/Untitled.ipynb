{
 "cells": [
  {
   "cell_type": "code",
   "execution_count": 2,
   "metadata": {},
   "outputs": [],
   "source": [
    "from pulp import*"
   ]
  },
  {
   "cell_type": "code",
   "execution_count": 3,
   "metadata": {},
   "outputs": [],
   "source": [
    "#Create the problem variable to contain the problem data\n",
    "model=LpProblem(\"CarProductionProblem\",LpMaximize)\n",
    "\n",
    "\n",
    "#Create 2 variables for Cars A and B\n",
    "#Parameters: Name, Lower Limit , Upper limit, Data type\n",
    "car_A = LpVariable(\"A\", 0, None, LpInteger) # Car A production\n",
    "car_B = LpVariable(\"B\",0,None,LpInteger)\n"
   ]
  },
  {
   "cell_type": "code",
   "execution_count": 4,
   "metadata": {},
   "outputs": [],
   "source": [
    "#Create maximise objective function(profit)\n",
    "model+=30000*car_A + 45000*car_B\n",
    "#Create three constraint\n",
    "\n",
    "model +=3*car_A + 4*car_B <= 30,\"Material Constraint 1\"\n",
    "model +=5*car_A + 6*car_B <= 60,\"Material Constraint 2\"\n",
    "model +=1.5*car_A + 3*car_B <= 21,\"Labor Constraint \"\n",
    "\n",
    "# Optional constraint-Minimum production od carA\n",
    "# model += car_A >= 5 minimum a production\n",
    "\n",
    "\n",
    "\n",
    "\n"
   ]
  },
  {
   "cell_type": "code",
   "execution_count": 5,
   "metadata": {},
   "outputs": [
    {
     "data": {
      "text/plain": [
       "1"
      ]
     },
     "execution_count": 5,
     "metadata": {},
     "output_type": "execute_result"
    }
   ],
   "source": [
    "# The problem is solved using Pulps choice of solver\n",
    "model.solve()"
   ]
  },
  {
   "cell_type": "code",
   "execution_count": 9,
   "metadata": {},
   "outputs": [
    {
     "name": "stdout",
     "output_type": "stream",
     "text": [
      "A = 2.0\n",
      "B = 6.0\n",
      "Total Profit: 330000.0\n"
     ]
    }
   ],
   "source": [
    "#each of the variables is printe with its resolved optimum value\n",
    "for v in model.variables():\n",
    "    print(v.name,\"=\",v.varValue)\n",
    "\n",
    "#Additional Information(optional)\n",
    "print(\"Total Profit:\",value(model.objective))#Print objective function value"
   ]
  },
  {
   "cell_type": "code",
   "execution_count": null,
   "metadata": {},
   "outputs": [],
   "source": []
  }
 ],
 "metadata": {
  "kernelspec": {
   "display_name": "Python 3",
   "language": "python",
   "name": "python3"
  },
  "language_info": {
   "codemirror_mode": {
    "name": "ipython",
    "version": 3
   },
   "file_extension": ".py",
   "mimetype": "text/x-python",
   "name": "python",
   "nbconvert_exporter": "python",
   "pygments_lexer": "ipython3",
   "version": "3.8.5"
  }
 },
 "nbformat": 4,
 "nbformat_minor": 4
}
