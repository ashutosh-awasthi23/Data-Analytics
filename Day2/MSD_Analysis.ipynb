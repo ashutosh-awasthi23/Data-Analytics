{
 "cells": [
  {
   "cell_type": "code",
   "execution_count": 2,
   "metadata": {},
   "outputs": [],
   "source": [
    "import pandas as pd\n",
    "import numpy as np\n",
    "import datetime\n",
    "import matplotlib.pyplot as plt\n",
    "import seaborn as sns"
   ]
  },
  {
   "cell_type": "code",
   "execution_count": 3,
   "metadata": {},
   "outputs": [],
   "source": [
    "df=pd.read_csv('MS_Dhoni_ODI_record.csv')"
   ]
  },
  {
   "cell_type": "code",
   "execution_count": 4,
   "metadata": {},
   "outputs": [
    {
     "data": {
      "text/html": [
       "<div>\n",
       "<style scoped>\n",
       "    .dataframe tbody tr th:only-of-type {\n",
       "        vertical-align: middle;\n",
       "    }\n",
       "\n",
       "    .dataframe tbody tr th {\n",
       "        vertical-align: top;\n",
       "    }\n",
       "\n",
       "    .dataframe thead th {\n",
       "        text-align: right;\n",
       "    }\n",
       "</style>\n",
       "<table border=\"1\" class=\"dataframe\">\n",
       "  <thead>\n",
       "    <tr style=\"text-align: right;\">\n",
       "      <th></th>\n",
       "      <th>score</th>\n",
       "      <th>runs_scored</th>\n",
       "      <th>balls_faced</th>\n",
       "      <th>strike_rate</th>\n",
       "      <th>fours</th>\n",
       "      <th>sixes</th>\n",
       "      <th>opposition</th>\n",
       "      <th>ground</th>\n",
       "      <th>date</th>\n",
       "      <th>odi_number</th>\n",
       "    </tr>\n",
       "  </thead>\n",
       "  <tbody>\n",
       "    <tr>\n",
       "      <th>0</th>\n",
       "      <td>0</td>\n",
       "      <td>0</td>\n",
       "      <td>1</td>\n",
       "      <td>0</td>\n",
       "      <td>0</td>\n",
       "      <td>0</td>\n",
       "      <td>v Bangladesh</td>\n",
       "      <td>Chattogram</td>\n",
       "      <td>23/12/2004</td>\n",
       "      <td>ODI # 2199</td>\n",
       "    </tr>\n",
       "    <tr>\n",
       "      <th>1</th>\n",
       "      <td>12</td>\n",
       "      <td>12</td>\n",
       "      <td>11</td>\n",
       "      <td>109.09</td>\n",
       "      <td>2</td>\n",
       "      <td>0</td>\n",
       "      <td>v Bangladesh</td>\n",
       "      <td>Dhaka</td>\n",
       "      <td>26/12/2004</td>\n",
       "      <td>ODI # 2201</td>\n",
       "    </tr>\n",
       "    <tr>\n",
       "      <th>2</th>\n",
       "      <td>7*</td>\n",
       "      <td>7</td>\n",
       "      <td>2</td>\n",
       "      <td>350</td>\n",
       "      <td>0</td>\n",
       "      <td>1</td>\n",
       "      <td>v Bangladesh</td>\n",
       "      <td>Dhaka</td>\n",
       "      <td>27/12/2004</td>\n",
       "      <td>ODI # 2202</td>\n",
       "    </tr>\n",
       "    <tr>\n",
       "      <th>3</th>\n",
       "      <td>3</td>\n",
       "      <td>3</td>\n",
       "      <td>7</td>\n",
       "      <td>42.85</td>\n",
       "      <td>0</td>\n",
       "      <td>0</td>\n",
       "      <td>v Pakistan</td>\n",
       "      <td>Kochi</td>\n",
       "      <td>02/04/2005</td>\n",
       "      <td>ODI # 2235</td>\n",
       "    </tr>\n",
       "    <tr>\n",
       "      <th>4</th>\n",
       "      <td>148</td>\n",
       "      <td>148</td>\n",
       "      <td>123</td>\n",
       "      <td>120.32</td>\n",
       "      <td>15</td>\n",
       "      <td>4</td>\n",
       "      <td>v Pakistan</td>\n",
       "      <td>Visakhapatnam</td>\n",
       "      <td>05/04/2005</td>\n",
       "      <td>ODI # 2236</td>\n",
       "    </tr>\n",
       "  </tbody>\n",
       "</table>\n",
       "</div>"
      ],
      "text/plain": [
       "  score runs_scored balls_faced strike_rate fours sixes    opposition  \\\n",
       "0     0           0           1           0     0     0  v Bangladesh   \n",
       "1    12          12          11      109.09     2     0  v Bangladesh   \n",
       "2    7*           7           2         350     0     1  v Bangladesh   \n",
       "3     3           3           7       42.85     0     0    v Pakistan   \n",
       "4   148         148         123      120.32    15     4    v Pakistan   \n",
       "\n",
       "          ground        date  odi_number  \n",
       "0     Chattogram  23/12/2004  ODI # 2199  \n",
       "1          Dhaka  26/12/2004  ODI # 2201  \n",
       "2          Dhaka  27/12/2004  ODI # 2202  \n",
       "3          Kochi  02/04/2005  ODI # 2235  \n",
       "4  Visakhapatnam  05/04/2005  ODI # 2236  "
      ]
     },
     "execution_count": 4,
     "metadata": {},
     "output_type": "execute_result"
    }
   ],
   "source": [
    "#Basic Checks\n",
    "df.head()"
   ]
  },
  {
   "cell_type": "code",
   "execution_count": 5,
   "metadata": {},
   "outputs": [
    {
     "data": {
      "text/html": [
       "<div>\n",
       "<style scoped>\n",
       "    .dataframe tbody tr th:only-of-type {\n",
       "        vertical-align: middle;\n",
       "    }\n",
       "\n",
       "    .dataframe tbody tr th {\n",
       "        vertical-align: top;\n",
       "    }\n",
       "\n",
       "    .dataframe thead th {\n",
       "        text-align: right;\n",
       "    }\n",
       "</style>\n",
       "<table border=\"1\" class=\"dataframe\">\n",
       "  <thead>\n",
       "    <tr style=\"text-align: right;\">\n",
       "      <th></th>\n",
       "      <th>score</th>\n",
       "      <th>runs_scored</th>\n",
       "      <th>balls_faced</th>\n",
       "      <th>strike_rate</th>\n",
       "      <th>fours</th>\n",
       "      <th>sixes</th>\n",
       "      <th>opposition</th>\n",
       "      <th>ground</th>\n",
       "      <th>date</th>\n",
       "      <th>odi_number</th>\n",
       "    </tr>\n",
       "  </thead>\n",
       "  <tbody>\n",
       "    <tr>\n",
       "      <th>345</th>\n",
       "      <td>56*</td>\n",
       "      <td>56</td>\n",
       "      <td>61</td>\n",
       "      <td>91.8</td>\n",
       "      <td>3</td>\n",
       "      <td>2</td>\n",
       "      <td>v West Indies</td>\n",
       "      <td>Manchester</td>\n",
       "      <td>27/06/2019</td>\n",
       "      <td>ODI # 4175</td>\n",
       "    </tr>\n",
       "    <tr>\n",
       "      <th>346</th>\n",
       "      <td>42*</td>\n",
       "      <td>42</td>\n",
       "      <td>31</td>\n",
       "      <td>135.48</td>\n",
       "      <td>4</td>\n",
       "      <td>1</td>\n",
       "      <td>v England</td>\n",
       "      <td>Birmingham</td>\n",
       "      <td>30/06/2019</td>\n",
       "      <td>ODI # 4179</td>\n",
       "    </tr>\n",
       "    <tr>\n",
       "      <th>347</th>\n",
       "      <td>35</td>\n",
       "      <td>35</td>\n",
       "      <td>33</td>\n",
       "      <td>106.06</td>\n",
       "      <td>4</td>\n",
       "      <td>0</td>\n",
       "      <td>v Bangladesh</td>\n",
       "      <td>Birmingham</td>\n",
       "      <td>02/07/2019</td>\n",
       "      <td>ODI # 4182</td>\n",
       "    </tr>\n",
       "    <tr>\n",
       "      <th>348</th>\n",
       "      <td>DNB</td>\n",
       "      <td>-</td>\n",
       "      <td>-</td>\n",
       "      <td>-</td>\n",
       "      <td>-</td>\n",
       "      <td>-</td>\n",
       "      <td>v Sri Lanka</td>\n",
       "      <td>Leeds</td>\n",
       "      <td>06/07/2019</td>\n",
       "      <td>ODI # 4187</td>\n",
       "    </tr>\n",
       "    <tr>\n",
       "      <th>349</th>\n",
       "      <td>50</td>\n",
       "      <td>50</td>\n",
       "      <td>72</td>\n",
       "      <td>69.44</td>\n",
       "      <td>1</td>\n",
       "      <td>1</td>\n",
       "      <td>v New Zealand</td>\n",
       "      <td>Manchester</td>\n",
       "      <td>09/07/2019</td>\n",
       "      <td>ODI # 4190</td>\n",
       "    </tr>\n",
       "  </tbody>\n",
       "</table>\n",
       "</div>"
      ],
      "text/plain": [
       "    score runs_scored balls_faced strike_rate fours sixes     opposition  \\\n",
       "345   56*          56          61        91.8     3     2  v West Indies   \n",
       "346   42*          42          31      135.48     4     1      v England   \n",
       "347    35          35          33      106.06     4     0   v Bangladesh   \n",
       "348   DNB           -           -           -     -     -    v Sri Lanka   \n",
       "349    50          50          72       69.44     1     1  v New Zealand   \n",
       "\n",
       "         ground        date  odi_number  \n",
       "345  Manchester  27/06/2019  ODI # 4175  \n",
       "346  Birmingham  30/06/2019  ODI # 4179  \n",
       "347  Birmingham  02/07/2019  ODI # 4182  \n",
       "348       Leeds  06/07/2019  ODI # 4187  \n",
       "349  Manchester  09/07/2019  ODI # 4190  "
      ]
     },
     "execution_count": 5,
     "metadata": {},
     "output_type": "execute_result"
    }
   ],
   "source": [
    "df.tail()"
   ]
  },
  {
   "cell_type": "code",
   "execution_count": 6,
   "metadata": {},
   "outputs": [],
   "source": [
    "#data cleaning-opposition name says'v Aus' etc,we ran remove 'v'\n",
    "# df[\"opposition\"]=df['opposition'].apply(lambda x:x[2:])\n",
    "df[\"opposition\"]=df['opposition'].str.replace('v ',\"\",regex=False)\n"
   ]
  },
  {
   "cell_type": "code",
   "execution_count": 7,
   "metadata": {},
   "outputs": [
    {
     "data": {
      "text/html": [
       "<div>\n",
       "<style scoped>\n",
       "    .dataframe tbody tr th:only-of-type {\n",
       "        vertical-align: middle;\n",
       "    }\n",
       "\n",
       "    .dataframe tbody tr th {\n",
       "        vertical-align: top;\n",
       "    }\n",
       "\n",
       "    .dataframe thead th {\n",
       "        text-align: right;\n",
       "    }\n",
       "</style>\n",
       "<table border=\"1\" class=\"dataframe\">\n",
       "  <thead>\n",
       "    <tr style=\"text-align: right;\">\n",
       "      <th></th>\n",
       "      <th>score</th>\n",
       "      <th>runs_scored</th>\n",
       "      <th>balls_faced</th>\n",
       "      <th>strike_rate</th>\n",
       "      <th>fours</th>\n",
       "      <th>sixes</th>\n",
       "      <th>opposition</th>\n",
       "      <th>ground</th>\n",
       "      <th>date</th>\n",
       "      <th>odi_number</th>\n",
       "    </tr>\n",
       "  </thead>\n",
       "  <tbody>\n",
       "    <tr>\n",
       "      <th>0</th>\n",
       "      <td>0</td>\n",
       "      <td>0</td>\n",
       "      <td>1</td>\n",
       "      <td>0</td>\n",
       "      <td>0</td>\n",
       "      <td>0</td>\n",
       "      <td>Bangladesh</td>\n",
       "      <td>Chattogram</td>\n",
       "      <td>23/12/2004</td>\n",
       "      <td>ODI # 2199</td>\n",
       "    </tr>\n",
       "    <tr>\n",
       "      <th>1</th>\n",
       "      <td>12</td>\n",
       "      <td>12</td>\n",
       "      <td>11</td>\n",
       "      <td>109.09</td>\n",
       "      <td>2</td>\n",
       "      <td>0</td>\n",
       "      <td>Bangladesh</td>\n",
       "      <td>Dhaka</td>\n",
       "      <td>26/12/2004</td>\n",
       "      <td>ODI # 2201</td>\n",
       "    </tr>\n",
       "    <tr>\n",
       "      <th>2</th>\n",
       "      <td>7*</td>\n",
       "      <td>7</td>\n",
       "      <td>2</td>\n",
       "      <td>350</td>\n",
       "      <td>0</td>\n",
       "      <td>1</td>\n",
       "      <td>Bangladesh</td>\n",
       "      <td>Dhaka</td>\n",
       "      <td>27/12/2004</td>\n",
       "      <td>ODI # 2202</td>\n",
       "    </tr>\n",
       "    <tr>\n",
       "      <th>3</th>\n",
       "      <td>3</td>\n",
       "      <td>3</td>\n",
       "      <td>7</td>\n",
       "      <td>42.85</td>\n",
       "      <td>0</td>\n",
       "      <td>0</td>\n",
       "      <td>Pakistan</td>\n",
       "      <td>Kochi</td>\n",
       "      <td>02/04/2005</td>\n",
       "      <td>ODI # 2235</td>\n",
       "    </tr>\n",
       "    <tr>\n",
       "      <th>4</th>\n",
       "      <td>148</td>\n",
       "      <td>148</td>\n",
       "      <td>123</td>\n",
       "      <td>120.32</td>\n",
       "      <td>15</td>\n",
       "      <td>4</td>\n",
       "      <td>Pakistan</td>\n",
       "      <td>Visakhapatnam</td>\n",
       "      <td>05/04/2005</td>\n",
       "      <td>ODI # 2236</td>\n",
       "    </tr>\n",
       "    <tr>\n",
       "      <th>...</th>\n",
       "      <td>...</td>\n",
       "      <td>...</td>\n",
       "      <td>...</td>\n",
       "      <td>...</td>\n",
       "      <td>...</td>\n",
       "      <td>...</td>\n",
       "      <td>...</td>\n",
       "      <td>...</td>\n",
       "      <td>...</td>\n",
       "      <td>...</td>\n",
       "    </tr>\n",
       "    <tr>\n",
       "      <th>345</th>\n",
       "      <td>56*</td>\n",
       "      <td>56</td>\n",
       "      <td>61</td>\n",
       "      <td>91.8</td>\n",
       "      <td>3</td>\n",
       "      <td>2</td>\n",
       "      <td>West Indies</td>\n",
       "      <td>Manchester</td>\n",
       "      <td>27/06/2019</td>\n",
       "      <td>ODI # 4175</td>\n",
       "    </tr>\n",
       "    <tr>\n",
       "      <th>346</th>\n",
       "      <td>42*</td>\n",
       "      <td>42</td>\n",
       "      <td>31</td>\n",
       "      <td>135.48</td>\n",
       "      <td>4</td>\n",
       "      <td>1</td>\n",
       "      <td>England</td>\n",
       "      <td>Birmingham</td>\n",
       "      <td>30/06/2019</td>\n",
       "      <td>ODI # 4179</td>\n",
       "    </tr>\n",
       "    <tr>\n",
       "      <th>347</th>\n",
       "      <td>35</td>\n",
       "      <td>35</td>\n",
       "      <td>33</td>\n",
       "      <td>106.06</td>\n",
       "      <td>4</td>\n",
       "      <td>0</td>\n",
       "      <td>Bangladesh</td>\n",
       "      <td>Birmingham</td>\n",
       "      <td>02/07/2019</td>\n",
       "      <td>ODI # 4182</td>\n",
       "    </tr>\n",
       "    <tr>\n",
       "      <th>348</th>\n",
       "      <td>DNB</td>\n",
       "      <td>-</td>\n",
       "      <td>-</td>\n",
       "      <td>-</td>\n",
       "      <td>-</td>\n",
       "      <td>-</td>\n",
       "      <td>Sri Lanka</td>\n",
       "      <td>Leeds</td>\n",
       "      <td>06/07/2019</td>\n",
       "      <td>ODI # 4187</td>\n",
       "    </tr>\n",
       "    <tr>\n",
       "      <th>349</th>\n",
       "      <td>50</td>\n",
       "      <td>50</td>\n",
       "      <td>72</td>\n",
       "      <td>69.44</td>\n",
       "      <td>1</td>\n",
       "      <td>1</td>\n",
       "      <td>New Zealand</td>\n",
       "      <td>Manchester</td>\n",
       "      <td>09/07/2019</td>\n",
       "      <td>ODI # 4190</td>\n",
       "    </tr>\n",
       "  </tbody>\n",
       "</table>\n",
       "<p>350 rows × 10 columns</p>\n",
       "</div>"
      ],
      "text/plain": [
       "    score runs_scored balls_faced strike_rate fours sixes   opposition  \\\n",
       "0       0           0           1           0     0     0   Bangladesh   \n",
       "1      12          12          11      109.09     2     0   Bangladesh   \n",
       "2      7*           7           2         350     0     1   Bangladesh   \n",
       "3       3           3           7       42.85     0     0     Pakistan   \n",
       "4     148         148         123      120.32    15     4     Pakistan   \n",
       "..    ...         ...         ...         ...   ...   ...          ...   \n",
       "345   56*          56          61        91.8     3     2  West Indies   \n",
       "346   42*          42          31      135.48     4     1      England   \n",
       "347    35          35          33      106.06     4     0   Bangladesh   \n",
       "348   DNB           -           -           -     -     -    Sri Lanka   \n",
       "349    50          50          72       69.44     1     1  New Zealand   \n",
       "\n",
       "            ground        date  odi_number  \n",
       "0       Chattogram  23/12/2004  ODI # 2199  \n",
       "1            Dhaka  26/12/2004  ODI # 2201  \n",
       "2            Dhaka  27/12/2004  ODI # 2202  \n",
       "3            Kochi  02/04/2005  ODI # 2235  \n",
       "4    Visakhapatnam  05/04/2005  ODI # 2236  \n",
       "..             ...         ...         ...  \n",
       "345     Manchester  27/06/2019  ODI # 4175  \n",
       "346     Birmingham  30/06/2019  ODI # 4179  \n",
       "347     Birmingham  02/07/2019  ODI # 4182  \n",
       "348          Leeds  06/07/2019  ODI # 4187  \n",
       "349     Manchester  09/07/2019  ODI # 4190  \n",
       "\n",
       "[350 rows x 10 columns]"
      ]
     },
     "execution_count": 7,
     "metadata": {},
     "output_type": "execute_result"
    }
   ],
   "source": [
    "df"
   ]
  },
  {
   "cell_type": "code",
   "execution_count": 8,
   "metadata": {},
   "outputs": [
    {
     "data": {
      "text/plain": [
       "0      2004\n",
       "1      2004\n",
       "2      2004\n",
       "3      2005\n",
       "4      2005\n",
       "       ... \n",
       "345    2019\n",
       "346    2019\n",
       "347    2019\n",
       "348    2019\n",
       "349    2019\n",
       "Name: year, Length: 350, dtype: int32"
      ]
     },
     "execution_count": 8,
     "metadata": {},
     "output_type": "execute_result"
    }
   ],
   "source": [
    "#Add afeature year column using the match date column\n",
    "df[\"date\"]=pd.to_datetime(df['date'],dayfirst=True)\n",
    "df['year']=df[\"date\"].dt.year.astype(int)\n",
    "df[\"year\"]"
   ]
  },
  {
   "cell_type": "code",
   "execution_count": 9,
   "metadata": {},
   "outputs": [
    {
     "data": {
      "text/html": [
       "<div>\n",
       "<style scoped>\n",
       "    .dataframe tbody tr th:only-of-type {\n",
       "        vertical-align: middle;\n",
       "    }\n",
       "\n",
       "    .dataframe tbody tr th {\n",
       "        vertical-align: top;\n",
       "    }\n",
       "\n",
       "    .dataframe thead th {\n",
       "        text-align: right;\n",
       "    }\n",
       "</style>\n",
       "<table border=\"1\" class=\"dataframe\">\n",
       "  <thead>\n",
       "    <tr style=\"text-align: right;\">\n",
       "      <th></th>\n",
       "      <th>score</th>\n",
       "      <th>runs_scored</th>\n",
       "      <th>balls_faced</th>\n",
       "      <th>strike_rate</th>\n",
       "      <th>fours</th>\n",
       "      <th>sixes</th>\n",
       "      <th>opposition</th>\n",
       "      <th>ground</th>\n",
       "      <th>date</th>\n",
       "      <th>odi_number</th>\n",
       "      <th>year</th>\n",
       "      <th>not_out</th>\n",
       "    </tr>\n",
       "  </thead>\n",
       "  <tbody>\n",
       "    <tr>\n",
       "      <th>0</th>\n",
       "      <td>0</td>\n",
       "      <td>0</td>\n",
       "      <td>1</td>\n",
       "      <td>0</td>\n",
       "      <td>0</td>\n",
       "      <td>0</td>\n",
       "      <td>Bangladesh</td>\n",
       "      <td>Chattogram</td>\n",
       "      <td>2004-12-23</td>\n",
       "      <td>ODI # 2199</td>\n",
       "      <td>2004</td>\n",
       "      <td>0</td>\n",
       "    </tr>\n",
       "    <tr>\n",
       "      <th>1</th>\n",
       "      <td>12</td>\n",
       "      <td>12</td>\n",
       "      <td>11</td>\n",
       "      <td>109.09</td>\n",
       "      <td>2</td>\n",
       "      <td>0</td>\n",
       "      <td>Bangladesh</td>\n",
       "      <td>Dhaka</td>\n",
       "      <td>2004-12-26</td>\n",
       "      <td>ODI # 2201</td>\n",
       "      <td>2004</td>\n",
       "      <td>0</td>\n",
       "    </tr>\n",
       "    <tr>\n",
       "      <th>2</th>\n",
       "      <td>7*</td>\n",
       "      <td>7</td>\n",
       "      <td>2</td>\n",
       "      <td>350</td>\n",
       "      <td>0</td>\n",
       "      <td>1</td>\n",
       "      <td>Bangladesh</td>\n",
       "      <td>Dhaka</td>\n",
       "      <td>2004-12-27</td>\n",
       "      <td>ODI # 2202</td>\n",
       "      <td>2004</td>\n",
       "      <td>1</td>\n",
       "    </tr>\n",
       "    <tr>\n",
       "      <th>3</th>\n",
       "      <td>3</td>\n",
       "      <td>3</td>\n",
       "      <td>7</td>\n",
       "      <td>42.85</td>\n",
       "      <td>0</td>\n",
       "      <td>0</td>\n",
       "      <td>Pakistan</td>\n",
       "      <td>Kochi</td>\n",
       "      <td>2005-04-02</td>\n",
       "      <td>ODI # 2235</td>\n",
       "      <td>2005</td>\n",
       "      <td>0</td>\n",
       "    </tr>\n",
       "    <tr>\n",
       "      <th>4</th>\n",
       "      <td>148</td>\n",
       "      <td>148</td>\n",
       "      <td>123</td>\n",
       "      <td>120.32</td>\n",
       "      <td>15</td>\n",
       "      <td>4</td>\n",
       "      <td>Pakistan</td>\n",
       "      <td>Visakhapatnam</td>\n",
       "      <td>2005-04-05</td>\n",
       "      <td>ODI # 2236</td>\n",
       "      <td>2005</td>\n",
       "      <td>0</td>\n",
       "    </tr>\n",
       "  </tbody>\n",
       "</table>\n",
       "</div>"
      ],
      "text/plain": [
       "  score runs_scored balls_faced strike_rate fours sixes  opposition  \\\n",
       "0     0           0           1           0     0     0  Bangladesh   \n",
       "1    12          12          11      109.09     2     0  Bangladesh   \n",
       "2    7*           7           2         350     0     1  Bangladesh   \n",
       "3     3           3           7       42.85     0     0    Pakistan   \n",
       "4   148         148         123      120.32    15     4    Pakistan   \n",
       "\n",
       "          ground       date  odi_number  year  not_out  \n",
       "0     Chattogram 2004-12-23  ODI # 2199  2004        0  \n",
       "1          Dhaka 2004-12-26  ODI # 2201  2004        0  \n",
       "2          Dhaka 2004-12-27  ODI # 2202  2004        1  \n",
       "3          Kochi 2005-04-02  ODI # 2235  2005        0  \n",
       "4  Visakhapatnam 2005-04-05  ODI # 2236  2005        0  "
      ]
     },
     "execution_count": 9,
     "metadata": {},
     "output_type": "execute_result"
    }
   ],
   "source": [
    "df['score'] = df['score'].apply(str)\n",
    "df['not_out'] = np.where(df['score'].str.endswith('*'), 1, 0)\n",
    "df.head()"
   ]
  },
  {
   "cell_type": "code",
   "execution_count": 10,
   "metadata": {},
   "outputs": [],
   "source": [
    "df.drop(columns=\"odi_number\",inplace=True)"
   ]
  },
  {
   "cell_type": "code",
   "execution_count": 11,
   "metadata": {},
   "outputs": [
    {
     "data": {
      "text/html": [
       "<div>\n",
       "<style scoped>\n",
       "    .dataframe tbody tr th:only-of-type {\n",
       "        vertical-align: middle;\n",
       "    }\n",
       "\n",
       "    .dataframe tbody tr th {\n",
       "        vertical-align: top;\n",
       "    }\n",
       "\n",
       "    .dataframe thead th {\n",
       "        text-align: right;\n",
       "    }\n",
       "</style>\n",
       "<table border=\"1\" class=\"dataframe\">\n",
       "  <thead>\n",
       "    <tr style=\"text-align: right;\">\n",
       "      <th></th>\n",
       "      <th>score</th>\n",
       "      <th>runs_scored</th>\n",
       "      <th>balls_faced</th>\n",
       "      <th>strike_rate</th>\n",
       "      <th>fours</th>\n",
       "      <th>sixes</th>\n",
       "      <th>opposition</th>\n",
       "      <th>ground</th>\n",
       "      <th>date</th>\n",
       "      <th>year</th>\n",
       "      <th>not_out</th>\n",
       "    </tr>\n",
       "  </thead>\n",
       "  <tbody>\n",
       "    <tr>\n",
       "      <th>0</th>\n",
       "      <td>0</td>\n",
       "      <td>0</td>\n",
       "      <td>1</td>\n",
       "      <td>0</td>\n",
       "      <td>0</td>\n",
       "      <td>0</td>\n",
       "      <td>Bangladesh</td>\n",
       "      <td>Chattogram</td>\n",
       "      <td>2004-12-23</td>\n",
       "      <td>2004</td>\n",
       "      <td>0</td>\n",
       "    </tr>\n",
       "    <tr>\n",
       "      <th>1</th>\n",
       "      <td>12</td>\n",
       "      <td>12</td>\n",
       "      <td>11</td>\n",
       "      <td>109.09</td>\n",
       "      <td>2</td>\n",
       "      <td>0</td>\n",
       "      <td>Bangladesh</td>\n",
       "      <td>Dhaka</td>\n",
       "      <td>2004-12-26</td>\n",
       "      <td>2004</td>\n",
       "      <td>0</td>\n",
       "    </tr>\n",
       "    <tr>\n",
       "      <th>2</th>\n",
       "      <td>7*</td>\n",
       "      <td>7</td>\n",
       "      <td>2</td>\n",
       "      <td>350</td>\n",
       "      <td>0</td>\n",
       "      <td>1</td>\n",
       "      <td>Bangladesh</td>\n",
       "      <td>Dhaka</td>\n",
       "      <td>2004-12-27</td>\n",
       "      <td>2004</td>\n",
       "      <td>1</td>\n",
       "    </tr>\n",
       "    <tr>\n",
       "      <th>3</th>\n",
       "      <td>3</td>\n",
       "      <td>3</td>\n",
       "      <td>7</td>\n",
       "      <td>42.85</td>\n",
       "      <td>0</td>\n",
       "      <td>0</td>\n",
       "      <td>Pakistan</td>\n",
       "      <td>Kochi</td>\n",
       "      <td>2005-04-02</td>\n",
       "      <td>2005</td>\n",
       "      <td>0</td>\n",
       "    </tr>\n",
       "    <tr>\n",
       "      <th>4</th>\n",
       "      <td>148</td>\n",
       "      <td>148</td>\n",
       "      <td>123</td>\n",
       "      <td>120.32</td>\n",
       "      <td>15</td>\n",
       "      <td>4</td>\n",
       "      <td>Pakistan</td>\n",
       "      <td>Visakhapatnam</td>\n",
       "      <td>2005-04-05</td>\n",
       "      <td>2005</td>\n",
       "      <td>0</td>\n",
       "    </tr>\n",
       "    <tr>\n",
       "      <th>...</th>\n",
       "      <td>...</td>\n",
       "      <td>...</td>\n",
       "      <td>...</td>\n",
       "      <td>...</td>\n",
       "      <td>...</td>\n",
       "      <td>...</td>\n",
       "      <td>...</td>\n",
       "      <td>...</td>\n",
       "      <td>...</td>\n",
       "      <td>...</td>\n",
       "      <td>...</td>\n",
       "    </tr>\n",
       "    <tr>\n",
       "      <th>345</th>\n",
       "      <td>56*</td>\n",
       "      <td>56</td>\n",
       "      <td>61</td>\n",
       "      <td>91.8</td>\n",
       "      <td>3</td>\n",
       "      <td>2</td>\n",
       "      <td>West Indies</td>\n",
       "      <td>Manchester</td>\n",
       "      <td>2019-06-27</td>\n",
       "      <td>2019</td>\n",
       "      <td>1</td>\n",
       "    </tr>\n",
       "    <tr>\n",
       "      <th>346</th>\n",
       "      <td>42*</td>\n",
       "      <td>42</td>\n",
       "      <td>31</td>\n",
       "      <td>135.48</td>\n",
       "      <td>4</td>\n",
       "      <td>1</td>\n",
       "      <td>England</td>\n",
       "      <td>Birmingham</td>\n",
       "      <td>2019-06-30</td>\n",
       "      <td>2019</td>\n",
       "      <td>1</td>\n",
       "    </tr>\n",
       "    <tr>\n",
       "      <th>347</th>\n",
       "      <td>35</td>\n",
       "      <td>35</td>\n",
       "      <td>33</td>\n",
       "      <td>106.06</td>\n",
       "      <td>4</td>\n",
       "      <td>0</td>\n",
       "      <td>Bangladesh</td>\n",
       "      <td>Birmingham</td>\n",
       "      <td>2019-07-02</td>\n",
       "      <td>2019</td>\n",
       "      <td>0</td>\n",
       "    </tr>\n",
       "    <tr>\n",
       "      <th>348</th>\n",
       "      <td>DNB</td>\n",
       "      <td>-</td>\n",
       "      <td>-</td>\n",
       "      <td>-</td>\n",
       "      <td>-</td>\n",
       "      <td>-</td>\n",
       "      <td>Sri Lanka</td>\n",
       "      <td>Leeds</td>\n",
       "      <td>2019-07-06</td>\n",
       "      <td>2019</td>\n",
       "      <td>0</td>\n",
       "    </tr>\n",
       "    <tr>\n",
       "      <th>349</th>\n",
       "      <td>50</td>\n",
       "      <td>50</td>\n",
       "      <td>72</td>\n",
       "      <td>69.44</td>\n",
       "      <td>1</td>\n",
       "      <td>1</td>\n",
       "      <td>New Zealand</td>\n",
       "      <td>Manchester</td>\n",
       "      <td>2019-07-09</td>\n",
       "      <td>2019</td>\n",
       "      <td>0</td>\n",
       "    </tr>\n",
       "  </tbody>\n",
       "</table>\n",
       "<p>350 rows × 11 columns</p>\n",
       "</div>"
      ],
      "text/plain": [
       "    score runs_scored balls_faced strike_rate fours sixes   opposition  \\\n",
       "0       0           0           1           0     0     0   Bangladesh   \n",
       "1      12          12          11      109.09     2     0   Bangladesh   \n",
       "2      7*           7           2         350     0     1   Bangladesh   \n",
       "3       3           3           7       42.85     0     0     Pakistan   \n",
       "4     148         148         123      120.32    15     4     Pakistan   \n",
       "..    ...         ...         ...         ...   ...   ...          ...   \n",
       "345   56*          56          61        91.8     3     2  West Indies   \n",
       "346   42*          42          31      135.48     4     1      England   \n",
       "347    35          35          33      106.06     4     0   Bangladesh   \n",
       "348   DNB           -           -           -     -     -    Sri Lanka   \n",
       "349    50          50          72       69.44     1     1  New Zealand   \n",
       "\n",
       "            ground       date  year  not_out  \n",
       "0       Chattogram 2004-12-23  2004        0  \n",
       "1            Dhaka 2004-12-26  2004        0  \n",
       "2            Dhaka 2004-12-27  2004        1  \n",
       "3            Kochi 2005-04-02  2005        0  \n",
       "4    Visakhapatnam 2005-04-05  2005        0  \n",
       "..             ...        ...   ...      ...  \n",
       "345     Manchester 2019-06-27  2019        1  \n",
       "346     Birmingham 2019-06-30  2019        1  \n",
       "347     Birmingham 2019-07-02  2019        0  \n",
       "348          Leeds 2019-07-06  2019        0  \n",
       "349     Manchester 2019-07-09  2019        0  \n",
       "\n",
       "[350 rows x 11 columns]"
      ]
     },
     "execution_count": 11,
     "metadata": {},
     "output_type": "execute_result"
    }
   ],
   "source": [
    "df"
   ]
  },
  {
   "cell_type": "code",
   "execution_count": 12,
   "metadata": {},
   "outputs": [
    {
     "data": {
      "text/html": [
       "<div>\n",
       "<style scoped>\n",
       "    .dataframe tbody tr th:only-of-type {\n",
       "        vertical-align: middle;\n",
       "    }\n",
       "\n",
       "    .dataframe tbody tr th {\n",
       "        vertical-align: top;\n",
       "    }\n",
       "\n",
       "    .dataframe thead th {\n",
       "        text-align: right;\n",
       "    }\n",
       "</style>\n",
       "<table border=\"1\" class=\"dataframe\">\n",
       "  <thead>\n",
       "    <tr style=\"text-align: right;\">\n",
       "      <th></th>\n",
       "      <th>runs_scored</th>\n",
       "      <th>balls_faced</th>\n",
       "      <th>strike_rate</th>\n",
       "      <th>fours</th>\n",
       "      <th>sixes</th>\n",
       "      <th>opposition</th>\n",
       "      <th>ground</th>\n",
       "      <th>date</th>\n",
       "      <th>year</th>\n",
       "      <th>not_out</th>\n",
       "    </tr>\n",
       "  </thead>\n",
       "  <tbody>\n",
       "    <tr>\n",
       "      <th>0</th>\n",
       "      <td>0</td>\n",
       "      <td>1</td>\n",
       "      <td>0</td>\n",
       "      <td>0</td>\n",
       "      <td>0</td>\n",
       "      <td>Bangladesh</td>\n",
       "      <td>Chattogram</td>\n",
       "      <td>2004-12-23</td>\n",
       "      <td>2004</td>\n",
       "      <td>0</td>\n",
       "    </tr>\n",
       "    <tr>\n",
       "      <th>1</th>\n",
       "      <td>12</td>\n",
       "      <td>11</td>\n",
       "      <td>109.09</td>\n",
       "      <td>2</td>\n",
       "      <td>0</td>\n",
       "      <td>Bangladesh</td>\n",
       "      <td>Dhaka</td>\n",
       "      <td>2004-12-26</td>\n",
       "      <td>2004</td>\n",
       "      <td>0</td>\n",
       "    </tr>\n",
       "    <tr>\n",
       "      <th>2</th>\n",
       "      <td>7</td>\n",
       "      <td>2</td>\n",
       "      <td>350</td>\n",
       "      <td>0</td>\n",
       "      <td>1</td>\n",
       "      <td>Bangladesh</td>\n",
       "      <td>Dhaka</td>\n",
       "      <td>2004-12-27</td>\n",
       "      <td>2004</td>\n",
       "      <td>1</td>\n",
       "    </tr>\n",
       "    <tr>\n",
       "      <th>3</th>\n",
       "      <td>3</td>\n",
       "      <td>7</td>\n",
       "      <td>42.85</td>\n",
       "      <td>0</td>\n",
       "      <td>0</td>\n",
       "      <td>Pakistan</td>\n",
       "      <td>Kochi</td>\n",
       "      <td>2005-04-02</td>\n",
       "      <td>2005</td>\n",
       "      <td>0</td>\n",
       "    </tr>\n",
       "    <tr>\n",
       "      <th>4</th>\n",
       "      <td>148</td>\n",
       "      <td>123</td>\n",
       "      <td>120.32</td>\n",
       "      <td>15</td>\n",
       "      <td>4</td>\n",
       "      <td>Pakistan</td>\n",
       "      <td>Visakhapatnam</td>\n",
       "      <td>2005-04-05</td>\n",
       "      <td>2005</td>\n",
       "      <td>0</td>\n",
       "    </tr>\n",
       "  </tbody>\n",
       "</table>\n",
       "</div>"
      ],
      "text/plain": [
       "  runs_scored balls_faced strike_rate fours sixes  opposition         ground  \\\n",
       "0           0           1           0     0     0  Bangladesh     Chattogram   \n",
       "1          12          11      109.09     2     0  Bangladesh          Dhaka   \n",
       "2           7           2         350     0     1  Bangladesh          Dhaka   \n",
       "3           3           7       42.85     0     0    Pakistan          Kochi   \n",
       "4         148         123      120.32    15     4    Pakistan  Visakhapatnam   \n",
       "\n",
       "        date  year  not_out  \n",
       "0 2004-12-23  2004        0  \n",
       "1 2004-12-26  2004        0  \n",
       "2 2004-12-27  2004        1  \n",
       "3 2005-04-02  2005        0  \n",
       "4 2005-04-05  2005        0  "
      ]
     },
     "execution_count": 12,
     "metadata": {},
     "output_type": "execute_result"
    }
   ],
   "source": [
    "df_new = df.loc[((df['score'] != 'DNB') & (df['score'] != 'TDNB')), 'runs_scored' : ]\n",
    "df_new.head()"
   ]
  },
  {
   "cell_type": "code",
   "execution_count": 13,
   "metadata": {},
   "outputs": [
    {
     "data": {
      "text/html": [
       "<div>\n",
       "<style scoped>\n",
       "    .dataframe tbody tr th:only-of-type {\n",
       "        vertical-align: middle;\n",
       "    }\n",
       "\n",
       "    .dataframe tbody tr th {\n",
       "        vertical-align: top;\n",
       "    }\n",
       "\n",
       "    .dataframe thead th {\n",
       "        text-align: right;\n",
       "    }\n",
       "</style>\n",
       "<table border=\"1\" class=\"dataframe\">\n",
       "  <thead>\n",
       "    <tr style=\"text-align: right;\">\n",
       "      <th></th>\n",
       "      <th>runs_scored</th>\n",
       "      <th>balls_faced</th>\n",
       "      <th>strike_rate</th>\n",
       "      <th>fours</th>\n",
       "      <th>sixes</th>\n",
       "      <th>opposition</th>\n",
       "      <th>ground</th>\n",
       "      <th>date</th>\n",
       "      <th>year</th>\n",
       "      <th>not_out</th>\n",
       "    </tr>\n",
       "  </thead>\n",
       "  <tbody>\n",
       "    <tr>\n",
       "      <th>0</th>\n",
       "      <td>0</td>\n",
       "      <td>1</td>\n",
       "      <td>0.00</td>\n",
       "      <td>0</td>\n",
       "      <td>0</td>\n",
       "      <td>Bangladesh</td>\n",
       "      <td>Chattogram</td>\n",
       "      <td>2004-12-23</td>\n",
       "      <td>2004</td>\n",
       "      <td>0</td>\n",
       "    </tr>\n",
       "    <tr>\n",
       "      <th>1</th>\n",
       "      <td>12</td>\n",
       "      <td>11</td>\n",
       "      <td>109.09</td>\n",
       "      <td>2</td>\n",
       "      <td>0</td>\n",
       "      <td>Bangladesh</td>\n",
       "      <td>Dhaka</td>\n",
       "      <td>2004-12-26</td>\n",
       "      <td>2004</td>\n",
       "      <td>0</td>\n",
       "    </tr>\n",
       "    <tr>\n",
       "      <th>2</th>\n",
       "      <td>7</td>\n",
       "      <td>2</td>\n",
       "      <td>350.00</td>\n",
       "      <td>0</td>\n",
       "      <td>1</td>\n",
       "      <td>Bangladesh</td>\n",
       "      <td>Dhaka</td>\n",
       "      <td>2004-12-27</td>\n",
       "      <td>2004</td>\n",
       "      <td>1</td>\n",
       "    </tr>\n",
       "    <tr>\n",
       "      <th>3</th>\n",
       "      <td>3</td>\n",
       "      <td>7</td>\n",
       "      <td>42.85</td>\n",
       "      <td>0</td>\n",
       "      <td>0</td>\n",
       "      <td>Pakistan</td>\n",
       "      <td>Kochi</td>\n",
       "      <td>2005-04-02</td>\n",
       "      <td>2005</td>\n",
       "      <td>0</td>\n",
       "    </tr>\n",
       "    <tr>\n",
       "      <th>4</th>\n",
       "      <td>148</td>\n",
       "      <td>123</td>\n",
       "      <td>120.32</td>\n",
       "      <td>15</td>\n",
       "      <td>4</td>\n",
       "      <td>Pakistan</td>\n",
       "      <td>Visakhapatnam</td>\n",
       "      <td>2005-04-05</td>\n",
       "      <td>2005</td>\n",
       "      <td>0</td>\n",
       "    </tr>\n",
       "  </tbody>\n",
       "</table>\n",
       "</div>"
      ],
      "text/plain": [
       "   runs_scored  balls_faced  strike_rate  fours  sixes  opposition  \\\n",
       "0            0            1         0.00      0      0  Bangladesh   \n",
       "1           12           11       109.09      2      0  Bangladesh   \n",
       "2            7            2       350.00      0      1  Bangladesh   \n",
       "3            3            7        42.85      0      0    Pakistan   \n",
       "4          148          123       120.32     15      4    Pakistan   \n",
       "\n",
       "          ground       date  year  not_out  \n",
       "0     Chattogram 2004-12-23  2004        0  \n",
       "1          Dhaka 2004-12-26  2004        0  \n",
       "2          Dhaka 2004-12-27  2004        1  \n",
       "3          Kochi 2005-04-02  2005        0  \n",
       "4  Visakhapatnam 2005-04-05  2005        0  "
      ]
     },
     "execution_count": 13,
     "metadata": {},
     "output_type": "execute_result"
    }
   ],
   "source": [
    "df_new['runs_scored'] = df_new['runs_scored'].astype(int)\n",
    "df_new['balls_faced'] = df_new['balls_faced'].astype(int)\n",
    "df_new['strike_rate'] = df_new['strike_rate'].astype(float)\n",
    "df_new['fours'] = df_new['fours'].astype(int)\n",
    "df_new['sixes'] = df_new['sixes'].astype(int)\n",
    "\n",
    "df_new.head()"
   ]
  },
  {
   "cell_type": "code",
   "execution_count": 14,
   "metadata": {},
   "outputs": [
    {
     "name": "stdout",
     "output_type": "stream",
     "text": [
      "First match:  December 23, 2004\n"
     ]
    }
   ],
   "source": [
    "# Career Stats\n",
    "first_match_date = df['date'].dt.date.min().strftime('%B %d, %Y') # first match\n",
    "print(\"First match: \", first_match_date)"
   ]
  },
  {
   "cell_type": "code",
   "execution_count": 15,
   "metadata": {},
   "outputs": [
    {
     "name": "stdout",
     "output_type": "stream",
     "text": [
      "Last match:  July 09, 2019\n"
     ]
    }
   ],
   "source": [
    "last_match_date = df['date'].dt.date.max().strftime('%B %d, %Y') # first match\n",
    "print(\"Last match: \", last_match_date)"
   ]
  },
  {
   "cell_type": "code",
   "execution_count": 16,
   "metadata": {},
   "outputs": [
    {
     "name": "stdout",
     "output_type": "stream",
     "text": [
      "Number of matches played:  350\n"
     ]
    }
   ],
   "source": [
    "number_of_matches = df.shape[0]\n",
    "print(\"Number of matches played: \", number_of_matches)"
   ]
  },
  {
   "cell_type": "code",
   "execution_count": 17,
   "metadata": {},
   "outputs": [
    {
     "name": "stdout",
     "output_type": "stream",
     "text": [
      "Number of innings:  297\n"
     ]
    }
   ],
   "source": [
    "number_of_inns = df_new.shape[0]\n",
    "print(\"Number of innings: \", number_of_inns)"
   ]
  },
  {
   "cell_type": "code",
   "execution_count": 18,
   "metadata": {},
   "outputs": [
    {
     "name": "stdout",
     "output_type": "stream",
     "text": [
      "Not outs:  84\n"
     ]
    }
   ],
   "source": [
    "not_outs = df_new['not_out'].sum()\n",
    "print(\"Not outs: \", not_outs)"
   ]
  },
  {
   "cell_type": "code",
   "execution_count": 19,
   "metadata": {},
   "outputs": [
    {
     "name": "stdout",
     "output_type": "stream",
     "text": [
      "Runs scored:  10773\n"
     ]
    }
   ],
   "source": [
    "runs_scored = df_new['runs_scored'].sum()\n",
    "print(\"Runs scored: \", runs_scored)"
   ]
  },
  {
   "cell_type": "code",
   "execution_count": 20,
   "metadata": {},
   "outputs": [
    {
     "name": "stdout",
     "output_type": "stream",
     "text": [
      "Balls faced in career:  12303\n"
     ]
    }
   ],
   "source": [
    "balls_faced = df_new['balls_faced'].sum()\n",
    "print(\"Balls faced in career: \", balls_faced)"
   ]
  },
  {
   "cell_type": "code",
   "execution_count": 21,
   "metadata": {},
   "outputs": [
    {
     "name": "stdout",
     "output_type": "stream",
     "text": [
      "Career strike rate: 87.56\n"
     ]
    }
   ],
   "source": [
    "career_sr = (runs_scored / balls_faced)*100\n",
    "print('Career strike rate: {:.2f}'.format(career_sr))"
   ]
  },
  {
   "cell_type": "code",
   "execution_count": 22,
   "metadata": {},
   "outputs": [
    {
     "name": "stdout",
     "output_type": "stream",
     "text": [
      "Career Average: 50.58\n"
     ]
    }
   ],
   "source": [
    "career_avg = (runs_scored / (number_of_inns - not_outs))\n",
    "print('Career Average: {:.2f}'.format(career_avg))"
   ]
  },
  {
   "cell_type": "code",
   "execution_count": 23,
   "metadata": {},
   "outputs": [
    {
     "name": "stdout",
     "output_type": "stream",
     "text": [
      "Number of 100s:  10\n"
     ]
    }
   ],
   "source": [
    "hundreds = (df_new['runs_scored'] >= 100).sum()\n",
    "print(\"Number of 100s: \", hundreds)"
   ]
  },
  {
   "cell_type": "code",
   "execution_count": 24,
   "metadata": {},
   "outputs": [
    {
     "name": "stdout",
     "output_type": "stream",
     "text": [
      "Number of 50s:  73\n"
     ]
    }
   ],
   "source": [
    "fifties = ((df_new['runs_scored'] >= 50) & (df_new['runs_scored'] < 100)).sum()\n",
    "print(\"Number of 50s: \", fifties)"
   ]
  },
  {
   "cell_type": "code",
   "execution_count": 25,
   "metadata": {},
   "outputs": [
    {
     "name": "stdout",
     "output_type": "stream",
     "text": [
      "Number of 4s:  826\n"
     ]
    }
   ],
   "source": [
    "fours = df_new['fours'].sum()\n",
    "print(\"Number of 4s: \", fours)"
   ]
  },
  {
   "cell_type": "code",
   "execution_count": 26,
   "metadata": {},
   "outputs": [
    {
     "name": "stdout",
     "output_type": "stream",
     "text": [
      "Number of 6s:  229\n"
     ]
    }
   ],
   "source": [
    "sixes = df_new['sixes'].sum()\n",
    "print(\"Number of 6s: \", sixes)"
   ]
  },
  {
   "cell_type": "code",
   "execution_count": 27,
   "metadata": {},
   "outputs": [
    {
     "ename": "SyntaxError",
     "evalue": "invalid syntax (<ipython-input-27-1f4cc9cb9f9e>, line 2)",
     "output_type": "error",
     "traceback": [
      "\u001b[1;36m  File \u001b[1;32m\"<ipython-input-27-1f4cc9cb9f9e>\"\u001b[1;36m, line \u001b[1;32m2\u001b[0m\n\u001b[1;33m    Count the occurences of each unique value in the 'opposition' column\u001b[0m\n\u001b[1;37m          ^\u001b[0m\n\u001b[1;31mSyntaxError\u001b[0m\u001b[1;31m:\u001b[0m invalid syntax\n"
     ]
    }
   ],
   "source": [
    "# Number of matched played against each opposition\n",
    "Count the occurences of each unique value in the 'opposition' column"
   ]
  },
  {
   "cell_type": "code",
   "execution_count": 28,
   "metadata": {},
   "outputs": [
    {
     "name": "stdout",
     "output_type": "stream",
     "text": [
      "Sri Lanka       67\n",
      "Australia       55\n",
      "England         48\n",
      "West Indies     39\n",
      "South Africa    37\n",
      "Pakistan        36\n",
      "New Zealand     28\n",
      "Bangladesh      21\n",
      "Zimbabwe         6\n",
      "Africa XI        3\n",
      "Afghanistan      2\n",
      "Hong Kong        2\n",
      "Ireland          2\n",
      "Scotland         1\n",
      "Bermuda          1\n",
      "Netherlands      1\n",
      "U.A.E.           1\n",
      "Name: opposition, dtype: int64\n"
     ]
    }
   ],
   "source": [
    "opposition_counts = df['opposition'].value_counts()\n",
    "print(opposition_counts)"
   ]
  },
  {
   "cell_type": "code",
   "execution_count": 29,
   "metadata": {},
   "outputs": [
    {
     "data": {
      "text/plain": [
       "<Axes: title={'center': 'Number of matche against different oppositions'}>"
      ]
     },
     "execution_count": 29,
     "metadata": {},
     "output_type": "execute_result"
    },
    {
     "data": {
      "image/png": "[encoded data removed]",
      "text/plain": [
       "<Figure size 576x360 with 1 Axes>"
      ]
     },
     "metadata": {
      "needs_background": "light"
     },
     "output_type": "display_data"
    }
   ],
   "source": [
    "#  Plot the counts as a bar plot\n",
    "opposition_counts.plot(kind = 'bar', title = 'Number of matche against different oppositions', figsize = (8, 5))"
   ]
  },
  {
   "cell_type": "code",
   "execution_count": 30,
   "metadata": {},
   "outputs": [],
   "source": [
    "# Runs sored gainst each team\n"
   ]
  },
  {
   "cell_type": "code",
   "execution_count": 31,
   "metadata": {},
   "outputs": [
    {
     "data": {
      "text/plain": [
       "<pandas.core.groupby.generic.DataFrameGroupBy object at 0x000001638ED7DA90>"
      ]
     },
     "execution_count": 31,
     "metadata": {},
     "output_type": "execute_result"
    }
   ],
   "source": [
    "grouped_by_opposition = df_new.groupby('opposition')\n",
    "grouped_by_opposition"
   ]
  },
  {
   "cell_type": "code",
   "execution_count": 32,
   "metadata": {},
   "outputs": [
    {
     "name": "stdout",
     "output_type": "stream",
     "text": [
      "opposition\n",
      "Afghanistan       36\n",
      "Africa XI        174\n",
      "Australia       1660\n",
      "Bangladesh       569\n",
      "Bermuda           29\n",
      "England         1546\n",
      "Hong Kong        109\n",
      "Ireland           34\n",
      "Netherlands       19\n",
      "New Zealand      940\n",
      "Pakistan        1231\n",
      "South Africa     830\n",
      "Sri Lanka       2383\n",
      "West Indies     1005\n",
      "Zimbabwe         208\n",
      "Name: runs_scored, dtype: int32\n"
     ]
    }
   ],
   "source": [
    "sum_of_runs_scored = grouped_by_opposition['runs_scored'].sum()\n",
    "print(sum_of_runs_scored)"
   ]
  },
  {
   "cell_type": "code",
   "execution_count": 33,
   "metadata": {},
   "outputs": [
    {
     "data": {
      "text/plain": [
       "<Axes: title={'center': 'runs_scored_by_opposition'}, xlabel='opposition'>"
      ]
     },
     "execution_count": 33,
     "metadata": {},
     "output_type": "execute_result"
    },
    {
     "data": {
      "image/png": "[encoded data removed]",
      "text/plain": [
       "<Figure size 576x360 with 1 Axes>"
      ]
     },
     "metadata": {
      "needs_background": "light"
     },
     "output_type": "display_data"
    }
   ],
   "source": [
    "runs_scored_by_opposition = pd.DataFrame(sum_of_runs_scored).reset_index()\n",
    "runs_scored_by_opposition.plot(x = 'opposition', kind = 'bar', title = 'runs_scored_by_opposition', figsize = (8, 5))"
   ]
  },
  {
   "cell_type": "code",
   "execution_count": 34,
   "metadata": {},
   "outputs": [
    {
     "data": {
      "text/plain": [
       "<Axes: xlabel='opposition', ylabel='runs_scored'>"
      ]
     },
     "execution_count": 34,
     "metadata": {},
     "output_type": "execute_result"
    },
    {
     "data": {
      "image/png": "[encoded data removed]",
      "text/plain": [
       "<Figure size 1152x432 with 1 Axes>"
      ]
     },
     "metadata": {
      "needs_background": "light"
     },
     "output_type": "display_data"
    }
   ],
   "source": [
    "#boxplot\n",
    "plt.figure(figsize=(16,6))\n",
    "sns.boxplot(x=\"opposition\",y=\"runs_scored\",data=df_new)"
   ]
  },
  {
   "cell_type": "code",
   "execution_count": 35,
   "metadata": {},
   "outputs": [
    {
     "data": {
      "image/png": "[encoded data removed]",
      "text/plain": [
       "<Figure size 864x432 with 1 Axes>"
      ]
     },
     "metadata": {
      "needs_background": "light"
     },
     "output_type": "display_data"
    }
   ],
   "source": [
    "#filtering and replotting box plot\n",
    "opposition=[\"England\",\"Australia\",\"West Indies\",\"South Africa\",\"New Zealand\",\"Pakistan\",\"Sri Lanka\",\"Bangladesh\"]\n",
    "\n",
    "df_filtered=df_new[df_new[\"opposition\"].isin(opposition)]\n",
    "df_filtered=df_filtered.sort_values(by=\"runs_scored\",ascending=False)\n",
    "\n",
    "\n",
    "#redrawing\n",
    "plt.figure(figsize=(12,6))\n",
    "sns.boxplot(x=\"opposition\",y=\"runs_scored\",data=df_filtered)\n",
    "plt.xticks(rotation=90)\n",
    "plt.show()"
   ]
  },
  {
   "cell_type": "code",
   "execution_count": 36,
   "metadata": {},
   "outputs": [
    {
     "data": {
      "image/png": "[encoded data removed]",
      "text/plain": [
       "<Figure size 360x360 with 1 Axes>"
      ]
     },
     "metadata": {
      "needs_background": "light"
     },
     "output_type": "display_data"
    }
   ],
   "source": [
    "#histogram with and without kde(kernel density estimation)\n",
    "sns.displot(data=df_filtered,x=\"runs_scored\",kde=False)\n",
    "plt.show()\n"
   ]
  },
  {
   "cell_type": "code",
   "execution_count": 37,
   "metadata": {},
   "outputs": [
    {
     "data": {
      "image/png": "[encoded data removed]",
      "text/plain": [
       "<Figure size 360x360 with 1 Axes>"
      ]
     },
     "metadata": {
      "needs_background": "light"
     },
     "output_type": "display_data"
    }
   ],
   "source": [
    "sns.displot(data=df_filtered,x=\"runs_scored\",kde=True)\n",
    "plt.show()\n",
    "#we see that there is a right/positive skew, so there is a long tail to the right"
   ]
  },
  {
   "cell_type": "code",
   "execution_count": 38,
   "metadata": {},
   "outputs": [
    {
     "data": {
      "image/png": "[encoded data removed]",
      "text/plain": [
       "<Figure size 432x288 with 1 Axes>"
      ]
     },
     "metadata": {
      "needs_background": "light"
     },
     "output_type": "display_data"
    }
   ],
   "source": [
    "sns.histplot(data=df_new,x=\"runs_scored\",bins=10,kde=True)\n",
    "plt.show()"
   ]
  },
  {
   "cell_type": "code",
   "execution_count": 39,
   "metadata": {},
   "outputs": [
    {
     "data": {
      "image/png": "[encoded data removed]",
      "text/plain": [
       "<Figure size 432x288 with 1 Axes>"
      ]
     },
     "metadata": {
      "needs_background": "light"
     },
     "output_type": "display_data"
    }
   ],
   "source": [
    "sns.kdeplot(data=df_new,x='runs_scored')\n",
    "plt.show()\n",
    "#gives probability distribution"
   ]
  },
  {
   "cell_type": "code",
   "execution_count": 40,
   "metadata": {},
   "outputs": [
    {
     "data": {
      "image/png": "[encoded data removed]",
      "text/plain": [
       "<Figure size 432x288 with 1 Axes>"
      ]
     },
     "metadata": {
      "needs_background": "light"
     },
     "output_type": "display_data"
    }
   ],
   "source": [
    "sns.kdeplot(data=df_new,x='runs_scored', cumulative = True)\n",
    "plt.show()"
   ]
  },
  {
   "cell_type": "code",
   "execution_count": 41,
   "metadata": {},
   "outputs": [
    {
     "data": {
      "text/plain": [
       "<seaborn.axisgrid.JointGrid at 0x1638f50ee20>"
      ]
     },
     "execution_count": 41,
     "metadata": {},
     "output_type": "execute_result"
    },
    {
     "data": {
      "image/png": "[encoded data removed]",
      "text/plain": [
       "<Figure size 432x432 with 3 Axes>"
      ]
     },
     "metadata": {
      "needs_background": "light"
     },
     "output_type": "display_data"
    }
   ],
   "source": [
    "#jointplot\n",
    "sns.jointplot(x=\"balls_faced\",y='runs_scored',kind=\"scatter\",data=df_new)"
   ]
  },
  {
   "cell_type": "markdown",
   "metadata": {},
   "source": [
    "## Heat-Map"
   ]
  },
  {
   "cell_type": "code",
   "execution_count": 42,
   "metadata": {},
   "outputs": [],
   "source": [
    "# heat map\n",
    "# Calculate the correlation matrix\n",
    "\n",
    "correlation_matrix = df_new[['balls_faced', 'runs_scored']].corr()"
   ]
  },
  {
   "cell_type": "code",
   "execution_count": 43,
   "metadata": {},
   "outputs": [
    {
     "data": {
      "image/png": "[encoded data removed]",
      "text/plain": [
       "<Figure size 576x432 with 2 Axes>"
      ]
     },
     "metadata": {
      "needs_background": "light"
     },
     "output_type": "display_data"
    }
   ],
   "source": [
    "# Create the Heatmap\n",
    "plt.figure(figsize=(8, 6))\n",
    "sns.heatmap(data=correlation_matrix, annot = True, cmap= 'viridis', square = True, fmt = \".2f\")\n",
    "plt.title(\"Correlation Heatmap between Balls-Faced and Runs-Scored\")\n",
    "plt.show()"
   ]
  },
  {
   "cell_type": "code",
   "execution_count": 48,
   "metadata": {},
   "outputs": [
    {
     "name": "stdout",
     "output_type": "stream",
     "text": [
      "              balls_faced  runs_scored\n",
      "opposition                            \n",
      "Australia            2052         1660\n",
      "Bangladesh            682          569\n",
      "England              1758         1546\n",
      "New Zealand          1140          940\n",
      "Pakistan             1361         1231\n",
      "South Africa          950          830\n",
      "Sri Lanka            2645         2383\n",
      "West Indies          1108         1005\n"
     ]
    },
    {
     "data": {
      "text/plain": [
       "<Axes: ylabel='opposition'>"
      ]
     },
     "execution_count": 48,
     "metadata": {},
     "output_type": "execute_result"
    },
    {
     "data": {
      "image/png": "[encoded data removed]",
      "text/plain": [
       "<Figure size 432x288 with 2 Axes>"
      ]
     },
     "metadata": {
      "needs_background": "light"
     },
     "output_type": "display_data"
    }
   ],
   "source": [
    "filtered_data = df_new['strike_rate'].astype(int)\n",
    "\n",
    "grouped_by_opposition = df_filtered.groupby(\"opposition\")\n",
    "\n",
    "agg_sum = grouped_by_opposition.agg({'balls_faced': 'sum', 'runs_scored': 'sum'})\n",
    "\n",
    "df_strike_rate = agg_sum\n",
    "\n",
    "print(agg_sum)\n",
    "\n",
    "\n",
    "# Calculate Strike rate\n",
    "df_strike_rate['strike_rate'] = (df_strike_rate['runs_scored'])/df_strike_rate['balls_faced'] * 100\n",
    "\n",
    "# Bad graph - strike rate scale is different from runs scored and balls faced\n",
    "sns.heatmap(data = df_strike_rate, annot = True, cmap = 'viridis', square = False, fmt = \"0.2f\")\n",
    "\n",
    "\n",
    "# correlation_matrix = df_new[['opposition', 'strike_rate']].corr()"
   ]
  },
  {
   "cell_type": "code",
   "execution_count": 47,
   "metadata": {},
   "outputs": [
    {
     "data": {
      "text/plain": [
       "opposition\n",
       "Afghanistan      50.000000\n",
       "Africa XI        93.000000\n",
       "Australia        81.979167\n",
       "Bangladesh       93.705882\n",
       "Bermuda         116.000000\n",
       "England          92.181818\n",
       "Hong Kong        56.500000\n",
       "Ireland          68.000000\n",
       "Netherlands      47.000000\n",
       "New Zealand      79.692308\n",
       "Pakistan         90.935484\n",
       "South Africa     84.187500\n",
       "Sri Lanka        83.773585\n",
       "West Indies     100.636364\n",
       "Zimbabwe        112.666667\n",
       "Name: strike_rate, dtype: float64"
      ]
     },
     "execution_count": 47,
     "metadata": {},
     "output_type": "execute_result"
    }
   ],
   "source": [
    "#Just trying SR came out to be greater than the actual calculated SR\n",
    "# df_new[\"strike_rate\"] = df_new['strike_rate'].astype(int)\n",
    "# df_new.groupby(\"opposition\")[\"strike_rate\"].mean()\n"
   ]
  },
  {
   "cell_type": "code",
   "execution_count": 95,
   "metadata": {},
   "outputs": [
    {
     "data": {
      "text/plain": [
       "<Figure size 864x576 with 0 Axes>"
      ]
     },
     "execution_count": 95,
     "metadata": {},
     "output_type": "execute_result"
    },
    {
     "data": {
      "text/plain": [
       "<Figure size 864x576 with 0 Axes>"
      ]
     },
     "metadata": {},
     "output_type": "display_data"
    }
   ],
   "source": [
    "import matplotlib.pyplot as plt\n",
    "plt.figure(figsize=(12,8))\n",
    "# df7=df_filtered.groupby(\"opposition\")[\"runs_scored\"].sum().reset_index()\n",
    "# print(df7)\n",
    "# plt.bar(df7[\"opposition\"],df7[\"runs_scored\"])"
   ]
  },
  {
   "cell_type": "code",
   "execution_count": 96,
   "metadata": {},
   "outputs": [],
   "source": [
    "\n",
    "# df[\"fours\"]=pd.to_numeric(df[\"fours\"],errors=\"coerce\")\n",
    "# df[\"sixes\"]=pd.to_numeric(df[\"sixes\"],errors=\"coerce\")\n",
    "# df6=df[[\"opposition\",\"sixes\",\"fours\"]]\n",
    "# a=df6.groupby(\"opposition\")[\"fours\"].sum().reset_index()\n",
    "# b=df6.groupby(\"opposition\")[\"sixes\"].sum().reset_index()\n",
    "# a[\"runs4\"]=a[\"fours\"]*4\n",
    "\n",
    "# a[\"runs6\"]=b[\"sixes\"]*6\n",
    "# a\n",
    "# a[\"bs\"]=a[\"runs6\"]+a[\"runs4\"]\n",
    "# a[\"runs_scored\"]=df7[\"runs_scored\"]\n",
    "# a\n",
    "# df7[\"four\"]=df[\"fours\"]\n",
    "# df7[\"six\"]=df[\"sixes\"]\n",
    "# df7"
   ]
  },
  {
   "cell_type": "code",
   "execution_count": 97,
   "metadata": {},
   "outputs": [],
   "source": [
    "# plt.figure(figsize=(10,6))\n",
    "# plt.bar(a[\"opoosition\"])\n",
    "\n",
    "\n",
    "\n",
    "\n",
    "\n",
    "\n",
    "\n",
    "\n",
    "\n",
    "\n",
    "                                                                                                                                                                                                                                                                                                                                                                                                                                                                                                                                                                                                                                                                                                                                                                                                                                                                                                                                                                                                                                                                                                                                                                                                                                                                                                                                                                                                                                                                                                                                                                                                                                                                                                                                                                                                                                                                                                                                                                                                                                                                                                                                                                                                                                                                                                                                                                                                                                                                                                                                                                                                                                                                                                                                                                                                                                                                                                                                                                                                                                                                                                                                                                                                                                                                                                                                                                                                                                                                                                                                                                                                                                                                                                                                                                                                                                                                                                                                                                                                                                                                                                                                                                                                                                                                                      c\n"
   ]
  },
  {
   "cell_type": "code",
   "execution_count": null,
   "metadata": {},
   "outputs": [],
   "source": []
  },
  {
   "cell_type": "code",
   "execution_count": 98,
   "metadata": {},
   "outputs": [],
   "source": [
    "import matplotlib.pyplot as plt"
   ]
  },
  {
   "cell_type": "code",
   "execution_count": 103,
   "metadata": {},
   "outputs": [
    {
     "data": {
      "text/html": [
       "<div>\n",
       "<style scoped>\n",
       "    .dataframe tbody tr th:only-of-type {\n",
       "        vertical-align: middle;\n",
       "    }\n",
       "\n",
       "    .dataframe tbody tr th {\n",
       "        vertical-align: top;\n",
       "    }\n",
       "\n",
       "    .dataframe thead th {\n",
       "        text-align: right;\n",
       "    }\n",
       "</style>\n",
       "<table border=\"1\" class=\"dataframe\">\n",
       "  <thead>\n",
       "    <tr style=\"text-align: right;\">\n",
       "      <th></th>\n",
       "      <th>level_0</th>\n",
       "      <th>index</th>\n",
       "      <th>runs_scored</th>\n",
       "      <th>balls_faced</th>\n",
       "      <th>strike_rate</th>\n",
       "      <th>fours</th>\n",
       "      <th>sixes</th>\n",
       "      <th>opposition</th>\n",
       "      <th>ground</th>\n",
       "      <th>date</th>\n",
       "      <th>year</th>\n",
       "      <th>not_out</th>\n",
       "    </tr>\n",
       "  </thead>\n",
       "  <tbody>\n",
       "    <tr>\n",
       "      <th>0</th>\n",
       "      <td>0</td>\n",
       "      <td>21</td>\n",
       "      <td>183</td>\n",
       "      <td>145</td>\n",
       "      <td>126.20</td>\n",
       "      <td>15</td>\n",
       "      <td>10</td>\n",
       "      <td>Sri Lanka</td>\n",
       "      <td>Jaipur</td>\n",
       "      <td>2005-10-31</td>\n",
       "      <td>2005</td>\n",
       "      <td>1</td>\n",
       "    </tr>\n",
       "    <tr>\n",
       "      <th>1</th>\n",
       "      <td>1</td>\n",
       "      <td>4</td>\n",
       "      <td>148</td>\n",
       "      <td>123</td>\n",
       "      <td>120.32</td>\n",
       "      <td>15</td>\n",
       "      <td>4</td>\n",
       "      <td>Pakistan</td>\n",
       "      <td>Visakhapatnam</td>\n",
       "      <td>2005-04-05</td>\n",
       "      <td>2005</td>\n",
       "      <td>0</td>\n",
       "    </tr>\n",
       "    <tr>\n",
       "      <th>2</th>\n",
       "      <td>2</td>\n",
       "      <td>228</td>\n",
       "      <td>139</td>\n",
       "      <td>121</td>\n",
       "      <td>114.87</td>\n",
       "      <td>12</td>\n",
       "      <td>5</td>\n",
       "      <td>Australia</td>\n",
       "      <td>Mohali</td>\n",
       "      <td>2013-10-19</td>\n",
       "      <td>2013</td>\n",
       "      <td>1</td>\n",
       "    </tr>\n",
       "    <tr>\n",
       "      <th>3</th>\n",
       "      <td>3</td>\n",
       "      <td>284</td>\n",
       "      <td>134</td>\n",
       "      <td>122</td>\n",
       "      <td>109.83</td>\n",
       "      <td>10</td>\n",
       "      <td>6</td>\n",
       "      <td>England</td>\n",
       "      <td>Cuttack</td>\n",
       "      <td>2017-01-19</td>\n",
       "      <td>2017</td>\n",
       "      <td>0</td>\n",
       "    </tr>\n",
       "    <tr>\n",
       "      <th>4</th>\n",
       "      <td>4</td>\n",
       "      <td>146</td>\n",
       "      <td>124</td>\n",
       "      <td>107</td>\n",
       "      <td>115.88</td>\n",
       "      <td>9</td>\n",
       "      <td>3</td>\n",
       "      <td>Australia</td>\n",
       "      <td>Nagpur</td>\n",
       "      <td>2009-10-28</td>\n",
       "      <td>2009</td>\n",
       "      <td>0</td>\n",
       "    </tr>\n",
       "    <tr>\n",
       "      <th>...</th>\n",
       "      <td>...</td>\n",
       "      <td>...</td>\n",
       "      <td>...</td>\n",
       "      <td>...</td>\n",
       "      <td>...</td>\n",
       "      <td>...</td>\n",
       "      <td>...</td>\n",
       "      <td>...</td>\n",
       "      <td>...</td>\n",
       "      <td>...</td>\n",
       "      <td>...</td>\n",
       "      <td>...</td>\n",
       "    </tr>\n",
       "    <tr>\n",
       "      <th>279</th>\n",
       "      <td>279</td>\n",
       "      <td>74</td>\n",
       "      <td>0</td>\n",
       "      <td>4</td>\n",
       "      <td>0.00</td>\n",
       "      <td>0</td>\n",
       "      <td>0</td>\n",
       "      <td>South Africa</td>\n",
       "      <td>Belfast</td>\n",
       "      <td>2007-06-29</td>\n",
       "      <td>2007</td>\n",
       "      <td>0</td>\n",
       "    </tr>\n",
       "    <tr>\n",
       "      <th>280</th>\n",
       "      <td>280</td>\n",
       "      <td>273</td>\n",
       "      <td>0</td>\n",
       "      <td>3</td>\n",
       "      <td>0.00</td>\n",
       "      <td>0</td>\n",
       "      <td>0</td>\n",
       "      <td>Australia</td>\n",
       "      <td>Canberra</td>\n",
       "      <td>2016-01-20</td>\n",
       "      <td>2016</td>\n",
       "      <td>0</td>\n",
       "    </tr>\n",
       "    <tr>\n",
       "      <th>281</th>\n",
       "      <td>281</td>\n",
       "      <td>171</td>\n",
       "      <td>0</td>\n",
       "      <td>1</td>\n",
       "      <td>0.00</td>\n",
       "      <td>0</td>\n",
       "      <td>0</td>\n",
       "      <td>Australia</td>\n",
       "      <td>Visakhapatnam</td>\n",
       "      <td>2010-10-20</td>\n",
       "      <td>2010</td>\n",
       "      <td>0</td>\n",
       "    </tr>\n",
       "    <tr>\n",
       "      <th>282</th>\n",
       "      <td>282</td>\n",
       "      <td>223</td>\n",
       "      <td>0</td>\n",
       "      <td>4</td>\n",
       "      <td>0.00</td>\n",
       "      <td>0</td>\n",
       "      <td>0</td>\n",
       "      <td>England</td>\n",
       "      <td>Birmingham</td>\n",
       "      <td>2013-06-23</td>\n",
       "      <td>2013</td>\n",
       "      <td>0</td>\n",
       "    </tr>\n",
       "    <tr>\n",
       "      <th>283</th>\n",
       "      <td>283</td>\n",
       "      <td>0</td>\n",
       "      <td>0</td>\n",
       "      <td>1</td>\n",
       "      <td>0.00</td>\n",
       "      <td>0</td>\n",
       "      <td>0</td>\n",
       "      <td>Bangladesh</td>\n",
       "      <td>Chattogram</td>\n",
       "      <td>2004-12-23</td>\n",
       "      <td>2004</td>\n",
       "      <td>0</td>\n",
       "    </tr>\n",
       "  </tbody>\n",
       "</table>\n",
       "<p>284 rows × 12 columns</p>\n",
       "</div>"
      ],
      "text/plain": [
       "     level_0  index  runs_scored  balls_faced  strike_rate  fours  sixes  \\\n",
       "0          0     21          183          145       126.20     15     10   \n",
       "1          1      4          148          123       120.32     15      4   \n",
       "2          2    228          139          121       114.87     12      5   \n",
       "3          3    284          134          122       109.83     10      6   \n",
       "4          4    146          124          107       115.88      9      3   \n",
       "..       ...    ...          ...          ...          ...    ...    ...   \n",
       "279      279     74            0            4         0.00      0      0   \n",
       "280      280    273            0            3         0.00      0      0   \n",
       "281      281    171            0            1         0.00      0      0   \n",
       "282      282    223            0            4         0.00      0      0   \n",
       "283      283      0            0            1         0.00      0      0   \n",
       "\n",
       "       opposition         ground       date  year  not_out  \n",
       "0       Sri Lanka         Jaipur 2005-10-31  2005        1  \n",
       "1        Pakistan  Visakhapatnam 2005-04-05  2005        0  \n",
       "2       Australia         Mohali 2013-10-19  2013        1  \n",
       "3         England        Cuttack 2017-01-19  2017        0  \n",
       "4       Australia         Nagpur 2009-10-28  2009        0  \n",
       "..            ...            ...        ...   ...      ...  \n",
       "279  South Africa        Belfast 2007-06-29  2007        0  \n",
       "280     Australia       Canberra 2016-01-20  2016        0  \n",
       "281     Australia  Visakhapatnam 2010-10-20  2010        0  \n",
       "282       England     Birmingham 2013-06-23  2013        0  \n",
       "283    Bangladesh     Chattogram 2004-12-23  2004        0  \n",
       "\n",
       "[284 rows x 12 columns]"
      ]
     },
     "execution_count": 103,
     "metadata": {},
     "output_type": "execute_result"
    }
   ],
   "source": [
    "df_filtered"
   ]
  },
  {
   "cell_type": "code",
   "execution_count": 114,
   "metadata": {},
   "outputs": [
    {
     "data": {
      "text/html": [
       "<div>\n",
       "<style scoped>\n",
       "    .dataframe tbody tr th:only-of-type {\n",
       "        vertical-align: middle;\n",
       "    }\n",
       "\n",
       "    .dataframe tbody tr th {\n",
       "        vertical-align: top;\n",
       "    }\n",
       "\n",
       "    .dataframe thead th {\n",
       "        text-align: right;\n",
       "    }\n",
       "</style>\n",
       "<table border=\"1\" class=\"dataframe\">\n",
       "  <thead>\n",
       "    <tr style=\"text-align: right;\">\n",
       "      <th></th>\n",
       "      <th>opposition</th>\n",
       "      <th>runs_scored</th>\n",
       "      <th>bs</th>\n",
       "    </tr>\n",
       "  </thead>\n",
       "  <tbody>\n",
       "    <tr>\n",
       "      <th>0</th>\n",
       "      <td>Australia</td>\n",
       "      <td>1660</td>\n",
       "      <td>448.0</td>\n",
       "    </tr>\n",
       "    <tr>\n",
       "      <th>1</th>\n",
       "      <td>Bangladesh</td>\n",
       "      <td>569</td>\n",
       "      <td>196.0</td>\n",
       "    </tr>\n",
       "    <tr>\n",
       "      <th>2</th>\n",
       "      <td>England</td>\n",
       "      <td>1546</td>\n",
       "      <td>522.0</td>\n",
       "    </tr>\n",
       "    <tr>\n",
       "      <th>3</th>\n",
       "      <td>New Zealand</td>\n",
       "      <td>940</td>\n",
       "      <td>292.0</td>\n",
       "    </tr>\n",
       "    <tr>\n",
       "      <th>4</th>\n",
       "      <td>Pakistan</td>\n",
       "      <td>1231</td>\n",
       "      <td>456.0</td>\n",
       "    </tr>\n",
       "    <tr>\n",
       "      <th>5</th>\n",
       "      <td>South Africa</td>\n",
       "      <td>830</td>\n",
       "      <td>268.0</td>\n",
       "    </tr>\n",
       "    <tr>\n",
       "      <th>6</th>\n",
       "      <td>Sri Lanka</td>\n",
       "      <td>2383</td>\n",
       "      <td>734.0</td>\n",
       "    </tr>\n",
       "    <tr>\n",
       "      <th>7</th>\n",
       "      <td>West Indies</td>\n",
       "      <td>1005</td>\n",
       "      <td>252.0</td>\n",
       "    </tr>\n",
       "  </tbody>\n",
       "</table>\n",
       "</div>"
      ],
      "text/plain": [
       "     opposition  runs_scored     bs\n",
       "0     Australia         1660  448.0\n",
       "1    Bangladesh          569  196.0\n",
       "2       England         1546  522.0\n",
       "3   New Zealand          940  292.0\n",
       "4      Pakistan         1231  456.0\n",
       "5  South Africa          830  268.0\n",
       "6     Sri Lanka         2383  734.0\n",
       "7   West Indies         1005  252.0"
      ]
     },
     "execution_count": 114,
     "metadata": {},
     "output_type": "execute_result"
    }
   ],
   "source": [
    "df7 = df_filtered.groupby(\"opposition\")[\"runs_scored\"].sum().reset_index()\n",
    "df_fours = df_filtered.groupby(\"opposition\")[\"fours\"].sum().reset_index()\n",
    "df_sixes = df_filtered.groupby(\"opposition\")[\"sixes\"].sum().reset_index()\n",
    "df7[\"bs\"] = 4*df_fours[\"fours\"] + 6*df[\"sixes\"]\n",
    "df7"
   ]
  },
  {
   "cell_type": "code",
   "execution_count": 131,
   "metadata": {},
   "outputs": [
    {
     "data": {
      "text/plain": [
       "<matplotlib.legend.Legend at 0x16392c3c2e0>"
      ]
     },
     "execution_count": 131,
     "metadata": {},
     "output_type": "execute_result"
    },
    {
     "data": {
      "image/png": "[encoded data removed]",
      "text/plain": [
       "<Figure size 864x576 with 1 Axes>"
      ]
     },
     "metadata": {
      "needs_background": "light"
     },
     "output_type": "display_data"
    }
   ],
   "source": [
    "plt.figure(figsize=(12,8))\n",
    "plt.bar(df7[\"opposition\"], df7[\"runs_scored\"], label = \"Runs Scored\")\n",
    "plt.bar(df7[\"opposition\"], df7[\"bs\"], bottom = df7[\"runs_scored\"], label = \"Runs in Boundaries\")\n",
    "plt.xlabel(\"Opposition\")\n",
    "plt.ylabel(\"Runs\")\n",
    "plt.xticks(rotation = 30)\n",
    "plt.legend()"
   ]
  }
 ],
 "metadata": {
  "kernelspec": {
   "display_name": "Python 3",
   "language": "python",
   "name": "python3"
  },
  "language_info": {
   "codemirror_mode": {
    "name": "ipython",
    "version": 3
   },
   "file_extension": ".py",
   "mimetype": "text/x-python",
   "name": "python",
   "nbconvert_exporter": "python",
   "pygments_lexer": "ipython3",
   "version": "3.8.5"
  }
 },
 "nbformat": 4,
 "nbformat_minor": 4
}
