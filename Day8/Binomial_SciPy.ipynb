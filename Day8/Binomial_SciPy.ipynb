{
 "cells": [
  {
   "cell_type": "code",
   "execution_count": 11,
   "metadata": {},
   "outputs": [],
   "source": [
    "from scipy.stats import binom"
   ]
  },
  {
   "cell_type": "markdown",
   "metadata": {},
   "source": [
    "##### Calculate the probability that 2 out of 7 students like Python, in general, 66% of students like Pyhton."
   ]
  },
  {
   "cell_type": "code",
   "execution_count": 12,
   "metadata": {},
   "outputs": [
    {
     "name": "stdout",
     "output_type": "stream",
     "text": [
      "The probability that exactly 3 out of 5 students like Python is : 0.3323\n"
     ]
    }
   ],
   "source": [
    "n=5\n",
    "k=3\n",
    "p=0.66\n",
    "\n",
    "probability=binom.pmf(k,n,p)\n",
    "print(f\"The probability that exactly {k} out of {n} students like Python is : {probability:.4f}\")"
   ]
  },
  {
   "cell_type": "markdown",
   "metadata": {},
   "source": [
    "##### Calculate the probability that 2 out of 7 students prefer online learning over in-person classes when, in general, 55% of students prefer online learning."
   ]
  },
  {
   "cell_type": "code",
   "execution_count": 27,
   "metadata": {},
   "outputs": [
    {
     "name": "stdout",
     "output_type": "stream",
     "text": [
      "The probability that exactly 2 out of 7 students prefer online learning is : 0.1172\n"
     ]
    }
   ],
   "source": [
    "# Number of students liking online learning\n",
    "x = 2 \n",
    "\n",
    "# Total number of students\n",
    "n = 7\n",
    "\n",
    "# Probality that someone likes online learning: 55%\n",
    "p = 0.55\n",
    "\n",
    "probability = binom.pmf(x, n, p)\n",
    "\n",
    "print(f\"The probability that exactly {x} out of {n} students prefer online learning is : {probability:.4f}\")"
   ]
  },
  {
   "cell_type": "code",
   "execution_count": 28,
   "metadata": {},
   "outputs": [],
   "source": [
    "import pandas as pd\n",
    "import numpy as np\n",
    "import matplotlib.pyplot as plt\n",
    "from scipy.stats import binom"
   ]
  },
  {
   "cell_type": "code",
   "execution_count": 29,
   "metadata": {},
   "outputs": [],
   "source": [
    "tips_df=pd.read_csv(\"tips.csv\")"
   ]
  },
  {
   "cell_type": "code",
   "execution_count": 30,
   "metadata": {},
   "outputs": [],
   "source": [
    "def classify_tip(row):\n",
    "    total_bill = row['total_bill']\n",
    "    tip = row['tip']\n",
    "    if (tip/total_bill) > 0.15:\n",
    "        return 1  # Success\n",
    "    else:\n",
    "        return 0  # Failure"
   ]
  },
  {
   "cell_type": "code",
   "execution_count": 31,
   "metadata": {},
   "outputs": [],
   "source": [
    "# Apply the function to create a binary column\n",
    "tips_df['tip_binary'] = tips_df.apply(classify_tip, axis = 1)"
   ]
  },
  {
   "cell_type": "code",
   "execution_count": 32,
   "metadata": {},
   "outputs": [],
   "source": [
    "# Total number of trials (total observations)\n",
    "n = len(tips_df)"
   ]
  },
  {
   "cell_type": "code",
   "execution_count": 33,
   "metadata": {},
   "outputs": [],
   "source": [
    "# Number of successes (tips where tip / total_bill > 0.15)\n",
    "k = tips_df['tip_binary'].sum()"
   ]
  },
  {
   "cell_type": "code",
   "execution_count": 34,
   "metadata": {},
   "outputs": [],
   "source": [
    "# Probability of success (p)\n",
    "p = k/n"
   ]
  },
  {
   "cell_type": "code",
   "execution_count": 35,
   "metadata": {},
   "outputs": [],
   "source": [
    "# Define number of trial for the binomial distribution\n",
    "trials = 100"
   ]
  },
  {
   "cell_type": "code",
   "execution_count": 36,
   "metadata": {},
   "outputs": [],
   "source": [
    "# Generate x values (number of successes from 0 to 100)\n",
    "x = np.arange(0, trials + 1)"
   ]
  },
  {
   "cell_type": "code",
   "execution_count": 37,
   "metadata": {},
   "outputs": [],
   "source": [
    "# Calculate the PMF for each number of successes\n",
    "pmf_values = binom.pmf(x, trials, p)\n",
    "cumulative_probability = 0"
   ]
  },
  {
   "cell_type": "code",
   "execution_count": 40,
   "metadata": {},
   "outputs": [],
   "source": [
    "for i in x:\n",
    "    cumulative_probability = binom.cdf(i, trials, p)\n",
    "#     print()"
   ]
  },
  {
   "cell_type": "code",
   "execution_count": null,
   "metadata": {},
   "outputs": [],
   "source": []
  }
 ],
 "metadata": {
  "kernelspec": {
   "display_name": "Python 3",
   "language": "python",
   "name": "python3"
  },
  "language_info": {
   "codemirror_mode": {
    "name": "ipython",
    "version": 3
   },
   "file_extension": ".py",
   "mimetype": "text/x-python",
   "name": "python",
   "nbconvert_exporter": "python",
   "pygments_lexer": "ipython3",
   "version": "3.8.5"
  }
 },
 "nbformat": 4,
 "nbformat_minor": 4
}
