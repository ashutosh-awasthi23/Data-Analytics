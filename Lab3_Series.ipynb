{
 "cells": [
  {
   "cell_type": "code",
   "execution_count": 1,
   "metadata": {},
   "outputs": [],
   "source": [
    "import numpy as np\n",
    "import pandas as pd"
   ]
  },
  {
   "cell_type": "markdown",
   "metadata": {},
   "source": [
    "#### 1. Write a Pandas program to create and display a one-dimensional array-like object containing an array of data using Pandas module."
   ]
  },
  {
   "cell_type": "code",
   "execution_count": 6,
   "metadata": {},
   "outputs": [
    {
     "data": {
      "text/plain": [
       "a     1\n",
       "b     2\n",
       "c     3\n",
       "d     4\n",
       "e     5\n",
       "f     6\n",
       "g     7\n",
       "h     8\n",
       "i     9\n",
       "j    10\n",
       "dtype: int32"
      ]
     },
     "execution_count": 6,
     "metadata": {},
     "output_type": "execute_result"
    }
   ],
   "source": [
    "arr = np.array([1, 2, 3, 4, 5, 6, 7, 8, 9, 10])\n",
    "series = pd.Series(arr, index=['a', 'b', 'c', 'd', 'e', 'f', 'g', 'h', 'i', 'j'])\n",
    "series"
   ]
  },
  {
   "cell_type": "markdown",
   "metadata": {},
   "source": [
    "#### 2. Write a Pandas program to convert a Panda module Series to Python list and it's type."
   ]
  },
  {
   "cell_type": "code",
   "execution_count": 8,
   "metadata": {},
   "outputs": [
    {
     "name": "stdout",
     "output_type": "stream",
     "text": [
      "<class 'list'>\n"
     ]
    },
    {
     "data": {
      "text/plain": [
       "[1, 2, 3, 4, 5, 6, 7, 8, 9, 10]"
      ]
     },
     "execution_count": 8,
     "metadata": {},
     "output_type": "execute_result"
    }
   ],
   "source": [
    "li = list(series)\n",
    "print(type(li))\n",
    "li"
   ]
  },
  {
   "cell_type": "markdown",
   "metadata": {},
   "source": [
    "#### 3. Write a Pandas program to add, subtract, multiple and divide two Pandas Series.\n",
    "\n",
    "#### Sample Series: [2, 4, 6, 8, 10], [1, 3, 5, 7, 9]"
   ]
  },
  {
   "cell_type": "code",
   "execution_count": 15,
   "metadata": {},
   "outputs": [
    {
     "name": "stdout",
     "output_type": "stream",
     "text": [
      "Addition:\n",
      "0     3\n",
      "1     7\n",
      "2    11\n",
      "3    15\n",
      "4    20\n",
      "dtype: int64\n",
      "\n",
      "Subtraction:\n",
      "0    1\n",
      "1    1\n",
      "2    1\n",
      "3    1\n",
      "4    0\n",
      "dtype: int64\n",
      "\n",
      "Multiplication:\n",
      "0      2\n",
      "1     12\n",
      "2     30\n",
      "3     56\n",
      "4    100\n",
      "dtype: int64\n",
      "\n",
      "Division:\n",
      "0    2.000000\n",
      "1    1.333333\n",
      "2    1.200000\n",
      "3    1.142857\n",
      "4    1.000000\n",
      "dtype: float64\n"
     ]
    }
   ],
   "source": [
    "s1 = pd.Series([2, 4, 6, 8, 10])\n",
    "s2 = pd.Series([1, 3, 5, 7, 10])\n",
    "\n",
    "# Try LABEL\n",
    "\n",
    "print(\"Addition:\")\n",
    "print(s1 + s2)\n",
    "\n",
    "print(\"\\nSubtraction:\")\n",
    "print(s1 - s2)\n",
    "\n",
    "print(\"\\nMultiplication:\")\n",
    "print(s1 * s2)\n",
    "\n",
    "print(\"\\nDivision:\")\n",
    "print(s1 / s2)\n",
    "\n",
    "\n",
    "                "
   ]
  },
  {
   "cell_type": "markdown",
   "metadata": {},
   "source": [
    "#### Write a Pandas program to compare the elements of the two Pandas Series.\n",
    "#### Sample Series: [2, 4, 6, 8, 10], [1, 3, 5, 7, 10]"
   ]
  },
  {
   "cell_type": "code",
   "execution_count": 20,
   "metadata": {},
   "outputs": [
    {
     "name": "stdout",
     "output_type": "stream",
     "text": [
      "s1[i] is greater than s2[i]\n"
     ]
    },
    {
     "data": {
      "text/plain": [
       "0     True\n",
       "1     True\n",
       "2     True\n",
       "3     True\n",
       "4    False\n",
       "dtype: bool"
      ]
     },
     "execution_count": 20,
     "metadata": {},
     "output_type": "execute_result"
    }
   ],
   "source": [
    "s1 = pd.Series([2, 4, 6, 8, 10])\n",
    "s2 = pd.Series([1, 3, 5, 7, 10])\n",
    "\n",
    "print(\"s1[i] is greater than s2[i]\")\n",
    "s1>s2\n"
   ]
  },
  {
   "cell_type": "markdown",
   "metadata": {},
   "source": [
    "#### 5. Write a Pandas program to convert a dictionary to a Pandas series.\n",
    "\n",
    "`Sample Series:\n",
    "Original dictionary:\n",
    "{'a': 100, 'b': 200, 'c': 300, 'd': 400, 'e': 800}\n",
    "Converted series:\n",
    "a 100\n",
    "b 200\n",
    "c 300\n",
    "d 400\n",
    "e 800\n",
    "dtype: int64`"
   ]
  },
  {
   "cell_type": "code",
   "execution_count": 21,
   "metadata": {},
   "outputs": [
    {
     "data": {
      "text/plain": [
       "a    100\n",
       "b    200\n",
       "c    300\n",
       "d    400\n",
       "e    800\n",
       "dtype: int64"
      ]
     },
     "execution_count": 21,
     "metadata": {},
     "output_type": "execute_result"
    }
   ],
   "source": [
    "d = {'a': 100, 'b': 200, 'c': 300, 'd': 400, 'e': 800}\n",
    "series = pd.Series(d)\n",
    "series"
   ]
  },
  {
   "cell_type": "markdown",
   "metadata": {},
   "source": [
    "#### 6. Write a Pandas program to convert a NumPy array to a Pandas series.\n",
    "\n",
    "`Sample Series:\n",
    "NumPy array:\n",
    "[10 20 30 40 50]\n",
    "Converted Pandas series:\n",
    "0 10\n",
    "1 20\n",
    "2 30\n",
    "3 40\n",
    "4 50\n",
    "dtype: int64`"
   ]
  },
  {
   "cell_type": "code",
   "execution_count": 25,
   "metadata": {},
   "outputs": [
    {
     "name": "stdout",
     "output_type": "stream",
     "text": [
      "NumPy array:  [10 20 30 40 50]\n",
      "\n",
      "Converted Pandas series:\n"
     ]
    },
    {
     "data": {
      "text/plain": [
       "0    10\n",
       "1    20\n",
       "2    30\n",
       "3    40\n",
       "4    50\n",
       "dtype: int32"
      ]
     },
     "execution_count": 25,
     "metadata": {},
     "output_type": "execute_result"
    }
   ],
   "source": [
    "arr = np.array([10, 20, 30, 40, 50])\n",
    "print(\"NumPy array: \", arr)\n",
    "series = pd.Series(arr)\n",
    "print(\"\\nConverted Pandas series:\")\n",
    "series"
   ]
  },
  {
   "cell_type": "markdown",
   "metadata": {},
   "source": [
    "#### 7. Write a Pandas program to change the data type of given a column or a Series.\n",
    "\n",
    "`Sample Series:\n",
    "Original Data Series:\n",
    "\n",
    "0 100\n",
    "1 200\n",
    "2 python\n",
    "3 300.12\n",
    "4 400\n",
    "dtype: object\n",
    "\n",
    "Change the said data type to numeric:\n",
    "\n",
    "0 100.00\n",
    "1 200.00\n",
    "2 NaN\n",
    "3 300.12\n",
    "4 400.00\n",
    "dtype: float64`"
   ]
  },
  {
   "cell_type": "code",
   "execution_count": 48,
   "metadata": {},
   "outputs": [
    {
     "data": {
      "text/plain": [
       "0    100.00\n",
       "1    200.00\n",
       "2       NaN\n",
       "3    300.12\n",
       "4    400.00\n",
       "dtype: float64"
      ]
     },
     "execution_count": 48,
     "metadata": {},
     "output_type": "execute_result"
    }
   ],
   "source": [
    "s1 = pd.Series([100, 200, 'python', 300.12, 400])\n",
    "s2 = pd.to_numeric(s1, errors='coerce')\n",
    "s2"
   ]
  },
  {
   "cell_type": "markdown",
   "metadata": {},
   "source": [
    "#### 8. Write a Pandas program to convert the first column of a DataFrame as a Series.\n",
    "\n",
    "`\n",
    "Sample Output:\n",
    "Original DataFrame\n",
    "col1 col2 col3\n",
    "0 1 4 7\n",
    "1 2 5 5\n",
    "2 3 6 8\n",
    "3 4 9 12\n",
    "4 7 5 1\n",
    "5 11 0 11\n",
    "1st column as a Series:\n",
    "0 1\n",
    "1 2\n",
    "2 3\n",
    "3 4\n",
    "4 7\n",
    "5 11\n",
    "Name: col1, dtype: int64\n",
    "<class 'pandas.core.series.Series'>\n",
    "`\n"
   ]
  },
  {
   "cell_type": "code",
   "execution_count": 41,
   "metadata": {},
   "outputs": [
    {
     "data": {
      "text/html": [
       "<div>\n",
       "<style scoped>\n",
       "    .dataframe tbody tr th:only-of-type {\n",
       "        vertical-align: middle;\n",
       "    }\n",
       "\n",
       "    .dataframe tbody tr th {\n",
       "        vertical-align: top;\n",
       "    }\n",
       "\n",
       "    .dataframe thead th {\n",
       "        text-align: right;\n",
       "    }\n",
       "</style>\n",
       "<table border=\"1\" class=\"dataframe\">\n",
       "  <thead>\n",
       "    <tr style=\"text-align: right;\">\n",
       "      <th></th>\n",
       "      <th>col1</th>\n",
       "      <th>col2</th>\n",
       "      <th>col3</th>\n",
       "    </tr>\n",
       "  </thead>\n",
       "  <tbody>\n",
       "    <tr>\n",
       "      <th>0</th>\n",
       "      <td>1</td>\n",
       "      <td>4</td>\n",
       "      <td>7</td>\n",
       "    </tr>\n",
       "    <tr>\n",
       "      <th>1</th>\n",
       "      <td>2</td>\n",
       "      <td>5</td>\n",
       "      <td>5</td>\n",
       "    </tr>\n",
       "    <tr>\n",
       "      <th>2</th>\n",
       "      <td>3</td>\n",
       "      <td>6</td>\n",
       "      <td>8</td>\n",
       "    </tr>\n",
       "    <tr>\n",
       "      <th>3</th>\n",
       "      <td>4</td>\n",
       "      <td>9</td>\n",
       "      <td>12</td>\n",
       "    </tr>\n",
       "    <tr>\n",
       "      <th>4</th>\n",
       "      <td>7</td>\n",
       "      <td>5</td>\n",
       "      <td>1</td>\n",
       "    </tr>\n",
       "    <tr>\n",
       "      <th>5</th>\n",
       "      <td>11</td>\n",
       "      <td>0</td>\n",
       "      <td>11</td>\n",
       "    </tr>\n",
       "  </tbody>\n",
       "</table>\n",
       "</div>"
      ],
      "text/plain": [
       "   col1  col2  col3\n",
       "0     1     4     7\n",
       "1     2     5     5\n",
       "2     3     6     8\n",
       "3     4     9    12\n",
       "4     7     5     1\n",
       "5    11     0    11"
      ]
     },
     "execution_count": 41,
     "metadata": {},
     "output_type": "execute_result"
    }
   ],
   "source": [
    "d = {'col1' : [1, 2, 3, 4, 7, 11], 'col2': [4, 5, 6, 9, 5, 0], 'col3': [7, 5, 8, 12, 1, 11]}\n",
    "df = pd.DataFrame(d)\n",
    "df"
   ]
  },
  {
   "cell_type": "code",
   "execution_count": 42,
   "metadata": {},
   "outputs": [
    {
     "data": {
      "text/plain": [
       "0     1\n",
       "1     2\n",
       "2     3\n",
       "3     4\n",
       "4     7\n",
       "5    11\n",
       "Name: col1, dtype: int64"
      ]
     },
     "execution_count": 42,
     "metadata": {},
     "output_type": "execute_result"
    }
   ],
   "source": [
    "series = pd.Series(df.col1)\n",
    "series"
   ]
  },
  {
   "cell_type": "markdown",
   "metadata": {},
   "source": [
    "#### 9. Write a Pandas program to convert a given Series to an array.\n",
    "\n",
    "`Sample Output:\n",
    "Original Data Series:\n",
    "0 100\n",
    "1 200\n",
    "2 python\n",
    "3 300.12\n",
    "4 400\n",
    "dtype: object\n",
    "Series to an array\n",
    "['100' '200' 'python' '300.12' '400']\n",
    "<class 'numpy.ndarray'>`\n"
   ]
  },
  {
   "cell_type": "code",
   "execution_count": 57,
   "metadata": {},
   "outputs": [
    {
     "name": "stdout",
     "output_type": "stream",
     "text": [
      "['100' '200' 'python' '300.12' '400']\n",
      "<class 'numpy.ndarray'>\n"
     ]
    }
   ],
   "source": [
    "s = pd.Series([100, 200, 'python', 300.12, 400])\n",
    "arr = np.array(s.astype(str))\n",
    "print(arr)\n",
    "print(type(arr))"
   ]
  },
  {
   "cell_type": "markdown",
   "metadata": {},
   "source": [
    "#### 10. Write a Pandas program to convert Series of lists to one Series.\n",
    "\n",
    "`Sample Output:\n",
    "Original Series of list\n",
    "0 [Red, Green, White]\n",
    "1 [Red, Black]\n",
    "2 [Yellow]\n",
    "dtype: object\n",
    "One Series\n",
    "0 Red\n",
    "1 Green\n",
    "2 White\n",
    "3 Red\n",
    "4 Black\n",
    "5 Yellow\n",
    "dtype: object`\n"
   ]
  },
  {
   "cell_type": "code",
   "execution_count": 58,
   "metadata": {},
   "outputs": [
    {
     "data": {
      "text/plain": [
       "0    [R, G, W]\n",
       "1       [R, B]\n",
       "2          [Y]\n",
       "dtype: object"
      ]
     },
     "execution_count": 58,
     "metadata": {},
     "output_type": "execute_result"
    }
   ],
   "source": [
    "s1 = pd.Series([['R', 'G', 'W'], ['R', 'B'], ['Y']])\n",
    "s1"
   ]
  },
  {
   "cell_type": "code",
   "execution_count": 65,
   "metadata": {},
   "outputs": [
    {
     "data": {
      "text/plain": [
       "0    R\n",
       "1    G\n",
       "2    W\n",
       "3    R\n",
       "4    B\n",
       "5    Y\n",
       "dtype: object"
      ]
     },
     "execution_count": 65,
     "metadata": {},
     "output_type": "execute_result"
    }
   ],
   "source": [
    "# Usind append method, but more time complexity\n",
    "li = []\n",
    "for i in s1:\n",
    "    for j in i:\n",
    "        li.append(j)\n",
    "s2 = pd.Series(li)\n",
    "s2"
   ]
  },
  {
   "cell_type": "code",
   "execution_count": 66,
   "metadata": {},
   "outputs": [
    {
     "data": {
      "text/plain": [
       "0    R\n",
       "1    G\n",
       "2    W\n",
       "3    R\n",
       "4    B\n",
       "5    Y\n",
       "dtype: object"
      ]
     },
     "execution_count": 66,
     "metadata": {},
     "output_type": "execute_result"
    }
   ],
   "source": [
    "# Using extend method, less time complexity\n",
    "li = []\n",
    "for i in s1:\n",
    "    li += i # extending\n",
    "s2 = pd.Series(li)\n",
    "s2"
   ]
  },
  {
   "cell_type": "markdown",
   "metadata": {},
   "source": [
    "#### 11. Write a Pandas program to sort a given Series.\n",
    "\n",
    "`Sample Output:\n",
    "Original Data Series:\n",
    "0 100\n",
    "1 200\n",
    "2 python\n",
    "3 300.12\n",
    "4 400\n",
    "dtype: object\n",
    "0 100\n",
    "1 200\n",
    "3 300.12\n",
    "4 400\n",
    "2 python\n",
    "dtype: object`"
   ]
  },
  {
   "cell_type": "code",
   "execution_count": 68,
   "metadata": {},
   "outputs": [
    {
     "name": "stdout",
     "output_type": "stream",
     "text": [
      "0       100\n",
      "1       200\n",
      "3    300.12\n",
      "4       400\n",
      "2    python\n",
      "dtype: object\n"
     ]
    }
   ],
   "source": [
    "series=pd.Series([\"100\",'200','python','300.12','400'])\n",
    "print(series.sort_values())"
   ]
  },
  {
   "cell_type": "markdown",
   "metadata": {},
   "source": [
    "#### 12. Write a Pandas program to add some data to an existing Series.\n",
    "\n",
    "`Sample Output:\n",
    "Original Data Series:\n",
    "0 100\n",
    "1 200\n",
    "2 python\n",
    "3 300.12\n",
    "4 400\n",
    "dtype: object\n",
    "Data Series after adding some data:\n",
    "0 100\n",
    "1 200\n",
    "2 python\n",
    "3 300.12\n",
    "4 400\n",
    "5 500\n",
    "6 php\n",
    "dtype: object`"
   ]
  },
  {
   "cell_type": "code",
   "execution_count": 79,
   "metadata": {},
   "outputs": [
    {
     "ename": "IndexError",
     "evalue": "iloc cannot enlarge its target object",
     "output_type": "error",
     "traceback": [
      "\u001b[1;31m---------------------------------------------------------------------------\u001b[0m",
      "\u001b[1;31mIndexError\u001b[0m                                Traceback (most recent call last)",
      "\u001b[1;32m<ipython-input-79-b00d35a93967>\u001b[0m in \u001b[0;36m<module>\u001b[1;34m\u001b[0m\n\u001b[0;32m      2\u001b[0m \u001b[0mseries\u001b[0m\u001b[1;33m[\u001b[0m\u001b[0mlen\u001b[0m\u001b[1;33m(\u001b[0m\u001b[0mseries\u001b[0m\u001b[1;33m)\u001b[0m\u001b[1;33m]\u001b[0m\u001b[1;33m=\u001b[0m\u001b[1;34m\"500\"\u001b[0m\u001b[1;33m\u001b[0m\u001b[1;33m\u001b[0m\u001b[0m\n\u001b[0;32m      3\u001b[0m \u001b[0mseries\u001b[0m\u001b[1;33m[\u001b[0m\u001b[0mlen\u001b[0m\u001b[1;33m(\u001b[0m\u001b[0mseries\u001b[0m\u001b[1;33m)\u001b[0m\u001b[1;33m]\u001b[0m\u001b[1;33m=\u001b[0m\u001b[1;34m\"600\"\u001b[0m\u001b[1;33m\u001b[0m\u001b[1;33m\u001b[0m\u001b[0m\n\u001b[1;32m----> 4\u001b[1;33m \u001b[0mseries\u001b[0m\u001b[1;33m.\u001b[0m\u001b[0miloc\u001b[0m\u001b[1;33m[\u001b[0m\u001b[0mlen\u001b[0m\u001b[1;33m(\u001b[0m\u001b[0mseries\u001b[0m\u001b[1;33m)\u001b[0m\u001b[1;33m]\u001b[0m\u001b[1;33m=\u001b[0m\u001b[1;34m\"700\"\u001b[0m\u001b[1;33m\u001b[0m\u001b[1;33m\u001b[0m\u001b[0m\n\u001b[0m\u001b[0;32m      5\u001b[0m \u001b[1;33m\u001b[0m\u001b[0m\n\u001b[0;32m      6\u001b[0m \u001b[0mseries\u001b[0m\u001b[1;33m\u001b[0m\u001b[1;33m\u001b[0m\u001b[0m\n",
      "\u001b[1;32mC:\\ProgramData\\Anaconda3\\lib\\site-packages\\pandas\\core\\indexing.py\u001b[0m in \u001b[0;36m__setitem__\u001b[1;34m(self, key, value)\u001b[0m\n\u001b[0;32m    665\u001b[0m             \u001b[0mkey\u001b[0m \u001b[1;33m=\u001b[0m \u001b[0mcom\u001b[0m\u001b[1;33m.\u001b[0m\u001b[0mapply_if_callable\u001b[0m\u001b[1;33m(\u001b[0m\u001b[0mkey\u001b[0m\u001b[1;33m,\u001b[0m \u001b[0mself\u001b[0m\u001b[1;33m.\u001b[0m\u001b[0mobj\u001b[0m\u001b[1;33m)\u001b[0m\u001b[1;33m\u001b[0m\u001b[1;33m\u001b[0m\u001b[0m\n\u001b[0;32m    666\u001b[0m         \u001b[0mindexer\u001b[0m \u001b[1;33m=\u001b[0m \u001b[0mself\u001b[0m\u001b[1;33m.\u001b[0m\u001b[0m_get_setitem_indexer\u001b[0m\u001b[1;33m(\u001b[0m\u001b[0mkey\u001b[0m\u001b[1;33m)\u001b[0m\u001b[1;33m\u001b[0m\u001b[1;33m\u001b[0m\u001b[0m\n\u001b[1;32m--> 667\u001b[1;33m         \u001b[0mself\u001b[0m\u001b[1;33m.\u001b[0m\u001b[0m_has_valid_setitem_indexer\u001b[0m\u001b[1;33m(\u001b[0m\u001b[0mkey\u001b[0m\u001b[1;33m)\u001b[0m\u001b[1;33m\u001b[0m\u001b[1;33m\u001b[0m\u001b[0m\n\u001b[0m\u001b[0;32m    668\u001b[0m \u001b[1;33m\u001b[0m\u001b[0m\n\u001b[0;32m    669\u001b[0m         \u001b[0miloc\u001b[0m \u001b[1;33m=\u001b[0m \u001b[0mself\u001b[0m \u001b[1;32mif\u001b[0m \u001b[0mself\u001b[0m\u001b[1;33m.\u001b[0m\u001b[0mname\u001b[0m \u001b[1;33m==\u001b[0m \u001b[1;34m\"iloc\"\u001b[0m \u001b[1;32melse\u001b[0m \u001b[0mself\u001b[0m\u001b[1;33m.\u001b[0m\u001b[0mobj\u001b[0m\u001b[1;33m.\u001b[0m\u001b[0miloc\u001b[0m\u001b[1;33m\u001b[0m\u001b[1;33m\u001b[0m\u001b[0m\n",
      "\u001b[1;32mC:\\ProgramData\\Anaconda3\\lib\\site-packages\\pandas\\core\\indexing.py\u001b[0m in \u001b[0;36m_has_valid_setitem_indexer\u001b[1;34m(self, indexer)\u001b[0m\n\u001b[0;32m   1392\u001b[0m                 \u001b[1;32melif\u001b[0m \u001b[0mis_integer\u001b[0m\u001b[1;33m(\u001b[0m\u001b[0mi\u001b[0m\u001b[1;33m)\u001b[0m\u001b[1;33m:\u001b[0m\u001b[1;33m\u001b[0m\u001b[1;33m\u001b[0m\u001b[0m\n\u001b[0;32m   1393\u001b[0m                     \u001b[1;32mif\u001b[0m \u001b[0mi\u001b[0m \u001b[1;33m>=\u001b[0m \u001b[0mlen\u001b[0m\u001b[1;33m(\u001b[0m\u001b[0max\u001b[0m\u001b[1;33m)\u001b[0m\u001b[1;33m:\u001b[0m\u001b[1;33m\u001b[0m\u001b[1;33m\u001b[0m\u001b[0m\n\u001b[1;32m-> 1394\u001b[1;33m                         \u001b[1;32mraise\u001b[0m \u001b[0mIndexError\u001b[0m\u001b[1;33m(\u001b[0m\u001b[1;34m\"iloc cannot enlarge its target object\"\u001b[0m\u001b[1;33m)\u001b[0m\u001b[1;33m\u001b[0m\u001b[1;33m\u001b[0m\u001b[0m\n\u001b[0m\u001b[0;32m   1395\u001b[0m                 \u001b[1;32melif\u001b[0m \u001b[0misinstance\u001b[0m\u001b[1;33m(\u001b[0m\u001b[0mi\u001b[0m\u001b[1;33m,\u001b[0m \u001b[0mdict\u001b[0m\u001b[1;33m)\u001b[0m\u001b[1;33m:\u001b[0m\u001b[1;33m\u001b[0m\u001b[1;33m\u001b[0m\u001b[0m\n\u001b[0;32m   1396\u001b[0m                     \u001b[1;32mraise\u001b[0m \u001b[0mIndexError\u001b[0m\u001b[1;33m(\u001b[0m\u001b[1;34m\"iloc cannot enlarge its target object\"\u001b[0m\u001b[1;33m)\u001b[0m\u001b[1;33m\u001b[0m\u001b[1;33m\u001b[0m\u001b[0m\n",
      "\u001b[1;31mIndexError\u001b[0m: iloc cannot enlarge its target object"
     ]
    }
   ],
   "source": [
    "series=pd.Series([\"100\",'200','python','300.12','400'])\n",
    "series[len(series)]=\"500\"\n",
    "series[len(series)]=\"600\"\n",
    "\n",
    "series"
   ]
  },
  {
   "cell_type": "markdown",
   "metadata": {},
   "source": [
    "#### 13. Write a Pandas program to create a subset of a given series based on value and condition.\n",
    "\n",
    "`Sample Output:\n",
    "Original Data Series:\n",
    "0 0\n",
    "1 1\n",
    "2 2\n",
    "....\n",
    "9 9\n",
    "10 10\n",
    "dtype: int64\n",
    "Subset of the above Data Series:\n",
    "0 0\n",
    "1 1\n",
    "2 2\n",
    "3 3\n",
    "4 4\n",
    "5 5\n",
    "dtype: int64`"
   ]
  },
  {
   "cell_type": "code",
   "execution_count": 80,
   "metadata": {},
   "outputs": [
    {
     "data": {
      "text/plain": [
       "0    1\n",
       "1    2\n",
       "2    3\n",
       "3    4\n",
       "4    5\n",
       "dtype: int64"
      ]
     },
     "execution_count": 80,
     "metadata": {},
     "output_type": "execute_result"
    }
   ],
   "source": [
    "series=pd.Series([1,2,3,4,5,6,7,8,9,10])\n",
    "series\n",
    "subseries=series[0:5]\n",
    "subseries"
   ]
  },
  {
   "cell_type": "markdown",
   "metadata": {},
   "source": [
    "#### 14. Write a Pandas program to change the order of index of a given series.\n",
    "\n",
    "`Sample Output:\n",
    "Original Data Series:\n",
    "A 1\n",
    "B 2\n",
    "C 3\n",
    "D 4\n",
    "E 5\n",
    "dtype: int64\n",
    "Data Series after changing the order of index:\n",
    "B 2\n",
    "A 1\n",
    "C 3\n",
    "D 4\n",
    "E 5\n",
    "dtype: int64`"
   ]
  },
  {
   "cell_type": "code",
   "execution_count": 82,
   "metadata": {},
   "outputs": [
    {
     "name": "stdout",
     "output_type": "stream",
     "text": [
      "Mean : 5.5\n",
      "Standard Deviation : 3.0276503540974917\n"
     ]
    }
   ],
   "source": []
  },
  {
   "cell_type": "markdown",
   "metadata": {},
   "source": [
    "#### 15. Write a Pandas program to create the mean and standard deviation of the data of a given Series.\n",
    "\n",
    "`Sample Output:\n",
    "Original Data Series:\n",
    "0 1\n",
    "1 2\n",
    "2 3\n",
    "....\n",
    "7 8\n",
    "8 9\n",
    "9 5\n",
    "10 3\n",
    "dtype: int64`\n",
    "\n",
    "`Mean of the said Data Series:\n",
    "4.818181818181818`\n",
    "\n",
    "\n",
    "`Standard deviation of the said Data Series:\n",
    "2.522624895547565`"
   ]
  },
  {
   "cell_type": "code",
   "execution_count": 83,
   "metadata": {},
   "outputs": [
    {
     "name": "stdout",
     "output_type": "stream",
     "text": [
      "Mean : 5.5\n",
      "Standard Deviation : 3.0276503540974917\n"
     ]
    }
   ],
   "source": [
    "series=pd.Series([1,2,3,4,5,6,7,8,9,10])\n",
    "print(\"Mean :\",series.mean())\n",
    "print(\"Standard Deviation :\",series.std())"
   ]
  },
  {
   "cell_type": "markdown",
   "metadata": {},
   "source": [
    "#### 16. Write a Pandas program to get the items of a given series not present in another given series.\n",
    "\n",
    "`Sample Output:`\n",
    "\n",
    "`Original Series:\n",
    "sr1:\n",
    "0 1\n",
    "1 2\n",
    "2 3\n",
    "3 4\n",
    "4 5\n",
    "dtype: int64`\n",
    "\n",
    "`sr2:\n",
    "0 2\n",
    "1 4\n",
    "2 6\n",
    "3 8\n",
    "4 10\n",
    "dtype: int64`\n",
    "\n",
    "`Items of sr1 not present in sr2:\n",
    "0 1\n",
    "2 3\n",
    "4 5\n",
    "dtype: int64`"
   ]
  },
  {
   "cell_type": "code",
   "execution_count": 115,
   "metadata": {},
   "outputs": [
    {
     "name": "stdout",
     "output_type": "stream",
     "text": [
      "0    1\n",
      "1    3\n",
      "2    5\n",
      "3    7\n",
      "4    9\n",
      "dtype: int64\n"
     ]
    }
   ],
   "source": [
    "series=pd.Series([1,2,3,4,5,6,7,8,9,10])\n",
    "series2=pd.Series([10,2,30,4,50,6,70,8,90,10])\n",
    "print(pd.Series(list(set(series).difference(set(series2)))))\n",
    "\n",
    "\n"
   ]
  },
  {
   "cell_type": "markdown",
   "metadata": {},
   "source": [
    "#### 17. Write a Pandas program to get the items which are not common of two given series.\n",
    "\n",
    "\n",
    "`\n",
    "Sample Output:`\n",
    "\n",
    "`Original Series:\n",
    "sr1:\n",
    "0 1\n",
    "1 2\n",
    "2 3\n",
    "3 4\n",
    "4 5\n",
    "dtype: int64`\n",
    "\n",
    "`sr2:\n",
    "0 2\n",
    "1 4\n",
    "2 6\n",
    "3 8\n",
    "4 10\n",
    "dtype: int64`\n",
    "\n",
    "`Items of a given series not present in another given series:\n",
    "0 1\n",
    "2 3\n",
    "4 5\n",
    "5 6\n",
    "6 8\n",
    "7 10\n",
    "dtype: int64`"
   ]
  },
  {
   "cell_type": "code",
   "execution_count": 96,
   "metadata": {},
   "outputs": [
    {
     "name": "stdout",
     "output_type": "stream",
     "text": [
      "0     1\n",
      "1     3\n",
      "2     5\n",
      "3    70\n",
      "4     7\n",
      "5     9\n",
      "6    50\n",
      "7    90\n",
      "8    30\n",
      "dtype: int64\n"
     ]
    }
   ],
   "source": [
    "series=pd.Series([1,2,3,4,5,6,7,8,9,10])\n",
    "series2=pd.Series([10,2,30,4,50,6,70,8,90,10])\n",
    "print(pd.Series(list(set(series).symmetric_difference(set(series2)))))"
   ]
  },
  {
   "cell_type": "markdown",
   "metadata": {},
   "source": [
    "#### 18. Write a Pandas program to compute the minimum, 25th percentile, median, 75th, and maximum of a given series.\n",
    "\n",
    "`Sample Output:`\n",
    "\n",
    "`Original Series:\n",
    "0 3.000938\n",
    "1 11.370722\n",
    "2 14.612143\n",
    "....\n",
    "17 14.118931\n",
    "18 8.247458\n",
    "19 5.526727\n",
    "dtype: float64`\n",
    "\n",
    "`Minimum, 25th percentile, median, 75th, and maximum of a given series:\n",
    "[ 3.00093811 8.09463867 10.23353705 12.21537733 14.61214321]`\n"
   ]
  },
  {
   "cell_type": "code",
   "execution_count": 210,
   "metadata": {},
   "outputs": [
    {
     "name": "stdout",
     "output_type": "stream",
     "text": [
      "Minimum: 10\n",
      "25th Percentile: 32.5\n",
      "Median: 55.0\n",
      "75th Percentile: 77.5\n",
      "Maximum: 100\n"
     ]
    }
   ],
   "source": [
    "import pandas as pd\n",
    "\n",
    "# Create a sample Series\n",
    "data = pd.Series([10, 20, 30, 40, 50, 60, 70, 80, 90, 100])\n",
    "\n",
    "# Compute statistics\n",
    "minimum = data.min()\n",
    "percentile_25 = data.quantile(0.25)\n",
    "median = data.median()\n",
    "percentile_75 = data.quantile(0.75)\n",
    "maximum = data.max()\n",
    "\n",
    "# Print the results\n",
    "print(\"Minimum:\", minimum)\n",
    "print(\"25th Percentile:\", percentile_25)\n",
    "print(\"Median:\", median)\n",
    "print(\"75th Percentile:\", percentile_75)\n",
    "print(\"Maximum:\", maximum)\n"
   ]
  },
  {
   "cell_type": "markdown",
   "metadata": {},
   "source": [
    "#### 19. Write a Pandas program to calculate the frequency counts of each unique value of a given series.\n",
    "\n",
    "`Sample Output:`\n",
    "`Original Series:\n",
    "0 1\n",
    "1 7\n",
    "2 1\n",
    "3 6\n",
    "...\n",
    "\n",
    "37 0\n",
    "38 4\n",
    "39 8\n",
    "dtype: object`\n",
    "\n",
    "`Frequency of each unique value of the said series.\n",
    "0 9\n",
    "2 7\n",
    "9 6\n",
    "....\n",
    "3 2\n",
    "4 1\n",
    "5 1\n",
    "dtype: int64`"
   ]
  },
  {
   "cell_type": "code",
   "execution_count": 116,
   "metadata": {},
   "outputs": [
    {
     "name": "stdout",
     "output_type": "stream",
     "text": [
      "1     3\n",
      "10    1\n",
      "9     1\n",
      "6     1\n",
      "5     1\n",
      "4     1\n",
      "3     1\n",
      "2     1\n",
      "dtype: int64\n"
     ]
    }
   ],
   "source": [
    "series=pd.Series([1,2,3,4,5,6,1,1,9,10])\n",
    "\n",
    "print(series.value_counts())"
   ]
  },
  {
   "cell_type": "markdown",
   "metadata": {},
   "source": [
    "#### 20. Write a Pandas program to display most frequent value in a given series and replace everything else as 'Other' in the series.\n",
    "\n",
    "`Sample Output:`\n",
    "\n",
    "`Original Series:\n",
    "0 3\n",
    "1 1\n",
    "2 1\n",
    "3 3\n",
    "...\n",
    "12 2\n",
    "13 3\n",
    "14 3\n",
    "dtype: int64`\n",
    "\n",
    "`Top 2 Freq: 2 6\n",
    "3 5\n",
    "1 4\n",
    "dtype: int64`\n",
    "\n",
    "`0 Other\n",
    "1 Other\n",
    "2 Other\n",
    "3 Other\n",
    "...\n",
    "11 2\n",
    "12 2\n",
    "13 Other\n",
    "14 Other\n",
    "dtype: object`"
   ]
  },
  {
   "cell_type": "code",
   "execution_count": null,
   "metadata": {},
   "outputs": [],
   "source": [
    "series = pd.Series([1,2,3,4,5,6,10,10,9,10])\n",
    "series2 = series.copy()\n",
    "s = series.value_counts().reset_index()\n",
    "temp = s['index'][0]\n",
    "i = 0\n",
    "for i in range(len(series2)):\n",
    "    if series2[i] != temp:\n",
    "        series2[i] = \"Other\"\n",
    "series2"
   ]
  },
  {
   "cell_type": "markdown",
   "metadata": {},
   "source": [
    "#### 21. Write a Pandas program to find the positions of numbers that are multiples of 5 of a given series.\n",
    "\n",
    "`Sample Output:`\n",
    "`Original Series:\n",
    "0 1\n",
    "1 9\n",
    "2 8\n",
    "3 6\n",
    "4 9\n",
    "5 7\n",
    "6 1\n",
    "7 1\n",
    "8 1\n",
    "dtype: int64`\n",
    "\n",
    "`Positions of numbers that are multiples of 5:[]`"
   ]
  },
  {
   "cell_type": "code",
   "execution_count": 120,
   "metadata": {},
   "outputs": [
    {
     "name": "stdout",
     "output_type": "stream",
     "text": [
      "Positions of numbers that are multiples of 5: [4, 7]\n"
     ]
    }
   ],
   "source": [
    "s = pd.Series([1, 9, 8, 6, 5, 9, 7, 10, 1, 1])\n",
    "li = []\n",
    "for i in range(len(s)):\n",
    "    if s[i]%5==0:\n",
    "        li.append(i)\n",
    "\n",
    "print(\"Positions of numbers that are multiples of 5:\", li)"
   ]
  },
  {
   "cell_type": "markdown",
   "metadata": {},
   "source": [
    "#### 22. Write a Pandas program to extract items at given positions of a given series.\n",
    "\n",
    "`Sample Output:`\n",
    "\n",
    "`Original Series:\n",
    "0 2\n",
    "1 3\n",
    "2 9\n",
    "3 0\n",
    "4 2\n",
    "5 3\n",
    "...\n",
    "19 0\n",
    "20 2\n",
    "21 3\n",
    "dtype: object`\n",
    "\n",
    "`Extract items at given positions of the said series:\n",
    "0 2\n",
    "2 9\n",
    "6 8\n",
    "11 0\n",
    "21 3\n",
    "dtype: object`"
   ]
  },
  {
   "cell_type": "code",
   "execution_count": 128,
   "metadata": {},
   "outputs": [
    {
     "name": "stdout",
     "output_type": "stream",
     "text": [
      "Extract items at given positions of the said series:\n",
      "0 2\n",
      "2 9\n",
      "4 2\n",
      "7 34\n"
     ]
    }
   ],
   "source": [
    "s = pd.Series([2, 3, 9, 0, 2, 3, 4, 34, 12])\n",
    "positions = [0, 2, 4, 7]\n",
    "\n",
    "print(\"Extract items at given positions of the said series:\")\n",
    "for i in positions:\n",
    "    print(i, s[i])"
   ]
  },
  {
   "cell_type": "markdown",
   "metadata": {},
   "source": [
    "#### 23. Write a Pandas program to get the positions of items of a given series in another given series.\n",
    "\n",
    "`Sample Output:`\n",
    "\n",
    "`Original Series:\n",
    "0 1\n",
    "1 2\n",
    "2 3\n",
    "3 4\n",
    "4 5\n",
    "5 6\n",
    "6 7\n",
    "7 8\n",
    "8 9\n",
    "9 10\n",
    "dtype: int64`\n",
    "\n",
    "`0 1\n",
    "1 3\n",
    "2 5\n",
    "3 7\n",
    "4 10\n",
    "dtype: int64`\n",
    "\n",
    "`Positions of items of series2 in series1:\n",
    "[0, 2, 4, 6, 9]`\n",
    "\n",
    "\n",
    "###### Search about s.index.get_loc(element)"
   ]
  },
  {
   "cell_type": "code",
   "execution_count": 143,
   "metadata": {},
   "outputs": [
    {
     "name": "stdout",
     "output_type": "stream",
     "text": [
      "[[0], [2], [4], [6], [9, 10]]\n"
     ]
    }
   ],
   "source": [
    "s = pd.Series([1, 2, 3, 4, 5, 6, 7, 8, 9, 10, 10])\n",
    "positions =pd.Series([1, 3, 5, 7, 10])\n",
    "li=[]\n",
    "for i in positions:\n",
    "    if i in s:\n",
    "        li.append(s[s == i].index.to_list())\n",
    "print(li)"
   ]
  },
  {
   "cell_type": "markdown",
   "metadata": {},
   "source": [
    "#### 24. Write a Pandas program convert the first and last character of each word to upper case in each word of a given series.\n",
    "\n",
    "`Sample Output:`\n",
    "\n",
    "`Original Series:\n",
    "0 php\n",
    "1 python\n",
    "2 java\n",
    "3 c#\n",
    "dtype: object`\n",
    "\n",
    "`First and last character of each word to upper case:\n",
    "0 PhP\n",
    "1 PythoN\n",
    "2 JavA\n",
    "3 C#\n",
    "dtype: object`"
   ]
  },
  {
   "cell_type": "code",
   "execution_count": 150,
   "metadata": {},
   "outputs": [
    {
     "name": "stdout",
     "output_type": "stream",
     "text": [
      "0     CaT\n",
      "1     DoG\n",
      "2    BirD\n",
      "dtype: object\n"
     ]
    }
   ],
   "source": [
    "s = pd.Series(['cat','dog','bird'])\n",
    "for i in range(len(s)):\n",
    "    c=s[i][0].upper()+s[i][1:len(s[i])-1]+s[i][len(s[i])-1].upper()\n",
    "    s[i]=c\n",
    "print(s)\n",
    "\n",
    "\n",
    "\n",
    "\n",
    "# a=\"ashutosh\"\n",
    "# b=a[0].upper()+a[1:len(a)-1]+a[len(a)-1].upper()\n",
    "# b"
   ]
  },
  {
   "cell_type": "markdown",
   "metadata": {},
   "source": [
    "#### 25. Write a Pandas program to calculate the number of characters in each word in a given series.\n",
    "\n",
    "`Sample Output:`\n",
    "\n",
    "`Original Series:\n",
    "0 Php\n",
    "1 Python\n",
    "2 Java\n",
    "3 C#\n",
    "dtype: object`\n",
    "\n",
    "`Number of characters in each word in the said series:\n",
    "0 3\n",
    "1 6\n",
    "2 4\n",
    "3 2\n",
    "dtype: int64`\n"
   ]
  },
  {
   "cell_type": "code",
   "execution_count": 151,
   "metadata": {},
   "outputs": [
    {
     "data": {
      "text/plain": [
       "0    3\n",
       "1    3\n",
       "2    4\n",
       "dtype: object"
      ]
     },
     "execution_count": 151,
     "metadata": {},
     "output_type": "execute_result"
    }
   ],
   "source": [
    "s = pd.Series(['cat','dog','bird'])\n",
    "for i in range(len(s)):\n",
    "    s[i]=len(s[i])\n",
    "s\n",
    "    \n",
    "    \n"
   ]
  },
  {
   "cell_type": "markdown",
   "metadata": {},
   "source": [
    "#### 26. Write a Pandas program to compute difference of differences between consecutive numbers of a given series.\n",
    "\n",
    "`Sample Output:`\n",
    "\n",
    "`Original Series:\n",
    "0 1\n",
    "1 3\n",
    "2 5\n",
    "3 8\n",
    "4 10\n",
    "5 11\n",
    "6 15\n",
    "dtype: int64`\n",
    "\n",
    "`Difference of differences between consecutive numbers of the said series:\n",
    "[nan, 2.0, 2.0, 3.0, 2.0, 1.0, 4.0]\n",
    "[nan, nan, 0.0, 1.0, -1.0, -1.0, 3.0]`"
   ]
  },
  {
   "cell_type": "code",
   "execution_count": 162,
   "metadata": {},
   "outputs": [
    {
     "name": "stdout",
     "output_type": "stream",
     "text": [
      "[nan, 20, 18, 1, 19, 17, 1, 1, 85, 11, 94]\n",
      "[nan, nan, 2, 17, 18, 2, 16, 0, 84, 74, 83]\n"
     ]
    }
   ],
   "source": [
    "li=[np.nan]\n",
    "li2=[]\n",
    "s = pd.Series([1, 21, 3, 4, 23, 6, 7, 8, 93, 104, 10])\n",
    "for i in range(1,len(s)):\n",
    "    li.append(abs(s[i]-s[i-1]))\n",
    "for i in range(0,len(li)):\n",
    "    li2.append(abs(li[i]-li[i-1]))\n",
    "print(li)\n",
    "print(li2)\n",
    "\n",
    "\n",
    "#rollingwindow se try karo"
   ]
  },
  {
   "cell_type": "markdown",
   "metadata": {},
   "source": [
    "#### 27. Write a Pandas program to convert a series of date strings to a timeseries.\n",
    "\n",
    "`Sample Output:`\n",
    "\n",
    "`Original Series:\n",
    "0 01 Jan 2015\n",
    "1 10-02-2016\n",
    "2 20180307\n",
    "3 2014/05/06\n",
    "4 2016-04-12\n",
    "5 2019-04-06T11:20\n",
    "dtype: object`\n",
    "\n",
    "`Series of date strings to a timeseries:\n",
    "0 2015-01-01 00:00:00\n",
    "1 2016-10-02 00:00:00\n",
    "2 2018-03-07 00:00:00\n",
    "3 2014-05-06 00:00:00\n",
    "4 2016-04-12 00:00:00\n",
    "5 2019-04-06 11:20:00\n",
    "dtype: datetime64[ns]`"
   ]
  },
  {
   "cell_type": "code",
   "execution_count": 170,
   "metadata": {},
   "outputs": [
    {
     "name": "stdout",
     "output_type": "stream",
     "text": [
      "0   2015-01-01 00:00:00\n",
      "1   2016-10-02 00:00:00\n",
      "2   2018-03-07 00:00:00\n",
      "3   2014-05-06 00:00:00\n",
      "4   2019-04-06 11:20:00\n",
      "dtype: datetime64[ns]\n"
     ]
    }
   ],
   "source": [
    "import pandas as pd\n",
    "\n",
    "# Create a Series with date strings\n",
    "s = pd.Series([\"01 Jan 2015\", \"10-02-2016\", \"20180307\", \"2014/05/06\", \"2019-04-06T11:20\"])\n",
    "\n",
    "# Convert to datetime\n",
    "p = pd.to_datetime(s)\n",
    "print(p)\n",
    "\n",
    "\n"
   ]
  },
  {
   "cell_type": "markdown",
   "metadata": {},
   "source": [
    "#### 28. Write a Pandas program to get the day of month, day of year, week number and day of week from a given series of date strings.\n",
    "\n",
    "`Sample Output:`\n",
    "\n",
    "`Original Series:\n",
    "0 01 Jan 2015\n",
    "1 10-02-2016\n",
    "2 20180307\n",
    "3 2014/05/06\n",
    "4 2016-04-12\n",
    "5 2019-04-06T11:20\n",
    "dtype: object`\n",
    "\n",
    "`Day of month:\n",
    "[1, 2, 7, 6, 12, 6]`\n",
    "\n",
    "`Day of year:\n",
    "[1, 276, 66, 126, 103, 96]`\n",
    "\n",
    "`Week number:\n",
    "[1, 39, 10, 19, 15, 14]`\n",
    "\n",
    "`Day of week:\n",
    "['Thursday', 'Sunday', 'Wednesday', 'Tuesday', 'Tuesday', 'Saturday']`"
   ]
  },
  {
   "cell_type": "code",
   "execution_count": 184,
   "metadata": {},
   "outputs": [
    {
     "name": "stdout",
     "output_type": "stream",
     "text": [
      "                 Date  Day of Month  Day of Year  Week Number Day of Week\n",
      "0 2015-01-01 00:00:00             1            1            1    Thursday\n",
      "1 2016-10-02 00:00:00             2          276           39      Sunday\n",
      "2 2018-03-07 00:00:00             7           66           10   Wednesday\n",
      "3 2014-05-06 00:00:00             6          126           19     Tuesday\n",
      "4 2019-04-06 11:20:00             6           96           14    Saturday\n"
     ]
    }
   ],
   "source": [
    "import pandas as pd\n",
    "\n",
    "# Create a Series with date strings\n",
    "date_strings = pd.Series([\n",
    "    \"01 Jan 2015\",\n",
    "    \"10-02-2016\",\n",
    "    \"20180307\",\n",
    "    \"2014/05/06\",\n",
    "    \"2019-04-06T11:20\"\n",
    "])\n",
    "\n",
    "# Convert to datetime\n",
    "dates = pd.to_datetime(date_strings)\n",
    "\n",
    "# Extract required information\n",
    "day_of_month = dates.dt.day\n",
    "day_of_year = dates.dt.dayofyear\n",
    "week_number = dates.dt.isocalendar().week\n",
    "day_of_week = dates.dt.day_name()\n",
    "\n",
    "# Create a DataFrame to display the results\n",
    "results = pd.DataFrame({\n",
    "    'Date': dates,\n",
    "    'Day of Month': day_of_month,\n",
    "    'Day of Year': day_of_year,\n",
    "    'Week Number': week_number,\n",
    "    'Day of Week': day_of_week\n",
    "})\n",
    "\n",
    "print(results)\n",
    "\n",
    "\n",
    "#more work on datetime is needed"
   ]
  },
  {
   "cell_type": "markdown",
   "metadata": {},
   "source": [
    "#### 29. Write a Pandas program to convert year-month string to dates adding a specified day of the month.\n",
    "\n",
    "`Sample Output:`\n",
    "\n",
    "`Original Series:\n",
    "0 Jan 2015\n",
    "1 Feb 2016\n",
    "2 Mar 2017\n",
    "3 Apr 2018\n",
    "4 May 2019\n",
    "dtype: object`\n",
    "\n",
    "`New dates:\n",
    "0 2015-01-11\n",
    "1 2016-02-11\n",
    "2 2017-03-11\n",
    "3 2018-04-11\n",
    "4 2019-05-11\n",
    "dtype: datetime64[ns]`"
   ]
  },
  {
   "cell_type": "code",
   "execution_count": 209,
   "metadata": {},
   "outputs": [
    {
     "name": "stdout",
     "output_type": "stream",
     "text": [
      "Converted Dates:\n",
      "DatetimeIndex(['2023-01-15', '2023-02-15', '2023-03-15', '2023-04-15'], dtype='datetime64[ns]', freq=None)\n"
     ]
    }
   ],
   "source": [
    "import pandas as pd\n",
    "\n",
    "# Sample year-month strings\n",
    "year_month = ['2023-01', '2023-02', '2023-03', '2023-04']\n",
    "\n",
    "# Specify the day to be added\n",
    "day = 15\n",
    "\n",
    "# Convert year-month strings to dates by adding the specified day\n",
    "dates = pd.to_datetime([f\"{ym}-{day}\" for ym in year_month])\n",
    "\n",
    "# Print the resulting dates\n",
    "print(\"Converted Dates:\")\n",
    "print(dates)\n"
   ]
  },
  {
   "cell_type": "markdown",
   "metadata": {},
   "source": [
    "#### 30. Write a Pandas program to filter words from a given series that contain atleast two vowels.\n",
    "`Sample Output:\n",
    "Original Series:\n",
    "0 Red\n",
    "1 Green\n",
    "2 Orange\n",
    "3 Pink\n",
    "4 Yellow\n",
    "5 White\n",
    "dtype: object`\n",
    "\n",
    "`Filtered words:\n",
    "1 Green\n",
    "2 Orange\n",
    "4 Yellow\n",
    "5 White\n",
    "dtype: object`"
   ]
  },
  {
   "cell_type": "code",
   "execution_count": 188,
   "metadata": {},
   "outputs": [
    {
     "name": "stdout",
     "output_type": "stream",
     "text": [
      "0     Green\n",
      "1    Orange\n",
      "2    Yellow\n",
      "3     White\n",
      "dtype: object\n"
     ]
    }
   ],
   "source": [
    "lv = 'aeiou'\n",
    "uv = 'AEIOU'\n",
    "series=pd.Series([\"Red\",\"Green\",\"Orange\",\"Pink\",\"Yellow\",\"White\"])\n",
    "li=[]\n",
    "\n",
    "for i in range(len(series)):\n",
    "    counter=0\n",
    "    for j in  range(len(series[i])):\n",
    "        if series[i][j] in lv or series[i][j] in uv:\n",
    "            counter=counter+1\n",
    "    if counter>=2:\n",
    "        li.append(series[i])\n",
    "        \n",
    "        \n",
    "print(pd.Series(li))\n",
    "        "
   ]
  },
  {
   "cell_type": "markdown",
   "metadata": {},
   "source": [
    "#### 31. Write a Pandas program to compute the Euclidean distance between two given series.\n",
    "##### Euclidean distance\n",
    "\n",
    "\n",
    "##### From Wikipedia,\n",
    "##### In mathematics, the Euclidean distance or Euclidean metric is the \"ordinary\" straight-line distance between two points in Euclidean space. With this distance, Euclidean space becomes a metric space. The associated norm is called the Euclidean norm.\n",
    "\n",
    "`Sample Output:\n",
    "Original series:\n",
    "0 1\n",
    "1 2\n",
    "2 3\n",
    "3 4\n",
    "4 5\n",
    "5 6\n",
    "6 7\n",
    "7 8\n",
    "8 9\n",
    "9 10\n",
    "dtype: int64`\n",
    "\n",
    "`0 11\n",
    "1 8\n",
    "2 7\n",
    "3 5\n",
    "4 6\n",
    "5 5\n",
    "6 3\n",
    "7 4\n",
    "8 7\n",
    "9 1\n",
    "dtype: int64`\n",
    "\n",
    "`Euclidean distance between two said series:\n",
    "16.492422502470642`"
   ]
  },
  {
   "cell_type": "code",
   "execution_count": 191,
   "metadata": {},
   "outputs": [
    {
     "name": "stdout",
     "output_type": "stream",
     "text": [
      "31.622776601683793\n"
     ]
    }
   ],
   "source": [
    "series1 = pd.Series(range(1, 11))  # Series with integers from 1 to 10\n",
    "series2 = pd.Series(range(11, 21))  # Series with integers from 11 to 20\n",
    "sumi=0\n",
    "for i in range(len(series1)):\n",
    "    sumi=sumi+(series1[i]-series2[i])**2\n",
    "print(np.sqrt(sumi))\n",
    "\n",
    "\n",
    "\n",
    "\n"
   ]
  },
  {
   "cell_type": "markdown",
   "metadata": {},
   "source": [
    "#### 32. Write a Pandas program to find the positions of the values neighboured by smaller values on both sides in a given series.\n",
    "\n",
    "`Sample Output:`\n",
    "\n",
    "`Original series:\n",
    "0 1\n",
    "1 8\n",
    "2 7\n",
    "3 5\n",
    "4 6\n",
    "5 5\n",
    "6 3\n",
    "7 4\n",
    "8 7\n",
    "9 1\n",
    "dtype: int64`\n",
    "\n",
    "`Positions of the values surrounded by smaller values on both sides:\n",
    "[1 4 8]`"
   ]
  },
  {
   "cell_type": "code",
   "execution_count": 194,
   "metadata": {},
   "outputs": [
    {
     "name": "stdout",
     "output_type": "stream",
     "text": [
      "[1, 3]\n"
     ]
    }
   ],
   "source": [
    "a=pd.Series([1, 276, 66, 126, 103, 96])\n",
    "li=[]\n",
    "for i in range(1,len(a)-1):\n",
    "    if a[i]>a[i-1] and a[i]>a[i+1]:\n",
    "        li.append(i)\n",
    "print(li)\n",
    "        \n",
    "    "
   ]
  },
  {
   "cell_type": "markdown",
   "metadata": {},
   "source": [
    "#### 33. Write a Pandas program to replace missing white spaces in a given string with the least frequent character.\n",
    "\n",
    "`Sample Output:`\n",
    "\n",
    "`Original series:\n",
    "abc def abcdef icd\n",
    "c 3\n",
    "d 3\n",
    "  3\n",
    "b 2\n",
    "e 2\n",
    "a 2\n",
    "f 2\n",
    "i 1\n",
    "dtype: int64`\n",
    "\n",
    "`abcidefiabcdefiicd`"
   ]
  },
  {
   "cell_type": "code",
   "execution_count": 204,
   "metadata": {},
   "outputs": [
    {
     "name": "stdout",
     "output_type": "stream",
     "text": [
      "i\n"
     ]
    }
   ],
   "source": [
    "text=\"abc def abcdef icd\"\n",
    "dicto=dict.fromkeys(text,0)\n",
    "for i in text:\n",
    "    dicto[i]+=1\n",
    "    \n",
    "min_key = min(dicto, key=dicto.get)\n",
    "\n"
   ]
  },
  {
   "cell_type": "markdown",
   "metadata": {},
   "source": [
    "#### 34. Write a Pandas program to compute the autocorrelations of a given numeric series.\n",
    "\n",
    "`From Wikipedia:\n",
    "Autocorrelation, also known as serial correlation, is the correlation of a signal with a delayed copy of itself as a function of delay. Informally, it is the similarity between observations as a function of the time lag between them.`\n",
    "\n",
    "\n",
    "`Sample Output:`\n",
    "\n",
    "`Original series:\n",
    "0 13.207262\n",
    "1 4.098685\n",
    "2 -1.435534\n",
    "3 13.626760\n",
    "...\n",
    "13 -2.346193\n",
    "14 17.873884\n",
    "dtype: float64`\n",
    "\n",
    "`Autocorrelations of the said series:\n",
    "[-0.38, 0.1, -0.43, 0.03, 0.35, -0.2, 0.04, -0.59, 0.34, 0.11]`"
   ]
  },
  {
   "cell_type": "code",
   "execution_count": 208,
   "metadata": {},
   "outputs": [
    {
     "name": "stdout",
     "output_type": "stream",
     "text": [
      "Autocorrelations:\n",
      "Lag 1: 1.0\n",
      "Lag 2: 1.0\n",
      "Lag 3: 1.0\n",
      "Lag 4: 1.0\n",
      "Lag 5: 0.9999999999999999\n"
     ]
    }
   ],
   "source": [
    "import pandas as pd\n",
    "\n",
    "# Create a sample numeric Series\n",
    "data = pd.Series([1, 2, 3, 4, 5, 6, 7, 8, 9, 10])\n",
    "\n",
    "# Compute autocorrelations for lags 1 to 5\n",
    "autocorrelations = {lag: data.autocorr(lag) for lag in range(1, 6)}\n",
    "\n",
    "# Print the autocorrelations\n",
    "print(\"Autocorrelations:\")\n",
    "for lag, value in autocorrelations.items():\n",
    "    print(f\"Lag {lag}: {value}\")\n"
   ]
  },
  {
   "cell_type": "markdown",
   "metadata": {},
   "source": [
    "#### 35. Write a Pandas program to create a TimeSeries to display all the Sundays of given year.\n",
    "\n",
    "`Sample Output:`\n",
    "\n",
    "`All Sundays of 2019:\n",
    "0 2020-01-05\n",
    "1 2020-01-12\n",
    "2 2020-01-19\n",
    "3 2020-01-26\n",
    "4 2020-02-02\n",
    "5 2020-02-09\n",
    ".....\n",
    "48 2020-12-06\n",
    "49 2020-12-13\n",
    "50 2020-12-20\n",
    "51 2020-12-27\n",
    "dtype: datetime64[ns]`"
   ]
  },
  {
   "cell_type": "markdown",
   "metadata": {},
   "source": [
    "#### 36. Write a Pandas program to convert given series into a dataframe with its index as another column on the dataframe.\n",
    "\n",
    "\n",
    "\n",
    "`Sample Output:`\n",
    "\n",
    "`_ index 0\n",
    "0 A 0\n",
    "1 B 1\n",
    "2 C 2\n",
    "3 D 3\n",
    "4 E 4`"
   ]
  },
  {
   "cell_type": "code",
   "execution_count": 207,
   "metadata": {},
   "outputs": [
    {
     "name": "stdout",
     "output_type": "stream",
     "text": [
      "   Index  Values\n",
      "0      0      10\n",
      "1      1      20\n",
      "2      2      30\n",
      "3      3      40\n",
      "4      4      50\n"
     ]
    }
   ],
   "source": [
    "import pandas as pd\n",
    "\n",
    "# Create a sample Series\n",
    "series = pd.Series([10, 20, 30, 40, 50], name='Values')\n",
    "\n",
    "# Convert Series to DataFrame and reset index\n",
    "df = series.reset_index()\n",
    "\n",
    "# Rename the columns\n",
    "df.columns = ['Index', 'Values']\n",
    "\n",
    "# Print the resulting DataFrame\n",
    "print(df)\n"
   ]
  },
  {
   "cell_type": "markdown",
   "metadata": {},
   "source": [
    "#### 37. Write a Pandas program to stack two given series vertically and horizontally.\n",
    "\n",
    "`Sample Output:`\n",
    "\n",
    "`Original Series:\n",
    "0 0\n",
    "1 1\n",
    "2 2\n",
    "....\n",
    "7 7\n",
    "8 8\n",
    "9 9\n",
    "dtype: int64`\n",
    "\n",
    "`0 p\n",
    "1 q\n",
    "2 r\n",
    "....\n",
    "7 w\n",
    "8 x\n",
    "9 y\n",
    "dtype: object`\n",
    "\n",
    "`Stack two given series vertically and horizontally:\n",
    "0 1\n",
    "0 0 p\n",
    "1 1 q\n",
    "2 2 r\n",
    ".....\n",
    "8 8 x\n",
    "9 9 y`"
   ]
  },
  {
   "cell_type": "code",
   "execution_count": 206,
   "metadata": {},
   "outputs": [
    {
     "name": "stdout",
     "output_type": "stream",
     "text": [
      "Vertical Stack:\n",
      "0    1\n",
      "1    2\n",
      "2    3\n",
      "0    4\n",
      "1    5\n",
      "2    6\n",
      "dtype: int64\n",
      "\n",
      "Horizontal Stack:\n",
      "   Series 1  Series 2\n",
      "0         1         4\n",
      "1         2         5\n",
      "2         3         6\n"
     ]
    }
   ],
   "source": [
    "import pandas as pd\n",
    "\n",
    "# Create two sample Series\n",
    "series1 = pd.Series([1, 2, 3], name='Series 1')\n",
    "series2 = pd.Series([4, 5, 6], name='Series 2')\n",
    "\n",
    "# Stacking vertically\n",
    "vertical_stack = pd.concat([series1, series2], axis=0)\n",
    "\n",
    "# Stacking horizontally\n",
    "horizontal_stack = pd.concat([series1, series2], axis=1)\n",
    "\n",
    "# Print the results\n",
    "print(\"Vertical Stack:\")\n",
    "print(vertical_stack)\n",
    "\n",
    "print(\"\\nHorizontal Stack:\")\n",
    "print(horizontal_stack)\n"
   ]
  },
  {
   "cell_type": "markdown",
   "metadata": {},
   "source": [
    "#### 38. Write a Pandas program to check the equality of two given series.\n",
    "\n",
    "`Sample Output:`\n",
    "\n",
    "`Original Series:\n",
    "0 1\n",
    "1 8\n",
    "2 7\n",
    "...\n",
    "7 4\n",
    "8 7\n",
    "9 1\n",
    "dtype: int64`\n",
    "\n",
    "`0 1\n",
    "1 8\n",
    "2 7\n",
    "3 5\n",
    ".....\n",
    "8 7\n",
    "9 1\n",
    "dtype: int64`\n",
    "\n",
    "`Check 2 series are equal or not?\n",
    "0 True\n",
    "1 True\n",
    "2 True\n",
    "....\n",
    "7 True\n",
    "8 True\n",
    "9 True\n",
    "dtype: bool`"
   ]
  },
  {
   "cell_type": "code",
   "execution_count": 196,
   "metadata": {},
   "outputs": [
    {
     "data": {
      "text/plain": [
       "0     True\n",
       "1    False\n",
       "2     True\n",
       "3    False\n",
       "4     True\n",
       "5     True\n",
       "dtype: bool"
      ]
     },
     "execution_count": 196,
     "metadata": {},
     "output_type": "execute_result"
    }
   ],
   "source": [
    "\n",
    "a=pd.Series([1, 276, 66, 126, 103, 96])\n",
    "b=pd.Series([1, 275, 66, 125, 103, 96])\n",
    "a==b"
   ]
  },
  {
   "cell_type": "markdown",
   "metadata": {},
   "source": [
    "#### 39. Write a Pandas program to find the index of the first occurrence of the smallest and largest value of a given series.\n",
    "\n",
    "`Sample Output:`\n",
    "\n",
    "`Original Series:\n",
    "0 1\n",
    "1 3\n",
    "2 7\n",
    ".....\n",
    "7 1\n",
    "8 9\n",
    "9 0\n",
    "dtype: int64`\n",
    "\n",
    "`Index of the first occurrence of the smallest and largest value of the said series:\n",
    "9\n",
    "4`"
   ]
  },
  {
   "cell_type": "code",
   "execution_count": 200,
   "metadata": {},
   "outputs": [
    {
     "name": "stdout",
     "output_type": "stream",
     "text": [
      "1\n",
      "0\n"
     ]
    }
   ],
   "source": [
    "a=pd.Series([1, 276, 66, 126, 103, 96,276,1])\n",
    "print(a.idxmax())\n",
    "print(a.idxmin())"
   ]
  },
  {
   "cell_type": "markdown",
   "metadata": {},
   "source": [
    "#### 40. Write a Pandas program to check inequality over the index axis of a given dataframe and a given series.\n",
    "\n",
    "`Sample Output:`\n",
    "\n",
    "`Original DataFrame:\n",
    "W X Y Z\n",
    "0 68.0 78.0 84 86\n",
    "1 75.0 75.0 94 97\n",
    "2 86.0 NaN 89 96\n",
    "3 80.0 80.0 86 72\n",
    "4 NaN 86.0 86 83`\n",
    "\n",
    "`Original Series:\n",
    "0 68.0\n",
    "1 75.0\n",
    "2 86.0\n",
    "3 80.0\n",
    "4 NaN\n",
    "dtype: float64`\n",
    "\n",
    "`Check for inequality of the said series & dataframe:\n",
    "W X Y Z\n",
    "0 False True True True\n",
    "1 False False True True\n",
    "2 False True True True\n",
    "3 False False True True\n",
    "4 True True True True`"
   ]
  },
  {
   "cell_type": "code",
   "execution_count": 205,
   "metadata": {},
   "outputs": [
    {
     "name": "stdout",
     "output_type": "stream",
     "text": [
      "DataFrame:\n",
      "    A   B\n",
      "a  10   5\n",
      "b  20  15\n",
      "c  30  25\n",
      "d  40  35\n",
      "e  50  45\n",
      "\n",
      "Series:\n",
      "a    25\n",
      "b    10\n",
      "c    35\n",
      "d    45\n",
      "e    20\n",
      "dtype: int64\n",
      "\n",
      "Inequality Check (DataFrame > Series):\n",
      "       A      B      a      b      c      d      e\n",
      "a  False  False  False  False  False  False  False\n",
      "b  False  False  False  False  False  False  False\n",
      "c  False  False  False  False  False  False  False\n",
      "d  False  False  False  False  False  False  False\n",
      "e  False  False  False  False  False  False  False\n"
     ]
    }
   ],
   "source": [
    "import pandas as pd\n",
    "\n",
    "# Create a sample DataFrame\n",
    "data = {\n",
    "    'A': [10, 20, 30, 40, 50],\n",
    "    'B': [5, 15, 25, 35, 45]\n",
    "}\n",
    "df = pd.DataFrame(data, index=['a', 'b', 'c', 'd', 'e'])\n",
    "\n",
    "# Create a sample Series with the same index as the DataFrame\n",
    "series = pd.Series([25, 10, 35, 45, 20], index=['a', 'b', 'c', 'd', 'e'])\n",
    "\n",
    "# Check inequality over the index axis\n",
    "inequality_check = df > series\n",
    "\n",
    "print(\"DataFrame:\")\n",
    "print(df)\n",
    "print(\"\\nSeries:\")\n",
    "print(series)\n",
    "print(\"\\nInequality Check (DataFrame > Series):\")\n",
    "print(inequality_check)\n"
   ]
  },
  {
   "cell_type": "code",
   "execution_count": null,
   "metadata": {},
   "outputs": [],
   "source": []
  },
  {
   "cell_type": "code",
   "execution_count": null,
   "metadata": {},
   "outputs": [],
   "source": []
  },
  {
   "cell_type": "code",
   "execution_count": null,
   "metadata": {},
   "outputs": [],
   "source": []
  },
  {
   "cell_type": "code",
   "execution_count": null,
   "metadata": {},
   "outputs": [],
   "source": []
  },
  {
   "cell_type": "code",
   "execution_count": null,
   "metadata": {},
   "outputs": [],
   "source": []
  },
  {
   "cell_type": "code",
   "execution_count": null,
   "metadata": {},
   "outputs": [],
   "source": []
  },
  {
   "cell_type": "code",
   "execution_count": null,
   "metadata": {},
   "outputs": [],
   "source": []
  },
  {
   "cell_type": "code",
   "execution_count": null,
   "metadata": {},
   "outputs": [],
   "source": []
  },
  {
   "cell_type": "code",
   "execution_count": null,
   "metadata": {},
   "outputs": [],
   "source": []
  },
  {
   "cell_type": "code",
   "execution_count": null,
   "metadata": {},
   "outputs": [],
   "source": []
  }
 ],
 "metadata": {
  "kernelspec": {
   "display_name": "Python 3",
   "language": "python",
   "name": "python3"
  },
  "language_info": {
   "codemirror_mode": {
    "name": "ipython",
    "version": 3
   },
   "file_extension": ".py",
   "mimetype": "text/x-python",
   "name": "python",
   "nbconvert_exporter": "python",
   "pygments_lexer": "ipython3",
   "version": "3.8.5"
  }
 },
 "nbformat": 4,
 "nbformat_minor": 4
}
